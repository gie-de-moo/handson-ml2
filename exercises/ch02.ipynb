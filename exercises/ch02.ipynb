{
 "cells": [
  {
   "cell_type": "code",
   "execution_count": 2,
   "metadata": {},
   "outputs": [],
   "source": [
    "import os\n",
    "import datetime\n",
    "import parser\n",
    "\n",
    "import pandas as pd\n",
    "import numpy as np\n",
    "import scipy.stats as stats\n",
    "import arviz as az\n",
    "import pymc3 as pm\n",
    "import sklearn\n",
    "\n",
    "import seaborn as sns\n",
    "import matplotlib as mpl\n",
    "import matplotlib.pyplot as plt\n",
    "az.rcParams['stats.hdi_prob'] = 0.89\n",
    "plt.rcParams['figure.figsize'] = (10, 4)\n",
    "plt.rcParams['legend.fontsize']=12\n",
    "plt.rcParams['axes.labelsize']=12\n",
    "plt.rcParams['axes.titlesize']=12\n",
    "plt.rcParams['xtick.labelsize']=10\n",
    "plt.rcParams['ytick.labelsize']=10\n",
    "plt.rcParams['figure.titlesize']=15\n",
    "\n",
    "np.random.seed(42)\n",
    "\n",
    "%matplotlib inline\n",
    "%config Inline.figure_format = 'retina'"
   ]
  },
  {
   "cell_type": "markdown",
   "metadata": {},
   "source": [
    "#### Load data"
   ]
  },
  {
   "cell_type": "code",
   "execution_count": 3,
   "metadata": {},
   "outputs": [],
   "source": [
    "HOUSING_PATH = os.path.join(\"../datasets\", \"housing\")\n",
    "\n",
    "def load_housing_data(housing_path=HOUSING_PATH):\n",
    "    csv_path = os.path.join(housing_path, \"housing.csv\")\n",
    "    return pd.read_csv(csv_path)\n",
    "\n",
    "housing = load_housing_data()"
   ]
  },
  {
   "cell_type": "markdown",
   "metadata": {},
   "source": [
    "#### Stratified Sampling by income category"
   ]
  },
  {
   "cell_type": "code",
   "execution_count": 4,
   "metadata": {},
   "outputs": [],
   "source": [
    "housing[\"income_cat\"] = pd.cut(housing[\"median_income\"],\n",
    "                               bins=[0., 1.5, 3.0, 4.5, 6., np.inf],\n",
    "                               labels=[1, 2, 3, 4, 5])\n",
    "\n",
    "from sklearn.model_selection import StratifiedShuffleSplit\n",
    "\n",
    "split = StratifiedShuffleSplit(n_splits=1, test_size=0.2, random_state=42)\n",
    "for train_index, test_index in split.split(housing, housing[\"income_cat\"]):\n",
    "    strat_train_set = housing.loc[train_index]\n",
    "    strat_test_set = housing.loc[test_index]\n",
    "    \n",
    "for set_ in (strat_train_set, strat_test_set, housing):\n",
    "    set_.drop(\"income_cat\", axis=1, inplace=True)    "
   ]
  },
  {
   "cell_type": "markdown",
   "metadata": {},
   "source": [
    "#### Feature Transformers\n",
    "Steps:\n",
    "\n",
    "1. Cat pipeline\n",
    "   - one hot encode for cat vars  \n",
    "  \n",
    "  \n",
    "2. Num pipeline\n",
    "    - impute na\n",
    "    - add some new features\n",
    "    - standardize for num vars\n",
    "\n",
    "\n",
    "3. Combine with ColumnTransformer"
   ]
  },
  {
   "cell_type": "code",
   "execution_count": 5,
   "metadata": {},
   "outputs": [],
   "source": [
    "from sklearn.pipeline import Pipeline\n",
    "from sklearn.compose import ColumnTransformer\n",
    "from sklearn.base import BaseEstimator, TransformerMixin\n",
    "\n",
    "from sklearn.impute import SimpleImputer\n",
    "from sklearn.preprocessing import OneHotEncoder, StandardScaler"
   ]
  },
  {
   "cell_type": "code",
   "execution_count": 36,
   "metadata": {},
   "outputs": [],
   "source": [
    "num_cols = strat_train_set.select_dtypes(include='number').columns.difference(['median_house_value']).sort_values()\n",
    "cat_cols = strat_train_set.select_dtypes(include='object').columns"
   ]
  },
  {
   "cell_type": "code",
   "execution_count": 53,
   "metadata": {},
   "outputs": [],
   "source": [
    "num_ix_mapper = pd.Series(index=num_cols, data=range(len(num_cols)))\n",
    "rooms_ix, households_ix, pop_ix, bedrooms_ix = num_ix_mapper[['total_rooms', 'households', 'population', 'total_bedrooms']]\n",
    "\n",
    "class AttributesAdder(BaseEstimator, TransformerMixin):\n",
    "    def __init__(self, add_bedrooms_per_room = True):\n",
    "        self.add_bedrooms_per_room = add_bedrooms_per_room\n",
    "    def fit(self, X, y = None):\n",
    "        return self\n",
    "    def transform(self, X):\n",
    "        rooms_per_household = X[:, rooms_ix] / X[:, households_ix]\n",
    "        population_per_household = X[:, pop_ix] / X[:, households_ix]\n",
    "        if self.add_bedrooms_per_room:\n",
    "            bedrooms_per_room = X[:, bedrooms_ix] / X[:, rooms_ix]\n",
    "            return np.c_[X, rooms_per_household, population_per_household, bedrooms_per_room]\n",
    "        else:\n",
    "            return np.c_[X, rooms_per_household, population_per_household]"
   ]
  },
  {
   "cell_type": "code",
   "execution_count": 61,
   "metadata": {},
   "outputs": [],
   "source": [
    "num_pipeline = Pipeline([\n",
    "        ('imputer', SimpleImputer(strategy='median')),\n",
    "        ('attribs_adder', AttributesAdder(add_bedrooms_per_room=True)),\n",
    "        ('std_scaler', StandardScaler()),\n",
    "    ])\n",
    "\n",
    "full_pipeline = ColumnTransformer([\n",
    "    (\"num\", num_pipeline, num_cols),\n",
    "    (\"cat\", OneHotEncoder(), cat_cols),\n",
    "])"
   ]
  },
  {
   "cell_type": "code",
   "execution_count": 63,
   "metadata": {},
   "outputs": [],
   "source": [
    "train_X = full_pipeline.fit_transform(strat_train_set)\n",
    "train_y = strat_train_set['median_house_value']\n",
    "\n",
    "test_X = full_pipeline.transform(strat_test_set)\n",
    "test_y = strat_test_set['median_house_value']"
   ]
  },
  {
   "cell_type": "markdown",
   "metadata": {},
   "source": [
    "#### Exercise 1. Try SVM with GridSearchCV"
   ]
  },
  {
   "cell_type": "code",
   "execution_count": 66,
   "metadata": {},
   "outputs": [],
   "source": [
    "from sklearn.svm import SVR\n",
    "from sklearn.model_selection import cross_val_score\n",
    "from sklearn.model_selection import GridSearchCV, RandomizedSearchCV"
   ]
  },
  {
   "cell_type": "code",
   "execution_count": 78,
   "metadata": {},
   "outputs": [
    {
     "name": "stdout",
     "output_type": "stream",
     "text": [
      "Fitting 5 folds for each of 20 candidates, totalling 100 fits\n"
     ]
    },
    {
     "name": "stderr",
     "output_type": "stream",
     "text": [
      "[Parallel(n_jobs=4)]: Using backend LokyBackend with 4 concurrent workers.\n",
      "[Parallel(n_jobs=4)]: Done  33 tasks      | elapsed:  2.1min\n",
      "[Parallel(n_jobs=4)]: Done 100 out of 100 | elapsed:  8.9min finished\n"
     ]
    },
    {
     "data": {
      "text/plain": [
       "GridSearchCV(cv=5, estimator=SVR(), n_jobs=4,\n",
       "             param_grid=[{'C': [0.5, 1, 2, 4], 'kernel': ['linear']},\n",
       "                         {'C': [0.5, 1, 2, 4], 'gamma': [0.05, 0.1, 0.5, 1],\n",
       "                          'kernel': ['rbf']}],\n",
       "             return_train_score=True, scoring='neg_mean_squared_error',\n",
       "             verbose=2)"
      ]
     },
     "execution_count": 78,
     "metadata": {},
     "output_type": "execute_result"
    }
   ],
   "source": [
    "param_grid = [\n",
    "    {'kernel': ['linear'], \"C\": [0.5, 1, 2, 4]},\n",
    "    {'kernel': ['rbf'], \"C\": [0.5, 1, 2, 4], \"gamma\": [0.05, 0.1, 0.5, 1]}\n",
    "]\n",
    "\n",
    "grid_search = GridSearchCV(SVR(), param_grid, cv = 5, n_jobs=4,\n",
    "                           scoring='neg_mean_squared_error',\n",
    "                           return_train_score=True, verbose=2)\n",
    "\n",
    "grid_search.fit(train_X, train_y)"
   ]
  },
  {
   "cell_type": "code",
   "execution_count": 80,
   "metadata": {},
   "outputs": [
    {
     "data": {
      "text/plain": [
       "98407.97874755673"
      ]
     },
     "execution_count": 80,
     "metadata": {},
     "output_type": "execute_result"
    }
   ],
   "source": [
    "np.sqrt(-grid_search.best_score_)"
   ]
  },
  {
   "cell_type": "code",
   "execution_count": 81,
   "metadata": {},
   "outputs": [
    {
     "data": {
      "text/plain": [
       "{'C': 4, 'kernel': 'linear'}"
      ]
     },
     "execution_count": 81,
     "metadata": {},
     "output_type": "execute_result"
    }
   ],
   "source": [
    "grid_search.best_params_"
   ]
  },
  {
   "cell_type": "code",
   "execution_count": 87,
   "metadata": {},
   "outputs": [
    {
     "name": "stdout",
     "output_type": "stream",
     "text": [
      "98407.97874755673 {'C': 4, 'kernel': 'linear'}\n",
      "107136.26398576611 {'C': 2, 'kernel': 'linear'}\n",
      "112571.9845974018 {'C': 1, 'kernel': 'linear'}\n",
      "115595.79530238075 {'C': 0.5, 'kernel': 'linear'}\n",
      "117797.57469769163 {'C': 4, 'gamma': 0.1, 'kernel': 'rbf'}\n",
      "117854.46605174112 {'C': 4, 'gamma': 0.05, 'kernel': 'rbf'}\n",
      "118361.99343356273 {'C': 2, 'gamma': 0.1, 'kernel': 'rbf'}\n",
      "118379.00983337601 {'C': 2, 'gamma': 0.05, 'kernel': 'rbf'}\n",
      "118573.69774338815 {'C': 4, 'gamma': 0.5, 'kernel': 'rbf'}\n",
      "118638.14057023903 {'C': 1, 'gamma': 0.1, 'kernel': 'rbf'}\n",
      "118646.48325535003 {'C': 1, 'gamma': 0.05, 'kernel': 'rbf'}\n",
      "118750.7191426293 {'C': 2, 'gamma': 0.5, 'kernel': 'rbf'}\n",
      "118776.0249577243 {'C': 0.5, 'gamma': 0.1, 'kernel': 'rbf'}\n",
      "118782.55031155302 {'C': 0.5, 'gamma': 0.05, 'kernel': 'rbf'}\n",
      "118796.03701146161 {'C': 4, 'gamma': 1, 'kernel': 'rbf'}\n",
      "118832.52522524683 {'C': 1, 'gamma': 0.5, 'kernel': 'rbf'}\n",
      "118857.90522178201 {'C': 2, 'gamma': 1, 'kernel': 'rbf'}\n",
      "118874.89705492764 {'C': 0.5, 'gamma': 0.5, 'kernel': 'rbf'}\n",
      "118886.58611084612 {'C': 1, 'gamma': 1, 'kernel': 'rbf'}\n",
      "118903.05475528448 {'C': 0.5, 'gamma': 1, 'kernel': 'rbf'}\n"
     ]
    }
   ],
   "source": [
    "cvres = grid_search.cv_results_\n",
    "for mean_score, params in sorted(zip(cvres['mean_test_score'], cvres['params']), key=lambda x: -x[0]):\n",
    "    print(np.sqrt(-mean_score), params)"
   ]
  },
  {
   "cell_type": "markdown",
   "metadata": {},
   "source": [
    "#### Exercise 2. Try GBM with RandomizedSearchCV"
   ]
  },
  {
   "cell_type": "code",
   "execution_count": 134,
   "metadata": {},
   "outputs": [],
   "source": [
    "from sklearn.ensemble import GradientBoostingRegressor\n",
    "\n",
    "param_distr = {\n",
    "    'loss': ['ls', 'huber'],\n",
    "    'learning_rate': stats.beta(a=2, b=3),\n",
    "    'n_estimators': stats.poisson(mu=400)\n",
    "}\n",
    "\n",
    "gbr = GradientBoostingRegressor()\n",
    "rnd_search = RandomizedSearchCV(gbr, param_distr, n_jobs=4, cv = 5, \n",
    "                                scoring = 'neg_mean_squared_error')"
   ]
  },
  {
   "cell_type": "code",
   "execution_count": 135,
   "metadata": {},
   "outputs": [
    {
     "data": {
      "text/plain": [
       "RandomizedSearchCV(cv=5, estimator=GradientBoostingRegressor(), n_jobs=4,\n",
       "                   param_distributions={'learning_rate': <scipy.stats._distn_infrastructure.rv_frozen object at 0x12c991150>,\n",
       "                                        'loss': ['ls', 'huber'],\n",
       "                                        'n_estimators': <scipy.stats._distn_infrastructure.rv_frozen object at 0x12cb59c90>},\n",
       "                   scoring='neg_mean_squared_error')"
      ]
     },
     "execution_count": 135,
     "metadata": {},
     "output_type": "execute_result"
    }
   ],
   "source": [
    "rnd_search.fit(train_X, train_y)"
   ]
  },
  {
   "cell_type": "code",
   "execution_count": 136,
   "metadata": {},
   "outputs": [
    {
     "data": {
      "text/plain": [
       "47909.740321849975"
      ]
     },
     "execution_count": 136,
     "metadata": {},
     "output_type": "execute_result"
    }
   ],
   "source": [
    "np.sqrt(-rnd_search.best_score_)"
   ]
  },
  {
   "cell_type": "code",
   "execution_count": 141,
   "metadata": {},
   "outputs": [
    {
     "data": {
      "text/plain": [
       "GradientBoostingRegressor(learning_rate=0.18291786545248606, loss='huber',\n",
       "                          n_estimators=451)"
      ]
     },
     "execution_count": 141,
     "metadata": {},
     "output_type": "execute_result"
    }
   ],
   "source": [
    "rnd_search.best_estimator_"
   ]
  },
  {
   "cell_type": "code",
   "execution_count": 142,
   "metadata": {},
   "outputs": [
    {
     "name": "stdout",
     "output_type": "stream",
     "text": [
      "47909.740321849975 {'learning_rate': 0.18291786545248606, 'loss': 'huber', 'n_estimators': 451}\n",
      "47986.054771962044 {'learning_rate': 0.2602220907433682, 'loss': 'ls', 'n_estimators': 426}\n",
      "48136.786179968105 {'learning_rate': 0.3781475651808444, 'loss': 'huber', 'n_estimators': 410}\n",
      "48220.24013647533 {'learning_rate': 0.38379764988574694, 'loss': 'huber', 'n_estimators': 415}\n",
      "48243.00514886824 {'learning_rate': 0.3285220060068744, 'loss': 'ls', 'n_estimators': 391}\n",
      "48286.52839343767 {'learning_rate': 0.1879322789889023, 'loss': 'huber', 'n_estimators': 401}\n",
      "48371.361117778266 {'learning_rate': 0.40283681298841245, 'loss': 'huber', 'n_estimators': 406}\n",
      "49499.847492802095 {'learning_rate': 0.08103668394718797, 'loss': 'huber', 'n_estimators': 413}\n",
      "50377.09902496312 {'learning_rate': 0.5382423197101761, 'loss': 'ls', 'n_estimators': 423}\n",
      "52643.78477466056 {'learning_rate': 0.8502045692168247, 'loss': 'huber', 'n_estimators': 417}\n"
     ]
    }
   ],
   "source": [
    "rndres = rnd_search.cv_results_\n",
    "for mean_score, params in sorted(zip(rndres['mean_test_score'], rndres['params']), key=lambda x: -x[0]):\n",
    "    print(np.sqrt(-mean_score), params)"
   ]
  },
  {
   "cell_type": "code",
   "execution_count": 143,
   "metadata": {},
   "outputs": [
    {
     "data": {
      "text/plain": [
       "[(0.5400896934203869, 'median_income'),\n",
       " (0.16998416389034032, 'INLAND'),\n",
       " (0.09197642811270292, 'pop_per_hhold'),\n",
       " (0.07463681520269037, 'longitude'),\n",
       " (0.05858383287811106, 'latitude'),\n",
       " (0.027606621066973386, 'housing_median_age'),\n",
       " (0.010932494180472489, 'rooms_per_hhold'),\n",
       " (0.00576681436283936, 'bedrooms_per_room'),\n",
       " (0.005225013085998055, 'NEAR BAY'),\n",
       " (0.003538179612449058, 'total_rooms'),\n",
       " (0.0034302060838387323, 'total_bedrooms'),\n",
       " (0.0026523943626369944, 'households'),\n",
       " (0.0025974664236531183, 'NEAR OCEAN'),\n",
       " (0.0017416031390033225, 'population'),\n",
       " (0.0012101959429533073, '<1H OCEAN'),\n",
       " (2.8078234950527344e-05, 'ISLAND')]"
      ]
     },
     "execution_count": 143,
     "metadata": {},
     "output_type": "execute_result"
    }
   ],
   "source": [
    "feature_importances=rnd_search.best_estimator_.feature_importances_\n",
    "\n",
    "extra_attribs = [\"rooms_per_hhold\", \"pop_per_hhold\", \"bedrooms_per_room\"]\n",
    "cat_encoder = full_pipeline.named_transformers_[\"cat\"]\n",
    "cat_one_hot_attribs = list(cat_encoder.categories_[0])\n",
    "attributes = num_cols.tolist() + extra_attribs + cat_one_hot_attribs\n",
    "sorted(zip(feature_importances, attributes), reverse=True)"
   ]
  },
  {
   "cell_type": "markdown",
   "metadata": {},
   "source": [
    "#### Exercise 3. Add a transformer to select only the most important attributes"
   ]
  },
  {
   "cell_type": "code",
   "execution_count": 144,
   "metadata": {},
   "outputs": [],
   "source": [
    "class TopKAttributesPicker(BaseEstimator, TransformerMixin):\n",
    "    def __init__(self, k):\n",
    "        self.k = k\n",
    "    def fit(self, X, y):\n",
    "        gbr = GradientBoostingRegressor(loss='huber', n_estimators=500, learning_rate=0.2)\n",
    "        gbr.fit(X, y)\n",
    "        self.top_k_ix = np.argsort(-gbr.feature_importances_)[:self.k]\n",
    "        return self\n",
    "    def transform(self, X):\n",
    "        return X[:, self.top_k_ix]"
   ]
  },
  {
   "cell_type": "code",
   "execution_count": 145,
   "metadata": {},
   "outputs": [
    {
     "data": {
      "text/plain": [
       "(100, 5)"
      ]
     },
     "execution_count": 145,
     "metadata": {},
     "output_type": "execute_result"
    }
   ],
   "source": [
    "topk_picker = TopKAttributesPicker(k=5)\n",
    "tmp_topk_X = topk_picker.fit_transform(train_X[:100,:], train_y[:100])\n",
    "tmp_topk_X.shape"
   ]
  },
  {
   "cell_type": "markdown",
   "metadata": {},
   "source": [
    "#### Exercise 4. Create a single pipeline for both data prep plus prediction"
   ]
  },
  {
   "cell_type": "code",
   "execution_count": 128,
   "metadata": {},
   "outputs": [
    {
     "data": {
      "text/plain": [
       "(16512, 16)"
      ]
     },
     "execution_count": 128,
     "metadata": {},
     "output_type": "execute_result"
    }
   ],
   "source": [
    "train_X.shape"
   ]
  },
  {
   "cell_type": "code",
   "execution_count": 152,
   "metadata": {},
   "outputs": [],
   "source": [
    "param_grid = {\n",
    "    \"topk_picker__k\": [5, 9, 13],\n",
    "    \"gbr__learning_rate\": [0.7, 0.5, 0.3],\n",
    "    \"gbr__n_estimators\": [300, 600, 900],\n",
    "}\n",
    "\n",
    "e2e_pipeline = Pipeline([\n",
    "    ('data_preper', full_pipeline),\n",
    "    ('topk_picker', TopKAttributesPicker(k=5)),\n",
    "    ('gbr', GradientBoostingRegressor(loss='huber', random_state=42)),\n",
    "    ])\n",
    "\n",
    "cv_reg = GridSearchCV(e2e_pipeline, param_grid = param_grid, cv = 4, n_jobs=4,\n",
    "                     scoring='neg_mean_squared_error', refit=True,\n",
    "                     return_train_score=True)"
   ]
  },
  {
   "cell_type": "code",
   "execution_count": 153,
   "metadata": {
    "collapsed": true,
    "jupyter": {
     "outputs_hidden": true
    }
   },
   "outputs": [
    {
     "data": {
      "text/plain": [
       "GridSearchCV(cv=4,\n",
       "             estimator=Pipeline(steps=[('data_preper',\n",
       "                                        ColumnTransformer(transformers=[('num',\n",
       "                                                                         Pipeline(steps=[('imputer',\n",
       "                                                                                          SimpleImputer(strategy='median')),\n",
       "                                                                                         ('attribs_adder',\n",
       "                                                                                          AttributesAdder()),\n",
       "                                                                                         ('std_scaler',\n",
       "                                                                                          StandardScaler())]),\n",
       "                                                                         Index(['households', 'housing_median_age', 'latitude', 'longitude',\n",
       "       'median_income', 'population', 'total_bedrooms', 'total_room...\n",
       "                                                                        ('cat',\n",
       "                                                                         OneHotEncoder(),\n",
       "                                                                         Index(['ocean_proximity'], dtype='object'))])),\n",
       "                                       ('topk_picker',\n",
       "                                        TopKAttributesPicker(k=5)),\n",
       "                                       ('gbr',\n",
       "                                        GradientBoostingRegressor(loss='huber',\n",
       "                                                                  random_state=42))]),\n",
       "             n_jobs=4,\n",
       "             param_grid={'gbr__learning_rate': [0.7, 0.5, 0.3],\n",
       "                         'gbr__n_estimators': [300, 600, 900],\n",
       "                         'topk_picker__k': [5, 9, 13]},\n",
       "             return_train_score=True, scoring='neg_mean_squared_error')"
      ]
     },
     "execution_count": 153,
     "metadata": {},
     "output_type": "execute_result"
    }
   ],
   "source": [
    "cv_reg.fit(strat_train_set.drop('median_house_value', axis=1), strat_train_set['median_house_value'])"
   ]
  },
  {
   "cell_type": "code",
   "execution_count": 154,
   "metadata": {},
   "outputs": [
    {
     "data": {
      "text/plain": [
       "47981.60583888648"
      ]
     },
     "execution_count": 154,
     "metadata": {},
     "output_type": "execute_result"
    }
   ],
   "source": [
    "np.sqrt(-cv_reg.best_score_)"
   ]
  },
  {
   "cell_type": "code",
   "execution_count": 155,
   "metadata": {},
   "outputs": [
    {
     "data": {
      "text/plain": [
       "{'gbr__learning_rate': 0.3, 'gbr__n_estimators': 600, 'topk_picker__k': 9}"
      ]
     },
     "execution_count": 155,
     "metadata": {},
     "output_type": "execute_result"
    }
   ],
   "source": [
    "cv_reg.best_params_"
   ]
  },
  {
   "cell_type": "markdown",
   "metadata": {},
   "source": [
    "#### Predict on test set"
   ]
  },
  {
   "cell_type": "code",
   "execution_count": 156,
   "metadata": {},
   "outputs": [],
   "source": [
    "test_y_hat = cv_reg.predict(strat_test_set.drop('median_house_value', axis=1))"
   ]
  },
  {
   "cell_type": "code",
   "execution_count": 172,
   "metadata": {},
   "outputs": [],
   "source": [
    "from sklearn.metrics import mean_squared_error\n",
    "test_rmse = np.sqrt(mean_squared_error(strat_test_set['median_house_value'], test_y_hat))\n",
    "pred_diff = test_y_hat - strat_test_set['median_house_value'].to_numpy()"
   ]
  },
  {
   "cell_type": "code",
   "execution_count": 161,
   "metadata": {},
   "outputs": [
    {
     "data": {
      "text/plain": [
       "44325.46634859067"
      ]
     },
     "execution_count": 161,
     "metadata": {},
     "output_type": "execute_result"
    }
   ],
   "source": [
    "test_rmse"
   ]
  },
  {
   "cell_type": "code",
   "execution_count": 173,
   "metadata": {},
   "outputs": [
    {
     "data": {
      "text/html": [
       "<div>\n",
       "<style scoped>\n",
       "    .dataframe tbody tr th:only-of-type {\n",
       "        vertical-align: middle;\n",
       "    }\n",
       "\n",
       "    .dataframe tbody tr th {\n",
       "        vertical-align: top;\n",
       "    }\n",
       "\n",
       "    .dataframe thead th {\n",
       "        text-align: right;\n",
       "    }\n",
       "</style>\n",
       "<table border=\"1\" class=\"dataframe\">\n",
       "  <thead>\n",
       "    <tr style=\"text-align: right;\">\n",
       "      <th></th>\n",
       "      <th>mean</th>\n",
       "      <th>sd</th>\n",
       "      <th>hdi_5.5%</th>\n",
       "      <th>hdi_94.5%</th>\n",
       "    </tr>\n",
       "  </thead>\n",
       "  <tbody>\n",
       "    <tr>\n",
       "      <th>x</th>\n",
       "      <td>-2568.184</td>\n",
       "      <td>44256.365</td>\n",
       "      <td>-65111.132</td>\n",
       "      <td>59324.05</td>\n",
       "    </tr>\n",
       "  </tbody>\n",
       "</table>\n",
       "</div>"
      ],
      "text/plain": [
       "       mean         sd   hdi_5.5%  hdi_94.5%\n",
       "x -2568.184  44256.365 -65111.132   59324.05"
      ]
     },
     "execution_count": 173,
     "metadata": {},
     "output_type": "execute_result"
    }
   ],
   "source": [
    "az.summary(pred_diff, kind=\"stats\")"
   ]
  },
  {
   "cell_type": "code",
   "execution_count": 174,
   "metadata": {},
   "outputs": [
    {
     "data": {
      "text/plain": [
       "<matplotlib.axes._subplots.AxesSubplot at 0x12d8d84d0>"
      ]
     },
     "execution_count": 174,
     "metadata": {},
     "output_type": "execute_result"
    },
    {
     "data": {
      "image/png": "[encoded data removed]",
      "text/plain": [
       "<Figure size 432x288 with 1 Axes>"
      ]
     },
     "metadata": {
      "needs_background": "light"
     },
     "output_type": "display_data"
    }
   ],
   "source": [
    "az.plot_kde(pred_diff)"
   ]
  },
  {
   "cell_type": "code",
   "execution_count": 175,
   "metadata": {},
   "outputs": [
    {
     "data": {
      "text/plain": [
       "count      4128.000000\n",
       "mean      -2568.184028\n",
       "std       44256.365318\n",
       "min     -312219.138649\n",
       "25%      -18862.749411\n",
       "50%        1515.400589\n",
       "75%       19847.317865\n",
       "max      247036.392116\n",
       "dtype: float64"
      ]
     },
     "execution_count": 175,
     "metadata": {},
     "output_type": "execute_result"
    }
   ],
   "source": [
    "pd.Series(pred_diff).describe()"
   ]
  },
  {
   "cell_type": "code",
   "execution_count": 180,
   "metadata": {},
   "outputs": [
    {
     "data": {
      "text/plain": [
       "longitude               -118.33\n",
       "latitude                  34.15\n",
       "housing_median_age           39\n",
       "total_rooms                 493\n",
       "total_bedrooms              168\n",
       "population                  259\n",
       "households                  138\n",
       "median_income            2.3667\n",
       "median_house_value        17500\n",
       "ocean_proximity       <1H OCEAN\n",
       "Name: 5887, dtype: object"
      ]
     },
     "execution_count": 180,
     "metadata": {},
     "output_type": "execute_result"
    }
   ],
   "source": [
    "strat_test_set.iloc[np.argmax(pred_diff), :]"
   ]
  },
  {
   "cell_type": "code",
   "execution_count": 181,
   "metadata": {},
   "outputs": [
    {
     "data": {
      "text/plain": [
       "264536.39211553585"
      ]
     },
     "execution_count": 181,
     "metadata": {},
     "output_type": "execute_result"
    }
   ],
   "source": [
    "test_y_hat[np.argmax(pred_diff)]"
   ]
  },
  {
   "cell_type": "code",
   "execution_count": 182,
   "metadata": {},
   "outputs": [
    {
     "data": {
      "text/plain": [
       "longitude                -117.31\n",
       "latitude                    33.1\n",
       "housing_median_age            15\n",
       "total_rooms                 2392\n",
       "total_bedrooms               446\n",
       "population                   747\n",
       "households                   421\n",
       "median_income             3.5341\n",
       "median_house_value        500001\n",
       "ocean_proximity       NEAR OCEAN\n",
       "Name: 15288, dtype: object"
      ]
     },
     "execution_count": 182,
     "metadata": {},
     "output_type": "execute_result"
    }
   ],
   "source": [
    "strat_test_set.iloc[np.argmin(pred_diff), :]"
   ]
  },
  {
   "cell_type": "code",
   "execution_count": 183,
   "metadata": {},
   "outputs": [
    {
     "data": {
      "text/plain": [
       "187781.86135054473"
      ]
     },
     "execution_count": 183,
     "metadata": {},
     "output_type": "execute_result"
    }
   ],
   "source": [
    "test_y_hat[np.argmin(pred_diff)]"
   ]
  },
  {
   "cell_type": "code",
   "execution_count": 209,
   "metadata": {},
   "outputs": [
    {
     "data": {
      "image/png": "[encoded data removed]",
      "text/plain": [
       "<Figure size 360x360 with 1 Axes>"
      ]
     },
     "metadata": {
      "needs_background": "light"
     },
     "output_type": "display_data"
    }
   ],
   "source": [
    "plt.figure(figsize=(5,5))\n",
    "plt.scatter(strat_test_set['median_house_value'], test_y_hat, alpha=0.1)\n",
    "plt.plot(np.sort(test_y_hat)[:-10], np.sort(test_y_hat)[:-10], 'k--')\n",
    "plt.xlabel(\"predicted house value\")\n",
    "plt.ylabel(\"actual house value\")\n",
    "pass"
   ]
  }
 ],
 "metadata": {
  "kernelspec": {
   "display_name": "Python 3",
   "language": "python",
   "name": "python3"
  },
  "language_info": {
   "codemirror_mode": {
    "name": "ipython",
    "version": 3
   },
   "file_extension": ".py",
   "mimetype": "text/x-python",
   "name": "python",
   "nbconvert_exporter": "python",
   "pygments_lexer": "ipython3",
   "version": "3.7.6"
  }
 },
 "nbformat": 4,
 "nbformat_minor": 4
}
