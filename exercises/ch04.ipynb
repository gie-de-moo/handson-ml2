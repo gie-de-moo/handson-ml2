{
 "cells": [
  {
   "cell_type": "code",
   "execution_count": 4,
   "metadata": {},
   "outputs": [],
   "source": [
    "import numpy as np\n",
    "import pandas as pd\n",
    "import matplotlib.pyplot as plt\n",
    "\n",
    "pd.set_option('precision', 5)\n",
    "pd.set_option('display.max_columns', None)\n",
    "pd.set_option('max_colwidth', None)\n",
    "\n",
    "plt.rcParams['figure.figsize'] = (6, 6)\n",
    "plt.rcParams['axes.labelsize'] = 12\n",
    "plt.rcParams['xtick.labelsize'] = 10\n",
    "plt.rcParams['ytick.labelsize'] = 10\n",
    "plt.rcParams['figure.titlesize'] = 14\n",
    "plt.rcParams['axes.titlesize'] = 12\n",
    "\n",
    "%matplotlib inline"
   ]
  },
  {
   "cell_type": "code",
   "execution_count": 1,
   "metadata": {},
   "outputs": [
    {
     "data": {
      "text/plain": [
       "['data',\n",
       " 'target',\n",
       " 'frame',\n",
       " 'target_names',\n",
       " 'DESCR',\n",
       " 'feature_names',\n",
       " 'filename']"
      ]
     },
     "execution_count": 1,
     "metadata": {},
     "output_type": "execute_result"
    }
   ],
   "source": [
    "from sklearn import datasets\n",
    "iris = datasets.load_iris()\n",
    "list(iris.keys())"
   ]
  },
  {
   "cell_type": "code",
   "execution_count": 2,
   "metadata": {},
   "outputs": [],
   "source": [
    "X = iris[\"data\"][:, (2, 3)]  # petal length, petal width\n",
    "y = iris[\"target\"]"
   ]
  },
  {
   "cell_type": "markdown",
   "metadata": {},
   "source": [
    "We need to add the bias term for every instance ($x_0 = 1$):"
   ]
  },
  {
   "cell_type": "code",
   "execution_count": 5,
   "metadata": {},
   "outputs": [],
   "source": [
    "X_with_bias = np.c_[np.ones([len(X), 1]), X]"
   ]
  },
  {
   "cell_type": "markdown",
   "metadata": {},
   "source": [
    "And let's set the random seed so the output of this exercise solution is reproducible:"
   ]
  },
  {
   "cell_type": "code",
   "execution_count": 100,
   "metadata": {},
   "outputs": [],
   "source": [
    "np.random.seed(2042)"
   ]
  },
  {
   "cell_type": "markdown",
   "metadata": {},
   "source": [
    "Create train, validation and test set"
   ]
  },
  {
   "cell_type": "code",
   "execution_count": 101,
   "metadata": {},
   "outputs": [],
   "source": [
    "valid_ratio, test_ratio = 0.2, 0.2\n",
    "total_size = len(X_with_bias)\n",
    "valid_size, test_size = int(total_size*valid_ratio), int(total_size*test_ratio)\n",
    "train_size = total_size-valid_size-test_size\n",
    "\n",
    "rnd_indices = np.random.permutation(total_size)\n",
    "\n",
    "X_train = X_with_bias[rnd_indices[:train_size]]\n",
    "y_train = y[rnd_indices[:train_size]]\n",
    "X_valid = X_with_bias[rnd_indices[train_size:train_size+valid_size]]\n",
    "y_valid = y[rnd_indices[train_size:train_size+valid_size]]\n",
    "X_test = X_with_bias[rnd_indices[-test_size:]]\n",
    "y_test = y[rnd_indices[-test_size:]]"
   ]
  },
  {
   "cell_type": "markdown",
   "metadata": {},
   "source": [
    "One hot y for matrix multiplication in Batch GD"
   ]
  },
  {
   "cell_type": "code",
   "execution_count": 102,
   "metadata": {},
   "outputs": [],
   "source": [
    "def one_hot(vec):\n",
    "    size = len(np.unique(vec))\n",
    "    return np.identity(size)[vec]"
   ]
  },
  {
   "cell_type": "code",
   "execution_count": 103,
   "metadata": {},
   "outputs": [],
   "source": [
    "y_train_oh = one_hot(y_train)\n",
    "y_valid_oh = one_hot(y_valid)\n",
    "y_test_oh = one_hot(y_test)"
   ]
  },
  {
   "cell_type": "markdown",
   "metadata": {},
   "source": [
    "#### Batch Gradient Descent without regularization"
   ]
  },
  {
   "cell_type": "code",
   "execution_count": 300,
   "metadata": {},
   "outputs": [],
   "source": [
    "def softmax(wx):\n",
    "    e = np.exp(wx)\n",
    "    return e / np.sum(e, axis=1).reshape(-1, 1)"
   ]
  },
  {
   "cell_type": "code",
   "execution_count": 301,
   "metadata": {},
   "outputs": [],
   "source": [
    "def cross_entropy(probs, y_oh):\n",
    "    epsilon = 1e-7\n",
    "    return - np.sum(y_oh * np.log(probs+epsilon)) / len(y_oh)"
   ]
  },
  {
   "cell_type": "code",
   "execution_count": 302,
   "metadata": {},
   "outputs": [
    {
     "name": "stdout",
     "output_type": "stream",
     "text": [
      "epoch\t valid cost\t\t valid accuracy\n",
      "0 \t 2.1739877067282776 \t 0.36666666666666664\n",
      "500 \t 0.39142622529619336 \t 0.9666666666666667\n",
      "1000 \t 0.3032034963761374 \t 0.9666666666666667\n",
      "1500 \t 0.2583495473155962 \t 0.9666666666666667\n",
      "2000 \t 0.23023335912834775 \t 0.9666666666666667\n",
      "2500 \t 0.21070680896127225 \t 0.9666666666666667\n",
      "3000 \t 0.19624595431539246 \t 0.9666666666666667\n",
      "3500 \t 0.18504137712742436 \t 0.9666666666666667\n",
      "4000 \t 0.17606048723147 \t 0.9666666666666667\n",
      "4500 \t 0.1686690166427392 \t 0.9666666666666667\n"
     ]
    }
   ],
   "source": [
    "eta = 0.1     # learning rate\n",
    "n_iterations = 5000\n",
    "m = train_size\n",
    "\n",
    "np.random.seed(43)\n",
    "theta = np.random.randn(X_with_bias.shape[1], 3)    # random initialization\n",
    "\n",
    "best_accuracy = 0.0 #float(\"inf\")\n",
    "min_cost = np.infty\n",
    "best_theta = None\n",
    "best_epoch = None\n",
    "accu_list = []\n",
    "cost_list = []\n",
    "\n",
    "for epoch in range(n_iterations):\n",
    "    lin = X_train.dot(theta)\n",
    "    sig = softmax(lin)\n",
    "    gradients = X_train.T.dot(sig - y_train_oh) / m \n",
    "    theta = theta - eta * gradients\n",
    "    \n",
    "    train_lin = X_train.dot(theta)\n",
    "    valid_lin = X_valid.dot(theta)\n",
    "    \n",
    "    train_accuracy = np.mean(np.argmax(train_lin, axis=1) == y_train)\n",
    "    valid_accuracy = np.mean(np.argmax(valid_lin, axis=1) == y_valid)\n",
    "    accu_list.append([train_accuracy, valid_accuracy])\n",
    "    \n",
    "    train_cost = cross_entropy(softmax(train_lin), y_train_oh)\n",
    "    valid_cost = cross_entropy(softmax(valid_lin), y_valid_oh)\n",
    "    cost_list.append([train_cost, valid_cost])\n",
    "    \n",
    "    if epoch == 0:\n",
    "        print('epoch\\t valid cost\\t\\t valid accuracy')\n",
    "    if epoch % 500 == 0:\n",
    "        print(epoch, '\\t', valid_cost, '\\t', valid_accuracy)\n",
    "    \n",
    "    if valid_cost < min_cost:\n",
    "        min_cost = valid_cost\n",
    "        best_accuracy = valid_accuracy \n",
    "        best_theta = theta\n",
    "        best_epoch = epoch"
   ]
  },
  {
   "cell_type": "code",
   "execution_count": 303,
   "metadata": {},
   "outputs": [
    {
     "data": {
      "text/plain": [
       "4999"
      ]
     },
     "execution_count": 303,
     "metadata": {},
     "output_type": "execute_result"
    }
   ],
   "source": [
    "best_epoch"
   ]
  },
  {
   "cell_type": "code",
   "execution_count": 304,
   "metadata": {},
   "outputs": [
    {
     "data": {
      "text/plain": [
       "0.9666666666666667"
      ]
     },
     "execution_count": 304,
     "metadata": {},
     "output_type": "execute_result"
    }
   ],
   "source": [
    "best_accuracy"
   ]
  },
  {
   "cell_type": "code",
   "execution_count": 305,
   "metadata": {},
   "outputs": [
    {
     "data": {
      "text/plain": [
       "<matplotlib.legend.Legend at 0x11ee5a110>"
      ]
     },
     "execution_count": 305,
     "metadata": {},
     "output_type": "execute_result"
    },
    {
     "data": {
      "image/png": "[encoded data removed]",
      "text/plain": [
       "<Figure size 432x288 with 1 Axes>"
      ]
     },
     "metadata": {
      "needs_background": "light"
     },
     "output_type": "display_data"
    }
   ],
   "source": [
    "plt.plot(np.arange(n_iterations), np.array(cost_list)[:,0], 'b-',  label = 'train set cost')\n",
    "plt.plot(np.arange(n_iterations), np.array(cost_list)[:,1], 'g--', label = 'valid set cost')\n",
    "plt.plot([best_epoch, best_epoch], plt.ylim(), 'k--', label = 'best model found')\n",
    "plt.legend(loc='upper right', fontsize=13)"
   ]
  },
  {
   "cell_type": "code",
   "execution_count": 306,
   "metadata": {},
   "outputs": [
    {
     "data": {
      "text/plain": [
       "<matplotlib.legend.Legend at 0x11eb7ed90>"
      ]
     },
     "execution_count": 306,
     "metadata": {},
     "output_type": "execute_result"
    },
    {
     "data": {
      "image/png": "[encoded data removed]",
      "text/plain": [
       "<Figure size 432x288 with 1 Axes>"
      ]
     },
     "metadata": {
      "needs_background": "light"
     },
     "output_type": "display_data"
    }
   ],
   "source": [
    "plt.plot(np.arange(n_iterations), np.array(accu_list)[:,0], 'b-',  label = 'train set accuracy')\n",
    "plt.plot(np.arange(n_iterations), np.array(accu_list)[:,1], 'g--', label = 'valid set accuracy')\n",
    "plt.plot([best_epoch, best_epoch], [0.2,1], 'k--', label = 'best model found')\n",
    "plt.legend(loc='lower right', fontsize=13)"
   ]
  },
  {
   "cell_type": "markdown",
   "metadata": {},
   "source": [
    "Predict on Test Set"
   ]
  },
  {
   "cell_type": "code",
   "execution_count": 307,
   "metadata": {},
   "outputs": [],
   "source": [
    "test_accuracy = np.mean(np.argmax(X_test.dot(best_theta), axis=1) == y_test)"
   ]
  },
  {
   "cell_type": "code",
   "execution_count": 308,
   "metadata": {},
   "outputs": [
    {
     "name": "stdout",
     "output_type": "stream",
     "text": [
      "Under best model for valid set, Valid set accuracy is 0.97 and Test set's is 0.97.\n"
     ]
    }
   ],
   "source": [
    "print(f\"Under best model for valid set, Valid set accuracy is {best_accuracy:.2f} and Test set's is {test_accuracy:.2f}.\")"
   ]
  },
  {
   "cell_type": "markdown",
   "metadata": {},
   "source": [
    "#### Batch Gradient Descent with l2 regularization and early stopping"
   ]
  },
  {
   "cell_type": "code",
   "execution_count": 309,
   "metadata": {},
   "outputs": [
    {
     "name": "stdout",
     "output_type": "stream",
     "text": [
      "epoch\t valid cost\t\t valid accuracy\n",
      "0 \t 2.4608976921043606 \t 0.36666666666666664\n",
      "200 \t 0.6308207343618663 \t 0.7666666666666667\n",
      "400 \t 0.5775251500802101 \t 0.9\n",
      "600 \t 0.5578069247638868 \t 0.9333333333333333\n",
      "800 \t 0.5475671220558262 \t 0.9666666666666667\n",
      "1000 \t 0.5416289505777242 \t 0.9666666666666667\n",
      "1200 \t 0.5380210152850942 \t 0.9666666666666667\n",
      "1400 \t 0.5357866423502091 \t 0.9666666666666667\n",
      "1600 \t 0.5343992749821476 \t 1.0\n",
      "1800 \t 0.5335475327914019 \t 1.0\n",
      "2000 \t 0.5330390472031126 \t 1.0\n",
      "2200 \t 0.5327515990449028 \t 1.0\n",
      "2400 \t 0.5326061079164086 \t 1.0\n",
      "2600 \t 0.5325508148544884 \t 1.0\n",
      "2692 \t 0.5325457982465033 \t best model\n"
     ]
    }
   ],
   "source": [
    "eta = 0.1     # learning rate\n",
    "n_iterations = 5000\n",
    "m = train_size\n",
    "alpha = 0.1\n",
    "\n",
    "np.random.seed(43)\n",
    "theta = np.random.randn(X_with_bias.shape[1], 3)    # random initialization\n",
    "\n",
    "best_accuracy = 0.0\n",
    "min_cost = float(\"inf\")\n",
    "best_theta = None\n",
    "\n",
    "for epoch in range(n_iterations):\n",
    "    lin = X_train.dot(theta)\n",
    "    sig = softmax(lin)\n",
    "    gradients = X_train.T.dot(sig - y_train_oh) / m + alpha * np.r_[np.zeros((1,theta.shape[1])), theta[1:]]\n",
    "    theta = theta - eta * gradients\n",
    "    \n",
    "    train_lin = X_train.dot(theta)\n",
    "    valid_lin = X_valid.dot(theta)\n",
    "    \n",
    "    train_accuracy = np.mean(np.argmax(train_lin, axis=1) == y_train)\n",
    "    valid_accuracy = np.mean(np.argmax(valid_lin, axis=1) == y_valid)\n",
    "    accu_list.append([train_accuracy, valid_accuracy])\n",
    "    \n",
    "    train_cost = cross_entropy(softmax(train_lin), y_train_oh) + 0.5 * alpha * np.sum(theta[1:]**2)\n",
    "    valid_cost = cross_entropy(softmax(valid_lin), y_valid_oh) + 0.5 * alpha * np.sum(theta[1:]**2)\n",
    "    cost_list.append([train_cost, valid_cost])\n",
    "    \n",
    "    if epoch == 0:\n",
    "        print('epoch\\t valid cost\\t\\t valid accuracy')\n",
    "    if epoch % 200 == 0:\n",
    "        print(epoch, '\\t', valid_cost, '\\t', valid_accuracy)\n",
    "    \n",
    "    if valid_cost < min_cost:\n",
    "        min_cost = valid_cost \n",
    "        best_theta = theta\n",
    "        best_accuracy = valid_accuracy\n",
    "    else:\n",
    "        print(epoch-1, '\\t', min_cost, '\\t', 'best model')\n",
    "        break"
   ]
  },
  {
   "cell_type": "code",
   "execution_count": 310,
   "metadata": {},
   "outputs": [],
   "source": [
    "test_accuracy = np.mean(np.argmax(X_test.dot(best_theta), axis=1) == y_test)"
   ]
  },
  {
   "cell_type": "code",
   "execution_count": 311,
   "metadata": {},
   "outputs": [
    {
     "name": "stdout",
     "output_type": "stream",
     "text": [
      "Under best model for valid set, Valid set accuracy is 1.00 and Test set's is 0.93.\n"
     ]
    }
   ],
   "source": [
    "print(f\"Under best model for valid set, Valid set accuracy is {best_accuracy:.2f} and Test set's is {test_accuracy:.2f}.\")"
   ]
  },
  {
   "cell_type": "markdown",
   "metadata": {},
   "source": [
    "#### plot predictions on the whole dataset"
   ]
  },
  {
   "cell_type": "code",
   "execution_count": 289,
   "metadata": {},
   "outputs": [
    {
     "data": {
      "text/plain": [
       "(array([1. , 0.1]), array([6.9, 2.5]))"
      ]
     },
     "execution_count": 289,
     "metadata": {},
     "output_type": "execute_result"
    }
   ],
   "source": [
    "(X_train[:, 1:]).min(axis=0), (X_train[:, 1:]).max(axis=0)"
   ]
  },
  {
   "cell_type": "code",
   "execution_count": 319,
   "metadata": {},
   "outputs": [
    {
     "data": {
      "image/png": "[encoded data removed]",
      "text/plain": [
       "<Figure size 720x288 with 1 Axes>"
      ]
     },
     "metadata": {
      "needs_background": "light"
     },
     "output_type": "display_data"
    }
   ],
   "source": [
    "x0, x1 = np.meshgrid(\n",
    "    np.linspace(0, 7, 500),\n",
    "    np.linspace(0, 3.5, 500)\n",
    "    )\n",
    "X_new = np.c_[x0.ravel(), x1.ravel()]\n",
    "X_new_with_bias = np.c_[np.ones((len(X_new), 1)), X_new]\n",
    "\n",
    "logits = X_new_with_bias.dot(best_theta)\n",
    "Y_new_probs = softmax(logits)\n",
    "y_new_predict = np.argmax(logits, axis=1)\n",
    "\n",
    "# plot contour (decision boundary) only for class 1 \"versicolor\"\n",
    "zz1 = Y_new_probs[:, 1].reshape(x0.shape)\n",
    "zz = y_new_predict.reshape(x0.shape)\n",
    "\n",
    "plt.figure(figsize=(10, 4))\n",
    "plt.plot(X[y==2, 0], X[y==2, 1], \"g^\", label = 'virginica')\n",
    "plt.plot(X[y==1, 0], X[y==1, 1], \"bs\", label = 'versicolor')\n",
    "plt.plot(X[y==0, 0], X[y==0, 1], \"yo\", label = 'setosa')\n",
    "\n",
    "from matplotlib.colors import ListedColormap\n",
    "custom_cmap = ListedColormap(['#fafab0','#9898ff','#a0faa0'])\n",
    "\n",
    "plt.contourf(x0, x1, zz, cmap=custom_cmap)\n",
    "contour = plt.contour(x0, x1, zz1, cmap=plt.cm.brg)\n",
    "plt.clabel(contour, inline=True, fontsize=10)\n",
    "plt.xlabel(\"Petal length\", fontsize=14)\n",
    "plt.ylabel(\"Petal width\", fontsize=14)\n",
    "plt.legend(loc=\"upper left\", fontsize=14)\n",
    "plt.axis([0, 7, 0, 3.5])\n",
    "plt.show()"
   ]
  },
  {
   "cell_type": "code",
   "execution_count": null,
   "metadata": {},
   "outputs": [],
   "source": []
  }
 ],
 "metadata": {
  "kernelspec": {
   "display_name": "Python 3",
   "language": "python",
   "name": "python3"
  },
  "language_info": {
   "codemirror_mode": {
    "name": "ipython",
    "version": 3
   },
   "file_extension": ".py",
   "mimetype": "text/x-python",
   "name": "python",
   "nbconvert_exporter": "python",
   "pygments_lexer": "ipython3",
   "version": "3.7.6"
  }
 },
 "nbformat": 4,
 "nbformat_minor": 4
}
