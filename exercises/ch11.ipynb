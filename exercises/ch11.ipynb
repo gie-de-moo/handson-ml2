{
 "cells": [
  {
   "cell_type": "code",
   "execution_count": 2,
   "metadata": {},
   "outputs": [
    {
     "name": "stdout",
     "output_type": "stream",
     "text": [
      "The tensorboard extension is already loaded. To reload it, use:\n",
      "  %reload_ext tensorboard\n"
     ]
    }
   ],
   "source": [
    "# Python ≥3.5 is required\n",
    "import sys\n",
    "assert sys.version_info >= (3, 5)\n",
    "\n",
    "# Scikit-Learn ≥0.20 is required\n",
    "import sklearn\n",
    "assert sklearn.__version__ >= \"0.20\"\n",
    "\n",
    "try:\n",
    "    # %tensorflow_version only exists in Colab.\n",
    "    %tensorflow_version 2.x\n",
    "except Exception:\n",
    "    pass\n",
    "\n",
    "# TensorFlow ≥2.0 is required\n",
    "import tensorflow as tf\n",
    "from tensorflow import keras\n",
    "assert tf.__version__ >= \"2.0\"\n",
    "\n",
    "%load_ext tensorboard\n",
    "\n",
    "# Common imports\n",
    "import numpy as np\n",
    "import pandas as pd\n",
    "import os\n",
    "\n",
    "# to make this notebook's output stable across runs\n",
    "np.random.seed(42)\n",
    "\n",
    "# To plot pretty figures\n",
    "%matplotlib inline\n",
    "import matplotlib as mpl\n",
    "import matplotlib.pyplot as plt\n",
    "mpl.rc('axes', labelsize=14)\n",
    "mpl.rc('xtick', labelsize=12)\n",
    "mpl.rc('ytick', labelsize=12)\n",
    "\n",
    "# Where to save the figures\n",
    "PROJECT_ROOT_DIR = \".\"\n",
    "CHAPTER_ID = \"deep\"\n",
    "IMAGES_PATH = os.path.join(PROJECT_ROOT_DIR, \"images\", CHAPTER_ID)\n",
    "os.makedirs(IMAGES_PATH, exist_ok=True)\n",
    "\n",
    "def save_fig(fig_id, tight_layout=True, fig_extension=\"png\", resolution=300):\n",
    "    path = os.path.join(IMAGES_PATH, fig_id + \".\" + fig_extension)\n",
    "    print(\"Saving figure\", fig_id)\n",
    "    if tight_layout:\n",
    "        plt.tight_layout()\n",
    "    plt.savefig(path, format=fig_extension, dpi=resolution)"
   ]
  },
  {
   "cell_type": "markdown",
   "metadata": {},
   "source": [
    "### a. ELU\n",
    "*Exercise: Build a DNN with 20 hidden layers of 100 neurons each (that's too many, but it's the point of this exercise). Use He initialization and the ELU activation function.*"
   ]
  },
  {
   "cell_type": "code",
   "execution_count": 3,
   "metadata": {},
   "outputs": [
    {
     "name": "stdout",
     "output_type": "stream",
     "text": [
      "Downloading data from https://www.cs.toronto.edu/~kriz/cifar-10-python.tar.gz\n",
      "170500096/170498071 [==============================] - 1727s 10us/step\n"
     ]
    }
   ],
   "source": [
    "(X_train_full, y_train_full), (X_test, y_test) = keras.datasets.cifar10.load_data()\n",
    "\n",
    "X_train = X_train_full[5000:]\n",
    "y_train = y_train_full[5000:]\n",
    "# use the first 5000 images as validation set\n",
    "X_valid = X_train_full[:5000]\n",
    "y_valid = y_train_full[:5000]"
   ]
  },
  {
   "cell_type": "code",
   "execution_count": 16,
   "metadata": {},
   "outputs": [
    {
     "data": {
      "text/plain": [
       "((45000, 32, 32, 3), (45000, 1), 10)"
      ]
     },
     "execution_count": 16,
     "metadata": {},
     "output_type": "execute_result"
    }
   ],
   "source": [
    "X_train.shape, y_train.shape, len(np.unique(y_train))"
   ]
  },
  {
   "cell_type": "code",
   "execution_count": 50,
   "metadata": {},
   "outputs": [],
   "source": [
    "keras.backend.clear_session()\n",
    "tf.random.set_seed(42)\n",
    "np.random.seed(42)"
   ]
  },
  {
   "cell_type": "code",
   "execution_count": 51,
   "metadata": {},
   "outputs": [],
   "source": [
    "model = keras.Sequential()\n",
    "model.add(keras.layers.Flatten(input_shape = X_train.shape[1:]))\n",
    "for _ in range(20):\n",
    "    model.add(keras.layers.Dense(units=100, activation='elu', kernel_initializer='he_normal'))\n",
    "model.add(keras.layers.Dense(10, activation='softmax'))"
   ]
  },
  {
   "cell_type": "markdown",
   "metadata": {},
   "source": [
    "### b. Explore lr\n",
    "*Exercise: Using Nadam optimization and early stopping, train the network on the CIFAR10 dataset. You can load it with `keras.datasets.cifar10.load_data()`. The dataset is composed of 60,000 32 × 32–pixel color images (50,000 for training, 10,000 for testing) with 10 classes, so you'll need a softmax output layer with 10 neurons. Remember to search for the right learning rate each time you change the model's architecture or hyperparameters.*"
   ]
  },
  {
   "cell_type": "markdown",
   "metadata": {},
   "source": [
    "Find a reasonable learning rate"
   ]
  },
  {
   "cell_type": "code",
   "execution_count": 41,
   "metadata": {},
   "outputs": [],
   "source": [
    "K = keras.backend\n",
    "\n",
    "class ExponentialLearningRate(keras.callbacks.Callback):\n",
    "    def __init__(self, factor):\n",
    "        self.factor = factor\n",
    "        self.rates = []\n",
    "        self.losses = []\n",
    "    def on_batch_end(self, batch, logs):\n",
    "        self.rates.append(K.get_value(self.model.optimizer.lr))\n",
    "        self.losses.append(logs[\"loss\"])\n",
    "        K.set_value(self.model.optimizer.lr, self.model.optimizer.lr * self.factor)\n",
    "\n",
    "def find_learning_rate(model, X, y, epochs=1, batch_size=32, min_rate=10**-5, max_rate=10):\n",
    "    init_weights = model.get_weights()\n",
    "    iterations = len(X) // batch_size * epochs\n",
    "    factor = np.exp(np.log(max_rate / min_rate) / iterations)\n",
    "    init_lr = K.get_value(model.optimizer.lr)\n",
    "    K.set_value(model.optimizer.lr, min_rate)\n",
    "    exp_lr = ExponentialLearningRate(factor)\n",
    "    history = model.fit(X, y, epochs=epochs, batch_size=batch_size,\n",
    "                        callbacks=[exp_lr])\n",
    "    K.set_value(model.optimizer.lr, init_lr)\n",
    "    model.set_weights(init_weights)\n",
    "    return exp_lr.rates, exp_lr.losses\n",
    "\n",
    "def plot_lr_vs_loss(rates, losses):\n",
    "    plt.plot(rates, losses)\n",
    "    plt.gca().set_xscale('log')\n",
    "    plt.hlines(min(losses), min(rates), max(rates))\n",
    "    plt.axis([min(rates), max(rates), min(losses), (losses[0] + min(losses)) / 2])\n",
    "    plt.xlabel(\"Learning rate\")\n",
    "    plt.ylabel(\"Loss\")"
   ]
  },
  {
   "cell_type": "code",
   "execution_count": 42,
   "metadata": {},
   "outputs": [],
   "source": [
    "lr0 = 5e-4\n",
    "optimizer = keras.optimizers.Nadam(learning_rate=lr0)\n",
    "\n",
    "model.compile(loss='sparse_categorical_crossentropy',\n",
    "             optimizer = optimizer,\n",
    "             metrics = ['accuracy'])"
   ]
  },
  {
   "cell_type": "code",
   "execution_count": 43,
   "metadata": {},
   "outputs": [
    {
     "name": "stdout",
     "output_type": "stream",
     "text": [
      "1407/1407 [==============================] - 10s 7ms/step - loss: nan - accuracy: 0.1066\n"
     ]
    },
    {
     "data": {
      "image/png": "[encoded data removed]",
      "text/plain": [
       "<Figure size 432x288 with 1 Axes>"
      ]
     },
     "metadata": {
      "needs_background": "light"
     },
     "output_type": "display_data"
    }
   ],
   "source": [
    "batch_size = 32\n",
    "rates, losses = find_learning_rate(model, X_train, y_train, epochs=1, batch_size=batch_size)\n",
    "plot_lr_vs_loss(rates, losses)"
   ]
  },
  {
   "cell_type": "markdown",
   "metadata": {},
   "source": [
    "Around 0.05 (50e-3) train loss shoots up. 10 times smaller than that is 0.005 (5e-3). ---> This lr doesnt work well at all.\n",
    "Use what the author used instead. How did he find this rate??"
   ]
  },
  {
   "cell_type": "code",
   "execution_count": 52,
   "metadata": {},
   "outputs": [],
   "source": [
    "optimizer = keras.optimizers.Nadam(learning_rate=5e-5)\n",
    "model.compile(loss='sparse_categorical_crossentropy',\n",
    "             optimizer = optimizer,\n",
    "             metrics = ['accuracy'])"
   ]
  },
  {
   "cell_type": "code",
   "execution_count": 56,
   "metadata": {},
   "outputs": [],
   "source": [
    "run_index = run_index+1 if run_index else 1\n",
    "run_logdir = os.path.join(os.curdir, 'my_cifar10_logs', 'run_{:03d}'.format(run_index))\n",
    "tensorboard_cb = keras.callbacks.TensorBoard(run_logdir)\n",
    "\n",
    "earlystop_cb = keras.callbacks.EarlyStopping(patience=10, restore_best_weights=True)\n",
    "# checkpoint_cb = keras.callbacks.ModelCheckpoint('my_models/cifar10.h5', save_best_only=True)\n",
    "# callbacks = [checkpoint_cb, earlystop_cb, tensorboard_cb]"
   ]
  },
  {
   "cell_type": "code",
   "execution_count": 57,
   "metadata": {
    "collapsed": true,
    "jupyter": {
     "outputs_hidden": true
    }
   },
   "outputs": [
    {
     "name": "stdout",
     "output_type": "stream",
     "text": [
      "Epoch 1/100\n",
      "   1/1407 [..............................] - ETA: 0s - loss: 1.8068 - accuracy: 0.3125WARNING:tensorflow:Callbacks method `on_train_batch_end` is slow compared to the batch time (batch time: 0.0066s vs `on_train_batch_end` time: 0.0335s). Check your callbacks.\n",
      "1407/1407 [==============================] - 9s 6ms/step - loss: 1.8177 - accuracy: 0.3405 - val_loss: 1.7975 - val_accuracy: 0.3436\n",
      "Epoch 2/100\n",
      "1407/1407 [==============================] - 10s 7ms/step - loss: 1.7642 - accuracy: 0.3611 - val_loss: 1.7822 - val_accuracy: 0.3498\n",
      "Epoch 3/100\n",
      "1407/1407 [==============================] - 10s 7ms/step - loss: 1.7181 - accuracy: 0.3780 - val_loss: 1.7215 - val_accuracy: 0.3824\n",
      "Epoch 4/100\n",
      "1407/1407 [==============================] - 10s 7ms/step - loss: 1.6795 - accuracy: 0.3921 - val_loss: 1.7674 - val_accuracy: 0.3760\n",
      "Epoch 5/100\n",
      "1407/1407 [==============================] - 10s 7ms/step - loss: 1.6503 - accuracy: 0.4043 - val_loss: 1.7025 - val_accuracy: 0.3838\n",
      "Epoch 6/100\n",
      "1407/1407 [==============================] - 11s 8ms/step - loss: 1.6228 - accuracy: 0.4136 - val_loss: 1.6487 - val_accuracy: 0.4106\n",
      "Epoch 7/100\n",
      "1407/1407 [==============================] - 11s 8ms/step - loss: 1.5942 - accuracy: 0.4252 - val_loss: 1.6493 - val_accuracy: 0.4042\n",
      "Epoch 8/100\n",
      "1407/1407 [==============================] - 11s 8ms/step - loss: 1.5730 - accuracy: 0.4343 - val_loss: 1.6118 - val_accuracy: 0.4170\n",
      "Epoch 9/100\n",
      "1407/1407 [==============================] - 11s 8ms/step - loss: 1.5528 - accuracy: 0.4412 - val_loss: 1.6356 - val_accuracy: 0.4056\n",
      "Epoch 10/100\n",
      "1407/1407 [==============================] - 12s 9ms/step - loss: 1.5364 - accuracy: 0.4472 - val_loss: 1.6183 - val_accuracy: 0.4148\n",
      "Epoch 11/100\n",
      "1407/1407 [==============================] - 11s 8ms/step - loss: 1.5192 - accuracy: 0.4543 - val_loss: 1.6454 - val_accuracy: 0.4142\n",
      "Epoch 12/100\n",
      "1407/1407 [==============================] - 12s 8ms/step - loss: 1.5002 - accuracy: 0.4620 - val_loss: 1.6074 - val_accuracy: 0.4236\n",
      "Epoch 13/100\n",
      "1407/1407 [==============================] - 14s 10ms/step - loss: 1.4849 - accuracy: 0.4638 - val_loss: 1.5949 - val_accuracy: 0.4262\n",
      "Epoch 14/100\n",
      "1407/1407 [==============================] - 15s 10ms/step - loss: 1.4748 - accuracy: 0.4710 - val_loss: 1.5560 - val_accuracy: 0.4402\n",
      "Epoch 15/100\n",
      "1407/1407 [==============================] - 12s 8ms/step - loss: 1.4596 - accuracy: 0.4772 - val_loss: 1.5684 - val_accuracy: 0.4354\n",
      "Epoch 16/100\n",
      "1407/1407 [==============================] - 11s 8ms/step - loss: 1.4419 - accuracy: 0.4842 - val_loss: 1.5756 - val_accuracy: 0.4462\n",
      "Epoch 17/100\n",
      "1407/1407 [==============================] - 11s 8ms/step - loss: 1.4348 - accuracy: 0.4847 - val_loss: 1.5648 - val_accuracy: 0.4404\n",
      "Epoch 18/100\n",
      "1407/1407 [==============================] - 11s 8ms/step - loss: 1.4204 - accuracy: 0.4895 - val_loss: 1.5508 - val_accuracy: 0.4542\n",
      "Epoch 19/100\n",
      "1407/1407 [==============================] - 11s 8ms/step - loss: 1.4132 - accuracy: 0.4898 - val_loss: 1.5624 - val_accuracy: 0.4386\n",
      "Epoch 20/100\n",
      "1407/1407 [==============================] - 11s 8ms/step - loss: 1.4011 - accuracy: 0.4972 - val_loss: 1.5414 - val_accuracy: 0.4450\n",
      "Epoch 21/100\n",
      "1407/1407 [==============================] - 11s 8ms/step - loss: 1.3915 - accuracy: 0.5000 - val_loss: 1.5529 - val_accuracy: 0.4548\n",
      "Epoch 22/100\n",
      "1407/1407 [==============================] - 11s 8ms/step - loss: 1.3779 - accuracy: 0.5053 - val_loss: 1.5278 - val_accuracy: 0.4566\n",
      "Epoch 23/100\n",
      "1407/1407 [==============================] - 12s 8ms/step - loss: 1.3673 - accuracy: 0.5078 - val_loss: 1.5481 - val_accuracy: 0.4508\n",
      "Epoch 24/100\n",
      "1407/1407 [==============================] - 11s 8ms/step - loss: 1.3588 - accuracy: 0.5121 - val_loss: 1.5524 - val_accuracy: 0.4534\n",
      "Epoch 25/100\n",
      "1407/1407 [==============================] - 11s 8ms/step - loss: 1.3482 - accuracy: 0.5163 - val_loss: 1.5217 - val_accuracy: 0.4626\n",
      "Epoch 26/100\n",
      "1407/1407 [==============================] - 11s 8ms/step - loss: 1.3373 - accuracy: 0.5193 - val_loss: 1.5396 - val_accuracy: 0.4530\n",
      "Epoch 27/100\n",
      "1407/1407 [==============================] - 11s 8ms/step - loss: 1.3278 - accuracy: 0.5213 - val_loss: 1.5760 - val_accuracy: 0.4438\n",
      "Epoch 28/100\n",
      "1407/1407 [==============================] - 11s 8ms/step - loss: 1.3218 - accuracy: 0.5240 - val_loss: 1.5284 - val_accuracy: 0.4562\n",
      "Epoch 29/100\n",
      "1407/1407 [==============================] - 11s 8ms/step - loss: 1.3129 - accuracy: 0.5288 - val_loss: 1.5184 - val_accuracy: 0.4632\n",
      "Epoch 30/100\n",
      "1407/1407 [==============================] - 11s 8ms/step - loss: 1.2992 - accuracy: 0.5336 - val_loss: 1.5942 - val_accuracy: 0.4480\n",
      "Epoch 31/100\n",
      "1407/1407 [==============================] - 12s 8ms/step - loss: 1.2955 - accuracy: 0.5357 - val_loss: 1.5389 - val_accuracy: 0.4628\n",
      "Epoch 32/100\n",
      "1407/1407 [==============================] - 12s 9ms/step - loss: 1.2849 - accuracy: 0.5384 - val_loss: 1.5503 - val_accuracy: 0.4646\n",
      "Epoch 33/100\n",
      "1407/1407 [==============================] - 12s 8ms/step - loss: 1.2787 - accuracy: 0.5402 - val_loss: 1.5534 - val_accuracy: 0.4638\n",
      "Epoch 34/100\n",
      "1407/1407 [==============================] - 12s 9ms/step - loss: 1.2730 - accuracy: 0.5444 - val_loss: 1.5360 - val_accuracy: 0.4610\n",
      "Epoch 35/100\n",
      "1407/1407 [==============================] - 12s 8ms/step - loss: 1.2593 - accuracy: 0.5482 - val_loss: 1.5563 - val_accuracy: 0.4578\n",
      "Epoch 36/100\n",
      "1407/1407 [==============================] - 12s 8ms/step - loss: 1.2550 - accuracy: 0.5491 - val_loss: 1.5785 - val_accuracy: 0.4562\n",
      "Epoch 37/100\n",
      "1407/1407 [==============================] - 13s 9ms/step - loss: 1.2449 - accuracy: 0.5525 - val_loss: 1.5598 - val_accuracy: 0.4586\n",
      "Epoch 38/100\n",
      "1407/1407 [==============================] - 16s 12ms/step - loss: 1.2381 - accuracy: 0.5556 - val_loss: 1.5260 - val_accuracy: 0.4672\n",
      "Epoch 39/100\n",
      "1407/1407 [==============================] - 12s 9ms/step - loss: 1.2271 - accuracy: 0.5584 - val_loss: 1.5464 - val_accuracy: 0.4670\n"
     ]
    }
   ],
   "source": [
    "n_epochs, batch_size = 100, 32\n",
    "history = model.fit(X_train, y_train, epochs = n_epochs,\n",
    "          validation_data=(X_valid, y_valid),\n",
    "          callbacks = [earlystop_cb, tensorboard_cb])"
   ]
  },
  {
   "cell_type": "code",
   "execution_count": 59,
   "metadata": {},
   "outputs": [
    {
     "name": "stdout",
     "output_type": "stream",
     "text": [
      "157/157 [==============================] - 0s 2ms/step - loss: 1.5184 - accuracy: 0.4632\n"
     ]
    },
    {
     "data": {
      "text/plain": [
       "[1.5183756351470947, 0.46320000290870667]"
      ]
     },
     "execution_count": 59,
     "metadata": {},
     "output_type": "execute_result"
    }
   ],
   "source": [
    "# model = keras.models.load_model(\"my_models/cifar10.h5\")\n",
    "model.evaluate(X_valid, y_valid)"
   ]
  },
  {
   "cell_type": "markdown",
   "metadata": {},
   "source": [
    "save and load model leads to different results."
   ]
  },
  {
   "cell_type": "code",
   "execution_count": 63,
   "metadata": {},
   "outputs": [
    {
     "name": "stdout",
     "output_type": "stream",
     "text": [
      "157/157 [==============================] - 0s 1ms/step - loss: 1.5184 - accuracy: 0.1104\n"
     ]
    },
    {
     "data": {
      "text/plain": [
       "[1.5183756351470947, 0.1103999987244606]"
      ]
     },
     "execution_count": 63,
     "metadata": {},
     "output_type": "execute_result"
    }
   ],
   "source": [
    "keras.models.save_model(model, \"my_models/cifar10.h5\")\n",
    "model_loaded = keras.models.load_model(\"my_models/cifar10.h5\")\n",
    "model_loaded.evaluate(X_valid, y_valid)"
   ]
  },
  {
   "cell_type": "code",
   "execution_count": 68,
   "metadata": {},
   "outputs": [
    {
     "name": "stdout",
     "output_type": "stream",
     "text": [
      "157/157 [==============================] - 0s 1ms/step - loss: 1.5184 - accuracy: 0.1104\n"
     ]
    },
    {
     "data": {
      "text/plain": [
       "[1.5183756351470947, 0.1103999987244606]"
      ]
     },
     "execution_count": 68,
     "metadata": {},
     "output_type": "execute_result"
    }
   ],
   "source": [
    "model_loaded = keras.models.load_model(\"my_models/cifar10.h5\")\n",
    "model_loaded.load_weights(\"my_models/cifar10.h5\")\n",
    "model_loaded.evaluate(X_valid, y_valid)"
   ]
  },
  {
   "cell_type": "code",
   "execution_count": 72,
   "metadata": {},
   "outputs": [],
   "source": [
    "loaded_w = model_loaded.get_weights() \n",
    "original_w = model.get_weights()\n",
    "assert len(loaded_w) == len(original_w)\n",
    "for idx in range(len(original_w)):\n",
    "    assert np.array_equal(loaded_w[idx], original_w[idx])"
   ]
  },
  {
   "cell_type": "markdown",
   "metadata": {},
   "source": [
    "No assert errors. But why does the model evaluation return different results?"
   ]
  },
  {
   "cell_type": "code",
   "execution_count": 97,
   "metadata": {},
   "outputs": [
    {
     "name": "stdout",
     "output_type": "stream",
     "text": [
      "157/157 [==============================] - 0s 1ms/step - loss: 1.5184 - accuracy: 0.4632\n",
      "157/157 [==============================] - 0s 1ms/step - loss: 1.5184 - accuracy: 0.1104\n"
     ]
    },
    {
     "data": {
      "text/plain": [
       "[1.5183756351470947, 0.1103999987244606]"
      ]
     },
     "execution_count": 97,
     "metadata": {},
     "output_type": "execute_result"
    }
   ],
   "source": [
    "model.evaluate(X_valid, y_valid)\n",
    "model_loaded.evaluate(X_valid, y_valid)"
   ]
  },
  {
   "cell_type": "code",
   "execution_count": 78,
   "metadata": {},
   "outputs": [
    {
     "data": {
      "text/plain": [
       "True"
      ]
     },
     "execution_count": 78,
     "metadata": {},
     "output_type": "execute_result"
    }
   ],
   "source": [
    "np.array_equal(model.predict_proba(X_valid), model_loaded.predict_proba(X_valid))"
   ]
  },
  {
   "cell_type": "code",
   "execution_count": 79,
   "metadata": {},
   "outputs": [],
   "source": [
    "from sklearn.metrics import accuracy_score"
   ]
  },
  {
   "cell_type": "code",
   "execution_count": 90,
   "metadata": {},
   "outputs": [
    {
     "name": "stdout",
     "output_type": "stream",
     "text": [
      "Original Model Validation Accuracy 0.4632\n",
      "Loaded Model Validation Accuracy 0.4632\n"
     ]
    }
   ],
   "source": [
    "print('Original Model Validation Accuracy', accuracy_score(y_valid, np.argmax(model.predict_proba(X_valid),axis=1).reshape(-1, 1)))\n",
    "print('Loaded Model Validation Accuracy', accuracy_score(y_valid, np.argmax(model_loaded.predict_proba(X_valid),axis=1).reshape(-1, 1)))"
   ]
  },
  {
   "cell_type": "markdown",
   "metadata": {},
   "source": [
    "**Reloaded model returns different results/predictions when using loaded_model.evaluate(), even though the weights are correct and the same as the original model. Using model.predict_proba will give the correct evaluation.**"
   ]
  },
  {
   "cell_type": "markdown",
   "metadata": {},
   "source": [
    "### c. Batch Normalization\n",
    "*Exercise: Now try adding Batch Normalization and compare the learning curves: Is it converging faster than before? Does it produce a better model? How does it affect training speed?*"
   ]
  },
  {
   "cell_type": "markdown",
   "metadata": {},
   "source": [
    "Things to try out:\n",
    "- two BN models: 1. BN after activiation 2. BN before activation\n",
    "- try out several learning rates, compare their validation loss after 20 epochs & pick the best one\n",
    "- rename run directories to run_bn_* and the model file name to cifar10_bn_[bf|af]_model.h5"
   ]
  },
  {
   "cell_type": "code",
   "execution_count": 119,
   "metadata": {},
   "outputs": [],
   "source": [
    "from collections import defaultdict"
   ]
  },
  {
   "cell_type": "code",
   "execution_count": 121,
   "metadata": {
    "collapsed": true,
    "jupyter": {
     "outputs_hidden": true
    }
   },
   "outputs": [
    {
     "name": "stdout",
     "output_type": "stream",
     "text": [
      "Epoch 1/20\n",
      "1407/1407 [==============================] - 15s 11ms/step - loss: 2.5833 - accuracy: 0.1372 - val_loss: 2.3243 - val_accuracy: 0.1854\n",
      "Epoch 2/20\n",
      "1407/1407 [==============================] - 15s 11ms/step - loss: 2.2340 - accuracy: 0.2030 - val_loss: 2.1113 - val_accuracy: 0.2442\n",
      "Epoch 3/20\n",
      "1407/1407 [==============================] - 16s 11ms/step - loss: 2.0992 - accuracy: 0.2450 - val_loss: 1.9924 - val_accuracy: 0.2856\n",
      "Epoch 4/20\n",
      "1407/1407 [==============================] - 16s 12ms/step - loss: 2.0138 - accuracy: 0.2721 - val_loss: 1.9116 - val_accuracy: 0.3146\n",
      "Epoch 5/20\n",
      "1407/1407 [==============================] - 17s 12ms/step - loss: 1.9473 - accuracy: 0.2986 - val_loss: 1.8598 - val_accuracy: 0.3256\n",
      "Epoch 6/20\n",
      "1407/1407 [==============================] - 17s 12ms/step - loss: 1.8995 - accuracy: 0.3155 - val_loss: 1.8181 - val_accuracy: 0.3414\n",
      "Epoch 7/20\n",
      "1407/1407 [==============================] - 18s 13ms/step - loss: 1.8634 - accuracy: 0.3311 - val_loss: 1.7774 - val_accuracy: 0.3538\n",
      "Epoch 8/20\n",
      "1407/1407 [==============================] - 18s 13ms/step - loss: 1.8352 - accuracy: 0.3398 - val_loss: 1.7587 - val_accuracy: 0.3624\n",
      "Epoch 9/20\n",
      "1407/1407 [==============================] - 17s 12ms/step - loss: 1.8058 - accuracy: 0.3534 - val_loss: 1.7329 - val_accuracy: 0.3718\n",
      "Epoch 10/20\n",
      "1407/1407 [==============================] - 17s 12ms/step - loss: 1.7827 - accuracy: 0.3628 - val_loss: 1.7123 - val_accuracy: 0.3788\n",
      "Epoch 11/20\n",
      "1407/1407 [==============================] - 17s 12ms/step - loss: 1.7652 - accuracy: 0.3706 - val_loss: 1.6928 - val_accuracy: 0.3924\n",
      "Epoch 12/20\n",
      "1407/1407 [==============================] - 17s 12ms/step - loss: 1.7445 - accuracy: 0.3773 - val_loss: 1.6757 - val_accuracy: 0.3936\n",
      "Epoch 13/20\n",
      "1407/1407 [==============================] - 18s 12ms/step - loss: 1.7235 - accuracy: 0.3850 - val_loss: 1.6565 - val_accuracy: 0.4056\n",
      "Epoch 14/20\n",
      "1407/1407 [==============================] - 17s 12ms/step - loss: 1.7129 - accuracy: 0.3893 - val_loss: 1.6412 - val_accuracy: 0.4160\n",
      "Epoch 15/20\n",
      "1407/1407 [==============================] - 18s 13ms/step - loss: 1.6956 - accuracy: 0.3942 - val_loss: 1.6281 - val_accuracy: 0.4132\n",
      "Epoch 16/20\n",
      "1407/1407 [==============================] - 18s 13ms/step - loss: 1.6853 - accuracy: 0.4013 - val_loss: 1.6173 - val_accuracy: 0.4238\n",
      "Epoch 17/20\n",
      "1407/1407 [==============================] - 18s 13ms/step - loss: 1.6693 - accuracy: 0.4042 - val_loss: 1.6054 - val_accuracy: 0.4262\n",
      "Epoch 18/20\n",
      "1407/1407 [==============================] - 18s 13ms/step - loss: 1.6552 - accuracy: 0.4096 - val_loss: 1.5965 - val_accuracy: 0.4250\n",
      "Epoch 19/20\n",
      "1407/1407 [==============================] - 18s 13ms/step - loss: 1.6481 - accuracy: 0.4122 - val_loss: 1.5859 - val_accuracy: 0.4376\n",
      "Epoch 20/20\n",
      "1407/1407 [==============================] - 17s 12ms/step - loss: 1.6308 - accuracy: 0.4194 - val_loss: 1.5774 - val_accuracy: 0.4356\n",
      "Epoch 1/20\n",
      "1407/1407 [==============================] - 19s 13ms/step - loss: 1.6356 - accuracy: 0.4189 - val_loss: 1.5745 - val_accuracy: 0.4396\n",
      "Epoch 2/20\n",
      "1407/1407 [==============================] - 17s 12ms/step - loss: 1.6151 - accuracy: 0.4269 - val_loss: 1.5607 - val_accuracy: 0.4464\n",
      "Epoch 3/20\n",
      "1407/1407 [==============================] - 17s 12ms/step - loss: 1.5902 - accuracy: 0.4351 - val_loss: 1.5317 - val_accuracy: 0.4540\n",
      "Epoch 4/20\n",
      "1407/1407 [==============================] - 19s 13ms/step - loss: 1.5697 - accuracy: 0.4405 - val_loss: 1.5195 - val_accuracy: 0.4526\n",
      "Epoch 5/20\n",
      "1407/1407 [==============================] - 19s 14ms/step - loss: 1.5515 - accuracy: 0.4501 - val_loss: 1.4993 - val_accuracy: 0.4666\n",
      "Epoch 6/20\n",
      "1407/1407 [==============================] - 20s 14ms/step - loss: 1.5318 - accuracy: 0.4562 - val_loss: 1.4954 - val_accuracy: 0.4724\n",
      "Epoch 7/20\n",
      "1407/1407 [==============================] - 20s 14ms/step - loss: 1.5165 - accuracy: 0.4642 - val_loss: 1.4795 - val_accuracy: 0.4770\n",
      "Epoch 8/20\n",
      "1407/1407 [==============================] - 18s 13ms/step - loss: 1.5000 - accuracy: 0.4710 - val_loss: 1.4752 - val_accuracy: 0.4688\n",
      "Epoch 9/20\n",
      "1407/1407 [==============================] - 19s 13ms/step - loss: 1.4841 - accuracy: 0.4750 - val_loss: 1.4598 - val_accuracy: 0.4834\n",
      "Epoch 10/20\n",
      "1407/1407 [==============================] - 17s 12ms/step - loss: 1.4717 - accuracy: 0.4804 - val_loss: 1.4604 - val_accuracy: 0.4800\n",
      "Epoch 11/20\n",
      "1407/1407 [==============================] - 15s 11ms/step - loss: 1.4602 - accuracy: 0.4800 - val_loss: 1.4482 - val_accuracy: 0.4878\n",
      "Epoch 12/20\n",
      "1407/1407 [==============================] - 15s 10ms/step - loss: 1.4439 - accuracy: 0.4886 - val_loss: 1.4451 - val_accuracy: 0.4912\n",
      "Epoch 13/20\n",
      "1407/1407 [==============================] - 14s 10ms/step - loss: 1.4359 - accuracy: 0.4893 - val_loss: 1.4424 - val_accuracy: 0.4892\n",
      "Epoch 14/20\n",
      "1407/1407 [==============================] - 14s 10ms/step - loss: 1.4266 - accuracy: 0.4960 - val_loss: 1.4251 - val_accuracy: 0.4976\n",
      "Epoch 15/20\n",
      "1407/1407 [==============================] - 14s 10ms/step - loss: 1.4114 - accuracy: 0.4983 - val_loss: 1.4357 - val_accuracy: 0.4884\n",
      "Epoch 16/20\n",
      "1407/1407 [==============================] - 15s 10ms/step - loss: 1.4100 - accuracy: 0.5000 - val_loss: 1.4248 - val_accuracy: 0.5012\n",
      "Epoch 17/20\n",
      "1407/1407 [==============================] - 14s 10ms/step - loss: 1.3928 - accuracy: 0.5072 - val_loss: 1.4293 - val_accuracy: 0.5030\n",
      "Epoch 18/20\n",
      "1407/1407 [==============================] - 15s 10ms/step - loss: 1.3791 - accuracy: 0.5107 - val_loss: 1.4147 - val_accuracy: 0.5082\n",
      "Epoch 19/20\n",
      "1407/1407 [==============================] - 15s 10ms/step - loss: 1.3717 - accuracy: 0.5126 - val_loss: 1.4081 - val_accuracy: 0.5124\n",
      "Epoch 20/20\n",
      "1407/1407 [==============================] - 15s 11ms/step - loss: 1.3616 - accuracy: 0.5169 - val_loss: 1.4106 - val_accuracy: 0.5034\n",
      "Epoch 1/20\n",
      "1407/1407 [==============================] - 16s 11ms/step - loss: 1.3739 - accuracy: 0.5108 - val_loss: 1.4349 - val_accuracy: 0.4988\n",
      "Epoch 2/20\n",
      "1407/1407 [==============================] - 16s 11ms/step - loss: 1.3582 - accuracy: 0.5156 - val_loss: 1.4223 - val_accuracy: 0.4990\n",
      "Epoch 3/20\n",
      "1407/1407 [==============================] - 16s 11ms/step - loss: 1.3485 - accuracy: 0.5221 - val_loss: 1.4179 - val_accuracy: 0.5074\n",
      "Epoch 4/20\n",
      "1407/1407 [==============================] - 16s 11ms/step - loss: 1.3398 - accuracy: 0.5239 - val_loss: 1.3996 - val_accuracy: 0.5092\n",
      "Epoch 5/20\n",
      "1407/1407 [==============================] - 16s 11ms/step - loss: 1.3306 - accuracy: 0.5274 - val_loss: 1.4041 - val_accuracy: 0.5090\n",
      "Epoch 6/20\n",
      "1407/1407 [==============================] - 16s 11ms/step - loss: 1.3187 - accuracy: 0.5327 - val_loss: 1.4000 - val_accuracy: 0.5070\n",
      "Epoch 7/20\n",
      "1407/1407 [==============================] - 16s 11ms/step - loss: 1.3101 - accuracy: 0.5377 - val_loss: 1.4001 - val_accuracy: 0.5072\n",
      "Epoch 8/20\n",
      "1407/1407 [==============================] - 16s 11ms/step - loss: 1.2947 - accuracy: 0.5416 - val_loss: 1.3884 - val_accuracy: 0.5102\n",
      "Epoch 9/20\n",
      "1407/1407 [==============================] - 16s 11ms/step - loss: 1.2842 - accuracy: 0.5444 - val_loss: 1.3821 - val_accuracy: 0.5192\n",
      "Epoch 10/20\n",
      "1407/1407 [==============================] - 16s 11ms/step - loss: 1.2791 - accuracy: 0.5484 - val_loss: 1.3808 - val_accuracy: 0.5228\n",
      "Epoch 11/20\n",
      "1407/1407 [==============================] - 16s 11ms/step - loss: 1.2714 - accuracy: 0.5502 - val_loss: 1.3853 - val_accuracy: 0.5172\n",
      "Epoch 12/20\n",
      "1407/1407 [==============================] - 16s 11ms/step - loss: 1.2572 - accuracy: 0.5556 - val_loss: 1.4019 - val_accuracy: 0.5096\n",
      "Epoch 13/20\n",
      "1407/1407 [==============================] - 16s 11ms/step - loss: 1.2519 - accuracy: 0.5543 - val_loss: 1.3838 - val_accuracy: 0.5176\n",
      "Epoch 14/20\n",
      "1407/1407 [==============================] - 16s 11ms/step - loss: 1.2473 - accuracy: 0.5583 - val_loss: 1.3851 - val_accuracy: 0.5172\n",
      "Epoch 15/20\n",
      "1407/1407 [==============================] - 16s 11ms/step - loss: 1.2305 - accuracy: 0.5604 - val_loss: 1.3944 - val_accuracy: 0.5166\n",
      "Epoch 16/20\n",
      "1407/1407 [==============================] - 16s 11ms/step - loss: 1.2302 - accuracy: 0.5625 - val_loss: 1.3811 - val_accuracy: 0.5216\n",
      "Epoch 17/20\n",
      "1407/1407 [==============================] - 16s 11ms/step - loss: 1.2216 - accuracy: 0.5691 - val_loss: 1.3879 - val_accuracy: 0.5258\n",
      "Epoch 18/20\n",
      "1407/1407 [==============================] - 16s 11ms/step - loss: 1.2062 - accuracy: 0.5733 - val_loss: 1.3832 - val_accuracy: 0.5268\n",
      "Epoch 19/20\n",
      "1407/1407 [==============================] - 16s 12ms/step - loss: 1.2026 - accuracy: 0.5755 - val_loss: 1.3867 - val_accuracy: 0.5218\n",
      "Epoch 20/20\n",
      "1407/1407 [==============================] - 16s 11ms/step - loss: 1.1936 - accuracy: 0.5773 - val_loss: 1.3925 - val_accuracy: 0.5172\n",
      "Epoch 1/20\n",
      "1407/1407 [==============================] - 16s 11ms/step - loss: 1.2438 - accuracy: 0.5589 - val_loss: 1.4291 - val_accuracy: 0.5050\n",
      "Epoch 2/20\n",
      "1407/1407 [==============================] - 16s 11ms/step - loss: 1.2372 - accuracy: 0.5596 - val_loss: 1.3971 - val_accuracy: 0.5146\n",
      "Epoch 3/20\n",
      "1407/1407 [==============================] - 16s 11ms/step - loss: 1.2304 - accuracy: 0.5656 - val_loss: 1.3985 - val_accuracy: 0.5158\n",
      "Epoch 4/20\n",
      "1407/1407 [==============================] - 16s 11ms/step - loss: 1.2247 - accuracy: 0.5638 - val_loss: 1.3780 - val_accuracy: 0.5144\n",
      "Epoch 5/20\n",
      "1407/1407 [==============================] - 16s 11ms/step - loss: 1.2138 - accuracy: 0.5723 - val_loss: 1.3955 - val_accuracy: 0.5210\n",
      "Epoch 6/20\n",
      "1407/1407 [==============================] - 16s 11ms/step - loss: 1.2068 - accuracy: 0.5748 - val_loss: 1.3889 - val_accuracy: 0.5178\n",
      "Epoch 7/20\n",
      "1407/1407 [==============================] - 16s 11ms/step - loss: 1.1931 - accuracy: 0.5782 - val_loss: 1.3929 - val_accuracy: 0.5134\n",
      "Epoch 8/20\n",
      "1407/1407 [==============================] - 16s 11ms/step - loss: 1.1824 - accuracy: 0.5805 - val_loss: 1.3769 - val_accuracy: 0.5178\n",
      "Epoch 9/20\n",
      "1407/1407 [==============================] - 16s 11ms/step - loss: 1.1697 - accuracy: 0.5847 - val_loss: 1.3907 - val_accuracy: 0.5278\n",
      "Epoch 10/20\n",
      "1407/1407 [==============================] - 16s 11ms/step - loss: 1.1675 - accuracy: 0.5888 - val_loss: 1.3841 - val_accuracy: 0.5238\n",
      "Epoch 11/20\n",
      "1407/1407 [==============================] - 16s 11ms/step - loss: 1.1594 - accuracy: 0.5905 - val_loss: 1.3921 - val_accuracy: 0.5160\n",
      "Epoch 12/20\n",
      "1407/1407 [==============================] - 16s 11ms/step - loss: 1.1471 - accuracy: 0.5965 - val_loss: 1.3890 - val_accuracy: 0.5160\n",
      "Epoch 13/20\n",
      "1407/1407 [==============================] - 16s 11ms/step - loss: 1.1359 - accuracy: 0.5960 - val_loss: 1.3998 - val_accuracy: 0.5290\n",
      "Epoch 14/20\n",
      "1407/1407 [==============================] - 16s 11ms/step - loss: 1.1325 - accuracy: 0.5994 - val_loss: 1.3916 - val_accuracy: 0.5204\n",
      "Epoch 15/20\n",
      "1407/1407 [==============================] - 16s 12ms/step - loss: 1.1181 - accuracy: 0.6029 - val_loss: 1.3868 - val_accuracy: 0.5310\n",
      "Epoch 16/20\n",
      "1407/1407 [==============================] - 16s 11ms/step - loss: 1.1181 - accuracy: 0.6036 - val_loss: 1.3849 - val_accuracy: 0.5308\n",
      "Epoch 17/20\n",
      "1407/1407 [==============================] - 16s 12ms/step - loss: 1.1098 - accuracy: 0.6062 - val_loss: 1.3735 - val_accuracy: 0.5332\n",
      "Epoch 18/20\n",
      "1407/1407 [==============================] - 16s 12ms/step - loss: 1.0931 - accuracy: 0.6121 - val_loss: 1.3833 - val_accuracy: 0.5332\n",
      "Epoch 19/20\n",
      "1407/1407 [==============================] - 17s 12ms/step - loss: 1.0909 - accuracy: 0.6120 - val_loss: 1.4033 - val_accuracy: 0.5216\n",
      "Epoch 20/20\n",
      "1407/1407 [==============================] - 16s 12ms/step - loss: 1.0824 - accuracy: 0.6166 - val_loss: 1.4041 - val_accuracy: 0.5274\n",
      "Epoch 1/20\n",
      "1407/1407 [==============================] - 16s 11ms/step - loss: 1.2676 - accuracy: 0.5520 - val_loss: 1.4593 - val_accuracy: 0.4986\n",
      "Epoch 2/20\n",
      "1407/1407 [==============================] - 16s 11ms/step - loss: 1.2588 - accuracy: 0.5542 - val_loss: 1.4311 - val_accuracy: 0.5080\n",
      "Epoch 3/20\n",
      "1407/1407 [==============================] - 16s 11ms/step - loss: 1.2422 - accuracy: 0.5629 - val_loss: 1.4417 - val_accuracy: 0.4992\n",
      "Epoch 4/20\n",
      "1407/1407 [==============================] - 16s 11ms/step - loss: 1.2394 - accuracy: 0.5613 - val_loss: 1.4423 - val_accuracy: 0.5034\n",
      "Epoch 5/20\n",
      "1407/1407 [==============================] - 16s 11ms/step - loss: 1.2218 - accuracy: 0.5708 - val_loss: 1.3945 - val_accuracy: 0.5182\n",
      "Epoch 6/20\n",
      "1407/1407 [==============================] - 16s 11ms/step - loss: 1.2134 - accuracy: 0.5724 - val_loss: 1.3951 - val_accuracy: 0.5290\n",
      "Epoch 7/20\n",
      "1407/1407 [==============================] - 16s 11ms/step - loss: 1.1972 - accuracy: 0.5772 - val_loss: 1.4057 - val_accuracy: 0.5162\n",
      "Epoch 8/20\n",
      "1407/1407 [==============================] - 16s 11ms/step - loss: 1.1829 - accuracy: 0.5850 - val_loss: 1.4035 - val_accuracy: 0.5218\n",
      "Epoch 9/20\n",
      "1407/1407 [==============================] - 16s 11ms/step - loss: 1.1648 - accuracy: 0.5914 - val_loss: 1.3741 - val_accuracy: 0.5292\n",
      "Epoch 10/20\n",
      "1407/1407 [==============================] - 16s 11ms/step - loss: 1.1497 - accuracy: 0.5948 - val_loss: 1.3717 - val_accuracy: 0.5390\n",
      "Epoch 11/20\n",
      "1407/1407 [==============================] - 16s 11ms/step - loss: 1.1416 - accuracy: 0.5986 - val_loss: 1.3754 - val_accuracy: 0.5322\n",
      "Epoch 12/20\n",
      "1407/1407 [==============================] - 16s 11ms/step - loss: 1.1238 - accuracy: 0.6038 - val_loss: 1.3842 - val_accuracy: 0.5202\n",
      "Epoch 13/20\n",
      "1407/1407 [==============================] - 16s 12ms/step - loss: 1.1124 - accuracy: 0.6086 - val_loss: 1.4157 - val_accuracy: 0.5290\n",
      "Epoch 14/20\n",
      "1407/1407 [==============================] - 16s 12ms/step - loss: 1.1025 - accuracy: 0.6113 - val_loss: 1.3716 - val_accuracy: 0.5318\n",
      "Epoch 15/20\n",
      "1407/1407 [==============================] - 16s 12ms/step - loss: 1.0887 - accuracy: 0.6172 - val_loss: 1.3941 - val_accuracy: 0.5276\n",
      "Epoch 16/20\n",
      "1407/1407 [==============================] - 16s 11ms/step - loss: 1.0840 - accuracy: 0.6167 - val_loss: 1.3826 - val_accuracy: 0.5308\n",
      "Epoch 17/20\n",
      "1407/1407 [==============================] - 16s 11ms/step - loss: 1.0698 - accuracy: 0.6216 - val_loss: 1.3734 - val_accuracy: 0.5360\n",
      "Epoch 18/20\n",
      "1407/1407 [==============================] - 16s 11ms/step - loss: 1.0569 - accuracy: 0.6267 - val_loss: 1.3704 - val_accuracy: 0.5326\n",
      "Epoch 19/20\n",
      "1407/1407 [==============================] - 16s 11ms/step - loss: 1.0530 - accuracy: 0.6283 - val_loss: 1.3920 - val_accuracy: 0.5386\n",
      "Epoch 20/20\n",
      "1407/1407 [==============================] - 16s 11ms/step - loss: 1.0377 - accuracy: 0.6349 - val_loss: 1.4290 - val_accuracy: 0.5258\n",
      "Epoch 1/20\n",
      "1407/1407 [==============================] - 16s 12ms/step - loss: 1.1298 - accuracy: 0.6035 - val_loss: 1.4954 - val_accuracy: 0.4986\n",
      "Epoch 2/20\n",
      "1407/1407 [==============================] - 16s 12ms/step - loss: 1.1215 - accuracy: 0.6055 - val_loss: 1.4506 - val_accuracy: 0.5114\n",
      "Epoch 3/20\n",
      "1407/1407 [==============================] - 17s 12ms/step - loss: 1.1188 - accuracy: 0.6062 - val_loss: 1.4521 - val_accuracy: 0.5046\n",
      "Epoch 4/20\n",
      "1407/1407 [==============================] - 17s 12ms/step - loss: 1.1175 - accuracy: 0.6093 - val_loss: 1.4644 - val_accuracy: 0.5048\n",
      "Epoch 5/20\n",
      "1407/1407 [==============================] - 17s 12ms/step - loss: 1.1009 - accuracy: 0.6160 - val_loss: 1.4223 - val_accuracy: 0.5192\n",
      "Epoch 6/20\n",
      "1407/1407 [==============================] - 17s 12ms/step - loss: 1.0993 - accuracy: 0.6141 - val_loss: 1.4049 - val_accuracy: 0.5192\n",
      "Epoch 7/20\n",
      "1407/1407 [==============================] - 17s 12ms/step - loss: 1.0795 - accuracy: 0.6207 - val_loss: 1.4230 - val_accuracy: 0.5272\n",
      "Epoch 8/20\n",
      "1407/1407 [==============================] - 16s 12ms/step - loss: 1.0682 - accuracy: 0.6246 - val_loss: 1.4051 - val_accuracy: 0.5270\n",
      "Epoch 9/20\n",
      "1407/1407 [==============================] - 17s 12ms/step - loss: 1.0589 - accuracy: 0.6297 - val_loss: 1.4063 - val_accuracy: 0.5350\n",
      "Epoch 10/20\n",
      "1407/1407 [==============================] - 17s 12ms/step - loss: 1.0535 - accuracy: 0.6326 - val_loss: 1.3996 - val_accuracy: 0.5342\n",
      "Epoch 11/20\n",
      "1407/1407 [==============================] - 17s 12ms/step - loss: 1.0449 - accuracy: 0.6336 - val_loss: 1.3861 - val_accuracy: 0.5362\n",
      "Epoch 12/20\n",
      "1407/1407 [==============================] - 17s 12ms/step - loss: 1.0316 - accuracy: 0.6399 - val_loss: 1.4444 - val_accuracy: 0.5186\n",
      "Epoch 13/20\n",
      "1407/1407 [==============================] - 16s 12ms/step - loss: 1.0177 - accuracy: 0.6428 - val_loss: 1.4157 - val_accuracy: 0.5242\n",
      "Epoch 14/20\n",
      "1407/1407 [==============================] - 16s 12ms/step - loss: 1.0080 - accuracy: 0.6483 - val_loss: 1.3918 - val_accuracy: 0.5342\n",
      "Epoch 15/20\n",
      "1407/1407 [==============================] - 17s 12ms/step - loss: 0.9950 - accuracy: 0.6500 - val_loss: 1.4420 - val_accuracy: 0.5328\n",
      "Epoch 16/20\n",
      "1407/1407 [==============================] - 17s 12ms/step - loss: 0.9965 - accuracy: 0.6505 - val_loss: 1.4117 - val_accuracy: 0.5392\n",
      "Epoch 17/20\n",
      "1407/1407 [==============================] - 17s 12ms/step - loss: 0.9825 - accuracy: 0.6581 - val_loss: 1.4044 - val_accuracy: 0.5410\n",
      "Epoch 18/20\n",
      "1407/1407 [==============================] - 17s 12ms/step - loss: 0.9738 - accuracy: 0.6567 - val_loss: 1.4039 - val_accuracy: 0.5342\n",
      "Epoch 19/20\n",
      "1407/1407 [==============================] - 17s 12ms/step - loss: 0.9709 - accuracy: 0.6593 - val_loss: 1.4538 - val_accuracy: 0.5304\n",
      "Epoch 20/20\n",
      "1407/1407 [==============================] - 17s 12ms/step - loss: 0.9609 - accuracy: 0.6661 - val_loss: 1.4544 - val_accuracy: 0.5184\n",
      "Epoch 1/20\n",
      "1407/1407 [==============================] - 16s 12ms/step - loss: 1.1283 - accuracy: 0.6067 - val_loss: 1.5035 - val_accuracy: 0.4976\n",
      "Epoch 2/20\n",
      "1407/1407 [==============================] - 16s 12ms/step - loss: 1.1336 - accuracy: 0.6047 - val_loss: 1.5051 - val_accuracy: 0.4988\n",
      "Epoch 3/20\n",
      "1407/1407 [==============================] - 16s 12ms/step - loss: 1.1244 - accuracy: 0.6113 - val_loss: 1.4526 - val_accuracy: 0.5228\n",
      "Epoch 4/20\n",
      "1407/1407 [==============================] - 17s 12ms/step - loss: 1.1266 - accuracy: 0.6094 - val_loss: 1.4327 - val_accuracy: 0.5246\n",
      "Epoch 5/20\n",
      "1407/1407 [==============================] - 17s 12ms/step - loss: 1.1159 - accuracy: 0.6121 - val_loss: 1.4621 - val_accuracy: 0.5128\n",
      "Epoch 6/20\n",
      "1407/1407 [==============================] - 16s 12ms/step - loss: 1.1046 - accuracy: 0.6156 - val_loss: 1.4440 - val_accuracy: 0.5120\n",
      "Epoch 7/20\n",
      "1407/1407 [==============================] - 17s 12ms/step - loss: 1.0917 - accuracy: 0.6200 - val_loss: 1.4753 - val_accuracy: 0.5222\n",
      "Epoch 8/20\n",
      "1407/1407 [==============================] - 16s 12ms/step - loss: 1.0839 - accuracy: 0.6221 - val_loss: 1.4225 - val_accuracy: 0.5360\n",
      "Epoch 9/20\n",
      "1407/1407 [==============================] - 16s 12ms/step - loss: 1.0694 - accuracy: 0.6286 - val_loss: 1.4292 - val_accuracy: 0.5260\n",
      "Epoch 10/20\n",
      "1407/1407 [==============================] - 16s 12ms/step - loss: 1.0589 - accuracy: 0.6306 - val_loss: 1.4059 - val_accuracy: 0.5310\n",
      "Epoch 11/20\n",
      "1407/1407 [==============================] - 16s 12ms/step - loss: 1.0508 - accuracy: 0.6328 - val_loss: 1.4223 - val_accuracy: 0.5220\n",
      "Epoch 12/20\n",
      "1407/1407 [==============================] - 17s 12ms/step - loss: 1.0399 - accuracy: 0.6380 - val_loss: 1.4420 - val_accuracy: 0.5200\n",
      "Epoch 13/20\n",
      "1407/1407 [==============================] - 17s 12ms/step - loss: 1.0232 - accuracy: 0.6438 - val_loss: 1.5204 - val_accuracy: 0.5050\n",
      "Epoch 14/20\n",
      "1407/1407 [==============================] - 16s 12ms/step - loss: 1.0290 - accuracy: 0.6440 - val_loss: 1.4250 - val_accuracy: 0.5314\n",
      "Epoch 15/20\n",
      "1407/1407 [==============================] - 17s 12ms/step - loss: 1.0054 - accuracy: 0.6510 - val_loss: 1.4709 - val_accuracy: 0.5138\n",
      "Epoch 16/20\n",
      "1407/1407 [==============================] - 17s 12ms/step - loss: 1.0068 - accuracy: 0.6489 - val_loss: 1.4271 - val_accuracy: 0.5246\n",
      "Epoch 17/20\n",
      "1407/1407 [==============================] - 17s 12ms/step - loss: 0.9912 - accuracy: 0.6554 - val_loss: 1.4662 - val_accuracy: 0.5198\n",
      "Epoch 18/20\n",
      "1407/1407 [==============================] - 17s 12ms/step - loss: 0.9828 - accuracy: 0.6591 - val_loss: 1.4385 - val_accuracy: 0.5238\n",
      "Epoch 19/20\n",
      "1407/1407 [==============================] - 17s 12ms/step - loss: 0.9748 - accuracy: 0.6590 - val_loss: 1.4538 - val_accuracy: 0.5326\n",
      "Epoch 20/20\n",
      "1407/1407 [==============================] - 16s 12ms/step - loss: 0.9658 - accuracy: 0.6655 - val_loss: 1.4907 - val_accuracy: 0.5154\n",
      "Epoch 1/20\n",
      "1407/1407 [==============================] - 16s 12ms/step - loss: 1.3355 - accuracy: 0.5441 - val_loss: 1.5778 - val_accuracy: 0.4854\n",
      "Epoch 2/20\n",
      "1407/1407 [==============================] - 16s 12ms/step - loss: 1.3386 - accuracy: 0.5373 - val_loss: 1.5208 - val_accuracy: 0.4838\n",
      "Epoch 3/20\n",
      "1407/1407 [==============================] - 16s 12ms/step - loss: 1.3130 - accuracy: 0.5490 - val_loss: 1.5916 - val_accuracy: 0.4672\n",
      "Epoch 4/20\n",
      "1407/1407 [==============================] - 17s 12ms/step - loss: 1.3064 - accuracy: 0.5496 - val_loss: 1.4926 - val_accuracy: 0.4946\n",
      "Epoch 5/20\n",
      "1407/1407 [==============================] - 16s 11ms/step - loss: 1.2744 - accuracy: 0.5583 - val_loss: 1.4718 - val_accuracy: 0.4972\n",
      "Epoch 6/20\n",
      "1407/1407 [==============================] - 15s 10ms/step - loss: 1.2584 - accuracy: 0.5623 - val_loss: 1.4688 - val_accuracy: 0.4958\n",
      "Epoch 7/20\n",
      "1407/1407 [==============================] - 15s 11ms/step - loss: 1.2392 - accuracy: 0.5694 - val_loss: 1.4766 - val_accuracy: 0.5042\n",
      "Epoch 8/20\n",
      "1407/1407 [==============================] - 15s 10ms/step - loss: 1.2178 - accuracy: 0.5791 - val_loss: 1.4430 - val_accuracy: 0.5128\n",
      "Epoch 9/20\n",
      "1407/1407 [==============================] - 15s 11ms/step - loss: 1.1998 - accuracy: 0.5860 - val_loss: 1.4457 - val_accuracy: 0.5024\n",
      "Epoch 10/20\n",
      "1407/1407 [==============================] - 15s 10ms/step - loss: 1.1755 - accuracy: 0.5947 - val_loss: 1.4513 - val_accuracy: 0.5224\n",
      "Epoch 11/20\n",
      "1407/1407 [==============================] - 15s 11ms/step - loss: 1.1646 - accuracy: 0.5956 - val_loss: 1.4158 - val_accuracy: 0.5238\n",
      "Epoch 12/20\n",
      "1407/1407 [==============================] - 14s 10ms/step - loss: 1.1467 - accuracy: 0.6056 - val_loss: 1.4255 - val_accuracy: 0.5214\n",
      "Epoch 13/20\n",
      "1407/1407 [==============================] - 15s 10ms/step - loss: 1.1306 - accuracy: 0.6096 - val_loss: 1.4585 - val_accuracy: 0.5172\n",
      "Epoch 14/20\n",
      "1407/1407 [==============================] - 15s 10ms/step - loss: 1.1138 - accuracy: 0.6162 - val_loss: 1.4461 - val_accuracy: 0.5108\n",
      "Epoch 15/20\n",
      "1407/1407 [==============================] - 15s 11ms/step - loss: 1.1011 - accuracy: 0.6214 - val_loss: 1.4588 - val_accuracy: 0.5166\n",
      "Epoch 16/20\n",
      "1407/1407 [==============================] - 15s 10ms/step - loss: 1.0919 - accuracy: 0.6242 - val_loss: 1.4952 - val_accuracy: 0.5110\n",
      "Epoch 17/20\n",
      "1407/1407 [==============================] - 15s 11ms/step - loss: 1.0762 - accuracy: 0.6271 - val_loss: 1.4105 - val_accuracy: 0.5334\n",
      "Epoch 18/20\n",
      "1407/1407 [==============================] - 15s 10ms/step - loss: 1.0600 - accuracy: 0.6335 - val_loss: 1.3983 - val_accuracy: 0.5246\n",
      "Epoch 19/20\n",
      "1407/1407 [==============================] - 15s 10ms/step - loss: 1.0514 - accuracy: 0.6343 - val_loss: 1.5032 - val_accuracy: 0.5030\n",
      "Epoch 20/20\n",
      "1407/1407 [==============================] - 15s 11ms/step - loss: 1.0418 - accuracy: 0.6416 - val_loss: 1.4466 - val_accuracy: 0.5170\n",
      "Epoch 1/20\n",
      "1407/1407 [==============================] - 14s 10ms/step - loss: 1.1569 - accuracy: 0.6002 - val_loss: 1.6262 - val_accuracy: 0.4774\n",
      "Epoch 2/20\n",
      "1407/1407 [==============================] - 14s 10ms/step - loss: 1.1564 - accuracy: 0.6002 - val_loss: 1.4466 - val_accuracy: 0.5164\n",
      "Epoch 3/20\n",
      "1407/1407 [==============================] - 15s 10ms/step - loss: 1.1400 - accuracy: 0.6060 - val_loss: 1.4752 - val_accuracy: 0.5142\n",
      "Epoch 4/20\n",
      "1407/1407 [==============================] - 15s 10ms/step - loss: 1.1357 - accuracy: 0.6083 - val_loss: 1.5223 - val_accuracy: 0.5128\n",
      "Epoch 5/20\n",
      "1407/1407 [==============================] - 15s 10ms/step - loss: 1.1142 - accuracy: 0.6137 - val_loss: 1.4472 - val_accuracy: 0.5132\n",
      "Epoch 6/20\n",
      "1407/1407 [==============================] - 15s 10ms/step - loss: 1.1003 - accuracy: 0.6203 - val_loss: 1.4419 - val_accuracy: 0.5262\n",
      "Epoch 7/20\n",
      "1407/1407 [==============================] - 15s 10ms/step - loss: 1.0895 - accuracy: 0.6213 - val_loss: 1.5578 - val_accuracy: 0.5026\n",
      "Epoch 8/20\n",
      "1407/1407 [==============================] - 15s 10ms/step - loss: 1.0730 - accuracy: 0.6282 - val_loss: 1.4536 - val_accuracy: 0.5230\n",
      "Epoch 9/20\n",
      "1407/1407 [==============================] - 15s 10ms/step - loss: 1.0642 - accuracy: 0.6318 - val_loss: 1.4330 - val_accuracy: 0.5224\n",
      "Epoch 10/20\n",
      "1407/1407 [==============================] - 15s 11ms/step - loss: 1.0548 - accuracy: 0.6344 - val_loss: 1.4718 - val_accuracy: 0.5230\n",
      "Epoch 11/20\n",
      "1407/1407 [==============================] - 14s 10ms/step - loss: 1.0454 - accuracy: 0.6397 - val_loss: 1.5092 - val_accuracy: 0.5152\n",
      "Epoch 12/20\n",
      "1407/1407 [==============================] - 15s 10ms/step - loss: 1.0326 - accuracy: 0.6427 - val_loss: 1.4597 - val_accuracy: 0.5188\n",
      "Epoch 13/20\n",
      "1407/1407 [==============================] - 14s 10ms/step - loss: 1.0165 - accuracy: 0.6498 - val_loss: 1.5651 - val_accuracy: 0.5152\n",
      "Epoch 14/20\n",
      "1407/1407 [==============================] - 16s 11ms/step - loss: 1.0123 - accuracy: 0.6489 - val_loss: 1.4261 - val_accuracy: 0.5222\n",
      "Epoch 15/20\n",
      "1407/1407 [==============================] - 17s 12ms/step - loss: 0.9981 - accuracy: 0.6554 - val_loss: 1.4681 - val_accuracy: 0.5266\n",
      "Epoch 16/20\n",
      "1407/1407 [==============================] - 18s 12ms/step - loss: 0.9974 - accuracy: 0.6532 - val_loss: 1.6478 - val_accuracy: 0.5192\n",
      "Epoch 17/20\n",
      "1407/1407 [==============================] - 16s 12ms/step - loss: 0.9824 - accuracy: 0.6597 - val_loss: 81.3412 - val_accuracy: 0.5242\n",
      "Epoch 18/20\n",
      "1407/1407 [==============================] - 16s 11ms/step - loss: 0.9743 - accuracy: 0.6614 - val_loss: 3.6679 - val_accuracy: 0.5310\n",
      "Epoch 19/20\n",
      "1407/1407 [==============================] - 17s 12ms/step - loss: 0.9641 - accuracy: 0.6652 - val_loss: 1.4932 - val_accuracy: 0.5216\n",
      "Epoch 20/20\n",
      "1407/1407 [==============================] - 17s 12ms/step - loss: 0.9546 - accuracy: 0.6696 - val_loss: 1.5090 - val_accuracy: 0.5192\n"
     ]
    }
   ],
   "source": [
    "keras.backend.clear_session()\n",
    "tf.random.set_seed(42)\n",
    "np.random.seed(42)\n",
    "\n",
    "# define BN after activation model\n",
    "model = keras.Sequential()\n",
    "model.add(keras.layers.Flatten(input_shape = X_train.shape[1:]))\n",
    "model.add(keras.layers.BatchNormalization())\n",
    "for _ in range(20):\n",
    "    model.add(keras.layers.Dense(units=100, activation='elu', kernel_initializer='he_normal'))\n",
    "    model.add(keras.layers.BatchNormalization())\n",
    "model.add(keras.layers.Dense(10, activation='softmax'))\n",
    "\n",
    "# pick a good learning rate with 20 epochs\n",
    "lr_dict = defaultdict(list)\n",
    "lr_dict['lr'] = [1e-5, 3e-5, 5e-5, 1e-4, 3e-4, 5e-4, 1e-3, 3e-3, 5e-3]\n",
    "\n",
    "for lr in lr_dict['lr']:\n",
    "    optimizer = keras.optimizers.Nadam(learning_rate=lr)\n",
    "    model.compile(loss='sparse_categorical_crossentropy',\n",
    "                 optimizer = optimizer,\n",
    "                 metrics = ['accuracy'])\n",
    "    model.fit(X_train, y_train, epochs = 20,\n",
    "                validation_data=(X_valid, y_valid))\n",
    "    lr_dict['af_val_loss'].append(model.history.history['val_loss'][-1])"
   ]
  },
  {
   "cell_type": "markdown",
   "metadata": {},
   "source": [
    "The BN before activation model is not run due to long waiting time."
   ]
  },
  {
   "cell_type": "code",
   "execution_count": 122,
   "metadata": {
    "collapsed": true,
    "jupyter": {
     "outputs_hidden": true
    }
   },
   "outputs": [
    {
     "name": "stdout",
     "output_type": "stream",
     "text": [
      "\n",
      "\n",
      "Processing learning rate = 1e-05\n",
      "Epoch 1/20\n"
     ]
    },
    {
     "ename": "KeyboardInterrupt",
     "evalue": "",
     "output_type": "error",
     "traceback": [
      "\u001b[0;31m---------------------------------------------------------------------------\u001b[0m",
      "\u001b[0;31mKeyboardInterrupt\u001b[0m                         Traceback (most recent call last)",
      "\u001b[0;32m<ipython-input-122-bf7c24a5f047>\u001b[0m in \u001b[0;36m<module>\u001b[0;34m\u001b[0m\n\u001b[1;32m     21\u001b[0m                  metrics = ['accuracy'])\n\u001b[1;32m     22\u001b[0m     model.fit(X_train, y_train, epochs = 20,\n\u001b[0;32m---> 23\u001b[0;31m                 validation_data=(X_valid, y_valid))\n\u001b[0m\u001b[1;32m     24\u001b[0m     \u001b[0mlr_dict\u001b[0m\u001b[0;34m[\u001b[0m\u001b[0;34m'bf_val_loss'\u001b[0m\u001b[0;34m]\u001b[0m\u001b[0;34m.\u001b[0m\u001b[0mappend\u001b[0m\u001b[0;34m(\u001b[0m\u001b[0mmodel\u001b[0m\u001b[0;34m.\u001b[0m\u001b[0mhistory\u001b[0m\u001b[0;34m.\u001b[0m\u001b[0mhistory\u001b[0m\u001b[0;34m[\u001b[0m\u001b[0;34m'val_loss'\u001b[0m\u001b[0;34m]\u001b[0m\u001b[0;34m[\u001b[0m\u001b[0;34m-\u001b[0m\u001b[0;36m1\u001b[0m\u001b[0;34m]\u001b[0m\u001b[0;34m)\u001b[0m\u001b[0;34m\u001b[0m\u001b[0;34m\u001b[0m\u001b[0m\n",
      "\u001b[0;32m/Applications/anaconda3/envs/stats/lib/python3.7/site-packages/tensorflow/python/keras/engine/training.py\u001b[0m in \u001b[0;36m_method_wrapper\u001b[0;34m(self, *args, **kwargs)\u001b[0m\n\u001b[1;32m    106\u001b[0m   \u001b[0;32mdef\u001b[0m \u001b[0m_method_wrapper\u001b[0m\u001b[0;34m(\u001b[0m\u001b[0mself\u001b[0m\u001b[0;34m,\u001b[0m \u001b[0;34m*\u001b[0m\u001b[0margs\u001b[0m\u001b[0;34m,\u001b[0m \u001b[0;34m**\u001b[0m\u001b[0mkwargs\u001b[0m\u001b[0;34m)\u001b[0m\u001b[0;34m:\u001b[0m\u001b[0;34m\u001b[0m\u001b[0;34m\u001b[0m\u001b[0m\n\u001b[1;32m    107\u001b[0m     \u001b[0;32mif\u001b[0m \u001b[0;32mnot\u001b[0m \u001b[0mself\u001b[0m\u001b[0;34m.\u001b[0m\u001b[0m_in_multi_worker_mode\u001b[0m\u001b[0;34m(\u001b[0m\u001b[0;34m)\u001b[0m\u001b[0;34m:\u001b[0m  \u001b[0;31m# pylint: disable=protected-access\u001b[0m\u001b[0;34m\u001b[0m\u001b[0;34m\u001b[0m\u001b[0m\n\u001b[0;32m--> 108\u001b[0;31m       \u001b[0;32mreturn\u001b[0m \u001b[0mmethod\u001b[0m\u001b[0;34m(\u001b[0m\u001b[0mself\u001b[0m\u001b[0;34m,\u001b[0m \u001b[0;34m*\u001b[0m\u001b[0margs\u001b[0m\u001b[0;34m,\u001b[0m \u001b[0;34m**\u001b[0m\u001b[0mkwargs\u001b[0m\u001b[0;34m)\u001b[0m\u001b[0;34m\u001b[0m\u001b[0;34m\u001b[0m\u001b[0m\n\u001b[0m\u001b[1;32m    109\u001b[0m \u001b[0;34m\u001b[0m\u001b[0m\n\u001b[1;32m    110\u001b[0m     \u001b[0;31m# Running inside `run_distribute_coordinator` already.\u001b[0m\u001b[0;34m\u001b[0m\u001b[0;34m\u001b[0m\u001b[0;34m\u001b[0m\u001b[0m\n",
      "\u001b[0;32m/Applications/anaconda3/envs/stats/lib/python3.7/site-packages/tensorflow/python/keras/engine/training.py\u001b[0m in \u001b[0;36mfit\u001b[0;34m(self, x, y, batch_size, epochs, verbose, callbacks, validation_split, validation_data, shuffle, class_weight, sample_weight, initial_epoch, steps_per_epoch, validation_steps, validation_batch_size, validation_freq, max_queue_size, workers, use_multiprocessing)\u001b[0m\n\u001b[1;32m   1096\u001b[0m                 batch_size=batch_size):\n\u001b[1;32m   1097\u001b[0m               \u001b[0mcallbacks\u001b[0m\u001b[0;34m.\u001b[0m\u001b[0mon_train_batch_begin\u001b[0m\u001b[0;34m(\u001b[0m\u001b[0mstep\u001b[0m\u001b[0;34m)\u001b[0m\u001b[0;34m\u001b[0m\u001b[0;34m\u001b[0m\u001b[0m\n\u001b[0;32m-> 1098\u001b[0;31m               \u001b[0mtmp_logs\u001b[0m \u001b[0;34m=\u001b[0m \u001b[0mtrain_function\u001b[0m\u001b[0;34m(\u001b[0m\u001b[0miterator\u001b[0m\u001b[0;34m)\u001b[0m\u001b[0;34m\u001b[0m\u001b[0;34m\u001b[0m\u001b[0m\n\u001b[0m\u001b[1;32m   1099\u001b[0m               \u001b[0;32mif\u001b[0m \u001b[0mdata_handler\u001b[0m\u001b[0;34m.\u001b[0m\u001b[0mshould_sync\u001b[0m\u001b[0;34m:\u001b[0m\u001b[0;34m\u001b[0m\u001b[0;34m\u001b[0m\u001b[0m\n\u001b[1;32m   1100\u001b[0m                 \u001b[0mcontext\u001b[0m\u001b[0;34m.\u001b[0m\u001b[0masync_wait\u001b[0m\u001b[0;34m(\u001b[0m\u001b[0;34m)\u001b[0m\u001b[0;34m\u001b[0m\u001b[0;34m\u001b[0m\u001b[0m\n",
      "\u001b[0;32m/Applications/anaconda3/envs/stats/lib/python3.7/site-packages/tensorflow/python/eager/def_function.py\u001b[0m in \u001b[0;36m__call__\u001b[0;34m(self, *args, **kwds)\u001b[0m\n\u001b[1;32m    778\u001b[0m       \u001b[0;32melse\u001b[0m\u001b[0;34m:\u001b[0m\u001b[0;34m\u001b[0m\u001b[0;34m\u001b[0m\u001b[0m\n\u001b[1;32m    779\u001b[0m         \u001b[0mcompiler\u001b[0m \u001b[0;34m=\u001b[0m \u001b[0;34m\"nonXla\"\u001b[0m\u001b[0;34m\u001b[0m\u001b[0;34m\u001b[0m\u001b[0m\n\u001b[0;32m--> 780\u001b[0;31m         \u001b[0mresult\u001b[0m \u001b[0;34m=\u001b[0m \u001b[0mself\u001b[0m\u001b[0;34m.\u001b[0m\u001b[0m_call\u001b[0m\u001b[0;34m(\u001b[0m\u001b[0;34m*\u001b[0m\u001b[0margs\u001b[0m\u001b[0;34m,\u001b[0m \u001b[0;34m**\u001b[0m\u001b[0mkwds\u001b[0m\u001b[0;34m)\u001b[0m\u001b[0;34m\u001b[0m\u001b[0;34m\u001b[0m\u001b[0m\n\u001b[0m\u001b[1;32m    781\u001b[0m \u001b[0;34m\u001b[0m\u001b[0m\n\u001b[1;32m    782\u001b[0m       \u001b[0mnew_tracing_count\u001b[0m \u001b[0;34m=\u001b[0m \u001b[0mself\u001b[0m\u001b[0;34m.\u001b[0m\u001b[0m_get_tracing_count\u001b[0m\u001b[0;34m(\u001b[0m\u001b[0;34m)\u001b[0m\u001b[0;34m\u001b[0m\u001b[0;34m\u001b[0m\u001b[0m\n",
      "\u001b[0;32m/Applications/anaconda3/envs/stats/lib/python3.7/site-packages/tensorflow/python/eager/def_function.py\u001b[0m in \u001b[0;36m_call\u001b[0;34m(self, *args, **kwds)\u001b[0m\n\u001b[1;32m    838\u001b[0m         \u001b[0;31m# Lifting succeeded, so variables are initialized and we can run the\u001b[0m\u001b[0;34m\u001b[0m\u001b[0;34m\u001b[0m\u001b[0;34m\u001b[0m\u001b[0m\n\u001b[1;32m    839\u001b[0m         \u001b[0;31m# stateless function.\u001b[0m\u001b[0;34m\u001b[0m\u001b[0;34m\u001b[0m\u001b[0;34m\u001b[0m\u001b[0m\n\u001b[0;32m--> 840\u001b[0;31m         \u001b[0;32mreturn\u001b[0m \u001b[0mself\u001b[0m\u001b[0;34m.\u001b[0m\u001b[0m_stateless_fn\u001b[0m\u001b[0;34m(\u001b[0m\u001b[0;34m*\u001b[0m\u001b[0margs\u001b[0m\u001b[0;34m,\u001b[0m \u001b[0;34m**\u001b[0m\u001b[0mkwds\u001b[0m\u001b[0;34m)\u001b[0m\u001b[0;34m\u001b[0m\u001b[0;34m\u001b[0m\u001b[0m\n\u001b[0m\u001b[1;32m    841\u001b[0m     \u001b[0;32melse\u001b[0m\u001b[0;34m:\u001b[0m\u001b[0;34m\u001b[0m\u001b[0;34m\u001b[0m\u001b[0m\n\u001b[1;32m    842\u001b[0m       \u001b[0mcanon_args\u001b[0m\u001b[0;34m,\u001b[0m \u001b[0mcanon_kwds\u001b[0m \u001b[0;34m=\u001b[0m\u001b[0;31m \u001b[0m\u001b[0;31m\\\u001b[0m\u001b[0;34m\u001b[0m\u001b[0;34m\u001b[0m\u001b[0m\n",
      "\u001b[0;32m/Applications/anaconda3/envs/stats/lib/python3.7/site-packages/tensorflow/python/eager/function.py\u001b[0m in \u001b[0;36m__call__\u001b[0;34m(self, *args, **kwargs)\u001b[0m\n\u001b[1;32m   2826\u001b[0m     \u001b[0;34m\"\"\"Calls a graph function specialized to the inputs.\"\"\"\u001b[0m\u001b[0;34m\u001b[0m\u001b[0;34m\u001b[0m\u001b[0m\n\u001b[1;32m   2827\u001b[0m     \u001b[0;32mwith\u001b[0m \u001b[0mself\u001b[0m\u001b[0;34m.\u001b[0m\u001b[0m_lock\u001b[0m\u001b[0;34m:\u001b[0m\u001b[0;34m\u001b[0m\u001b[0;34m\u001b[0m\u001b[0m\n\u001b[0;32m-> 2828\u001b[0;31m       \u001b[0mgraph_function\u001b[0m\u001b[0;34m,\u001b[0m \u001b[0margs\u001b[0m\u001b[0;34m,\u001b[0m \u001b[0mkwargs\u001b[0m \u001b[0;34m=\u001b[0m \u001b[0mself\u001b[0m\u001b[0;34m.\u001b[0m\u001b[0m_maybe_define_function\u001b[0m\u001b[0;34m(\u001b[0m\u001b[0margs\u001b[0m\u001b[0;34m,\u001b[0m \u001b[0mkwargs\u001b[0m\u001b[0;34m)\u001b[0m\u001b[0;34m\u001b[0m\u001b[0;34m\u001b[0m\u001b[0m\n\u001b[0m\u001b[1;32m   2829\u001b[0m     \u001b[0;32mreturn\u001b[0m \u001b[0mgraph_function\u001b[0m\u001b[0;34m.\u001b[0m\u001b[0m_filtered_call\u001b[0m\u001b[0;34m(\u001b[0m\u001b[0margs\u001b[0m\u001b[0;34m,\u001b[0m \u001b[0mkwargs\u001b[0m\u001b[0;34m)\u001b[0m  \u001b[0;31m# pylint: disable=protected-access\u001b[0m\u001b[0;34m\u001b[0m\u001b[0;34m\u001b[0m\u001b[0m\n\u001b[1;32m   2830\u001b[0m \u001b[0;34m\u001b[0m\u001b[0m\n",
      "\u001b[0;32m/Applications/anaconda3/envs/stats/lib/python3.7/site-packages/tensorflow/python/eager/function.py\u001b[0m in \u001b[0;36m_maybe_define_function\u001b[0;34m(self, args, kwargs)\u001b[0m\n\u001b[1;32m   3211\u001b[0m \u001b[0;34m\u001b[0m\u001b[0m\n\u001b[1;32m   3212\u001b[0m       \u001b[0mself\u001b[0m\u001b[0;34m.\u001b[0m\u001b[0m_function_cache\u001b[0m\u001b[0;34m.\u001b[0m\u001b[0mmissed\u001b[0m\u001b[0;34m.\u001b[0m\u001b[0madd\u001b[0m\u001b[0;34m(\u001b[0m\u001b[0mcall_context_key\u001b[0m\u001b[0;34m)\u001b[0m\u001b[0;34m\u001b[0m\u001b[0;34m\u001b[0m\u001b[0m\n\u001b[0;32m-> 3213\u001b[0;31m       \u001b[0mgraph_function\u001b[0m \u001b[0;34m=\u001b[0m \u001b[0mself\u001b[0m\u001b[0;34m.\u001b[0m\u001b[0m_create_graph_function\u001b[0m\u001b[0;34m(\u001b[0m\u001b[0margs\u001b[0m\u001b[0;34m,\u001b[0m \u001b[0mkwargs\u001b[0m\u001b[0;34m)\u001b[0m\u001b[0;34m\u001b[0m\u001b[0;34m\u001b[0m\u001b[0m\n\u001b[0m\u001b[1;32m   3214\u001b[0m       \u001b[0mself\u001b[0m\u001b[0;34m.\u001b[0m\u001b[0m_function_cache\u001b[0m\u001b[0;34m.\u001b[0m\u001b[0mprimary\u001b[0m\u001b[0;34m[\u001b[0m\u001b[0mcache_key\u001b[0m\u001b[0;34m]\u001b[0m \u001b[0;34m=\u001b[0m \u001b[0mgraph_function\u001b[0m\u001b[0;34m\u001b[0m\u001b[0;34m\u001b[0m\u001b[0m\n\u001b[1;32m   3215\u001b[0m       \u001b[0;32mreturn\u001b[0m \u001b[0mgraph_function\u001b[0m\u001b[0;34m,\u001b[0m \u001b[0margs\u001b[0m\u001b[0;34m,\u001b[0m \u001b[0mkwargs\u001b[0m\u001b[0;34m\u001b[0m\u001b[0;34m\u001b[0m\u001b[0m\n",
      "\u001b[0;32m/Applications/anaconda3/envs/stats/lib/python3.7/site-packages/tensorflow/python/eager/function.py\u001b[0m in \u001b[0;36m_create_graph_function\u001b[0;34m(self, args, kwargs, override_flat_arg_shapes)\u001b[0m\n\u001b[1;32m   3073\u001b[0m             \u001b[0marg_names\u001b[0m\u001b[0;34m=\u001b[0m\u001b[0marg_names\u001b[0m\u001b[0;34m,\u001b[0m\u001b[0;34m\u001b[0m\u001b[0;34m\u001b[0m\u001b[0m\n\u001b[1;32m   3074\u001b[0m             \u001b[0moverride_flat_arg_shapes\u001b[0m\u001b[0;34m=\u001b[0m\u001b[0moverride_flat_arg_shapes\u001b[0m\u001b[0;34m,\u001b[0m\u001b[0;34m\u001b[0m\u001b[0;34m\u001b[0m\u001b[0m\n\u001b[0;32m-> 3075\u001b[0;31m             capture_by_value=self._capture_by_value),\n\u001b[0m\u001b[1;32m   3076\u001b[0m         \u001b[0mself\u001b[0m\u001b[0;34m.\u001b[0m\u001b[0m_function_attributes\u001b[0m\u001b[0;34m,\u001b[0m\u001b[0;34m\u001b[0m\u001b[0;34m\u001b[0m\u001b[0m\n\u001b[1;32m   3077\u001b[0m         \u001b[0mfunction_spec\u001b[0m\u001b[0;34m=\u001b[0m\u001b[0mself\u001b[0m\u001b[0;34m.\u001b[0m\u001b[0mfunction_spec\u001b[0m\u001b[0;34m,\u001b[0m\u001b[0;34m\u001b[0m\u001b[0;34m\u001b[0m\u001b[0m\n",
      "\u001b[0;32m/Applications/anaconda3/envs/stats/lib/python3.7/site-packages/tensorflow/python/framework/func_graph.py\u001b[0m in \u001b[0;36mfunc_graph_from_py_func\u001b[0;34m(name, python_func, args, kwargs, signature, func_graph, autograph, autograph_options, add_control_dependencies, arg_names, op_return_value, collections, capture_by_value, override_flat_arg_shapes)\u001b[0m\n\u001b[1;32m    984\u001b[0m         \u001b[0m_\u001b[0m\u001b[0;34m,\u001b[0m \u001b[0moriginal_func\u001b[0m \u001b[0;34m=\u001b[0m \u001b[0mtf_decorator\u001b[0m\u001b[0;34m.\u001b[0m\u001b[0munwrap\u001b[0m\u001b[0;34m(\u001b[0m\u001b[0mpython_func\u001b[0m\u001b[0;34m)\u001b[0m\u001b[0;34m\u001b[0m\u001b[0;34m\u001b[0m\u001b[0m\n\u001b[1;32m    985\u001b[0m \u001b[0;34m\u001b[0m\u001b[0m\n\u001b[0;32m--> 986\u001b[0;31m       \u001b[0mfunc_outputs\u001b[0m \u001b[0;34m=\u001b[0m \u001b[0mpython_func\u001b[0m\u001b[0;34m(\u001b[0m\u001b[0;34m*\u001b[0m\u001b[0mfunc_args\u001b[0m\u001b[0;34m,\u001b[0m \u001b[0;34m**\u001b[0m\u001b[0mfunc_kwargs\u001b[0m\u001b[0;34m)\u001b[0m\u001b[0;34m\u001b[0m\u001b[0;34m\u001b[0m\u001b[0m\n\u001b[0m\u001b[1;32m    987\u001b[0m \u001b[0;34m\u001b[0m\u001b[0m\n\u001b[1;32m    988\u001b[0m       \u001b[0;31m# invariant: `func_outputs` contains only Tensors, CompositeTensors,\u001b[0m\u001b[0;34m\u001b[0m\u001b[0;34m\u001b[0m\u001b[0;34m\u001b[0m\u001b[0m\n",
      "\u001b[0;32m/Applications/anaconda3/envs/stats/lib/python3.7/site-packages/tensorflow/python/eager/def_function.py\u001b[0m in \u001b[0;36mwrapped_fn\u001b[0;34m(*args, **kwds)\u001b[0m\n\u001b[1;32m    598\u001b[0m         \u001b[0;31m# __wrapped__ allows AutoGraph to swap in a converted function. We give\u001b[0m\u001b[0;34m\u001b[0m\u001b[0;34m\u001b[0m\u001b[0;34m\u001b[0m\u001b[0m\n\u001b[1;32m    599\u001b[0m         \u001b[0;31m# the function a weak reference to itself to avoid a reference cycle.\u001b[0m\u001b[0;34m\u001b[0m\u001b[0;34m\u001b[0m\u001b[0;34m\u001b[0m\u001b[0m\n\u001b[0;32m--> 600\u001b[0;31m         \u001b[0;32mreturn\u001b[0m \u001b[0mweak_wrapped_fn\u001b[0m\u001b[0;34m(\u001b[0m\u001b[0;34m)\u001b[0m\u001b[0;34m.\u001b[0m\u001b[0m__wrapped__\u001b[0m\u001b[0;34m(\u001b[0m\u001b[0;34m*\u001b[0m\u001b[0margs\u001b[0m\u001b[0;34m,\u001b[0m \u001b[0;34m**\u001b[0m\u001b[0mkwds\u001b[0m\u001b[0;34m)\u001b[0m\u001b[0;34m\u001b[0m\u001b[0;34m\u001b[0m\u001b[0m\n\u001b[0m\u001b[1;32m    601\u001b[0m     \u001b[0mweak_wrapped_fn\u001b[0m \u001b[0;34m=\u001b[0m \u001b[0mweakref\u001b[0m\u001b[0;34m.\u001b[0m\u001b[0mref\u001b[0m\u001b[0;34m(\u001b[0m\u001b[0mwrapped_fn\u001b[0m\u001b[0;34m)\u001b[0m\u001b[0;34m\u001b[0m\u001b[0;34m\u001b[0m\u001b[0m\n\u001b[1;32m    602\u001b[0m \u001b[0;34m\u001b[0m\u001b[0m\n",
      "\u001b[0;32m/Applications/anaconda3/envs/stats/lib/python3.7/site-packages/tensorflow/python/framework/func_graph.py\u001b[0m in \u001b[0;36mwrapper\u001b[0;34m(*args, **kwargs)\u001b[0m\n\u001b[1;32m    967\u001b[0m                     \u001b[0mrecursive\u001b[0m\u001b[0;34m=\u001b[0m\u001b[0;32mTrue\u001b[0m\u001b[0;34m,\u001b[0m\u001b[0;34m\u001b[0m\u001b[0;34m\u001b[0m\u001b[0m\n\u001b[1;32m    968\u001b[0m                     \u001b[0moptional_features\u001b[0m\u001b[0;34m=\u001b[0m\u001b[0mautograph_options\u001b[0m\u001b[0;34m,\u001b[0m\u001b[0;34m\u001b[0m\u001b[0;34m\u001b[0m\u001b[0m\n\u001b[0;32m--> 969\u001b[0;31m                     \u001b[0muser_requested\u001b[0m\u001b[0;34m=\u001b[0m\u001b[0;32mTrue\u001b[0m\u001b[0;34m,\u001b[0m\u001b[0;34m\u001b[0m\u001b[0;34m\u001b[0m\u001b[0m\n\u001b[0m\u001b[1;32m    970\u001b[0m                 ))\n\u001b[1;32m    971\u001b[0m           \u001b[0;32mexcept\u001b[0m \u001b[0mException\u001b[0m \u001b[0;32mas\u001b[0m \u001b[0me\u001b[0m\u001b[0;34m:\u001b[0m  \u001b[0;31m# pylint:disable=broad-except\u001b[0m\u001b[0;34m\u001b[0m\u001b[0;34m\u001b[0m\u001b[0m\n",
      "\u001b[0;32m/Applications/anaconda3/envs/stats/lib/python3.7/site-packages/tensorflow/python/autograph/impl/api.py\u001b[0m in \u001b[0;36mconverted_call\u001b[0;34m(f, args, kwargs, caller_fn_scope, options)\u001b[0m\n\u001b[1;32m    594\u001b[0m     \u001b[0;32mtry\u001b[0m\u001b[0;34m:\u001b[0m\u001b[0;34m\u001b[0m\u001b[0;34m\u001b[0m\u001b[0m\n\u001b[1;32m    595\u001b[0m       \u001b[0;32mif\u001b[0m \u001b[0mkwargs\u001b[0m \u001b[0;32mis\u001b[0m \u001b[0;32mnot\u001b[0m \u001b[0;32mNone\u001b[0m\u001b[0;34m:\u001b[0m\u001b[0;34m\u001b[0m\u001b[0;34m\u001b[0m\u001b[0m\n\u001b[0;32m--> 596\u001b[0;31m         \u001b[0mresult\u001b[0m \u001b[0;34m=\u001b[0m \u001b[0mconverted_f\u001b[0m\u001b[0;34m(\u001b[0m\u001b[0;34m*\u001b[0m\u001b[0meffective_args\u001b[0m\u001b[0;34m,\u001b[0m \u001b[0;34m**\u001b[0m\u001b[0mkwargs\u001b[0m\u001b[0;34m)\u001b[0m\u001b[0;34m\u001b[0m\u001b[0;34m\u001b[0m\u001b[0m\n\u001b[0m\u001b[1;32m    597\u001b[0m       \u001b[0;32melse\u001b[0m\u001b[0;34m:\u001b[0m\u001b[0;34m\u001b[0m\u001b[0;34m\u001b[0m\u001b[0m\n\u001b[1;32m    598\u001b[0m         \u001b[0mresult\u001b[0m \u001b[0;34m=\u001b[0m \u001b[0mconverted_f\u001b[0m\u001b[0;34m(\u001b[0m\u001b[0;34m*\u001b[0m\u001b[0meffective_args\u001b[0m\u001b[0;34m)\u001b[0m\u001b[0;34m\u001b[0m\u001b[0;34m\u001b[0m\u001b[0m\n",
      "\u001b[0;32m/Applications/anaconda3/envs/stats/lib/python3.7/site-packages/tensorflow/python/keras/engine/training.py\u001b[0m in \u001b[0;36mtf__train_function\u001b[0;34m(iterator)\u001b[0m\n\u001b[1;32m     14\u001b[0m                 \u001b[0;32mtry\u001b[0m\u001b[0;34m:\u001b[0m\u001b[0;34m\u001b[0m\u001b[0;34m\u001b[0m\u001b[0m\n\u001b[1;32m     15\u001b[0m                     \u001b[0mdo_return\u001b[0m \u001b[0;34m=\u001b[0m \u001b[0;32mTrue\u001b[0m\u001b[0;34m\u001b[0m\u001b[0;34m\u001b[0m\u001b[0m\n\u001b[0;32m---> 16\u001b[0;31m                     \u001b[0mretval_\u001b[0m \u001b[0;34m=\u001b[0m \u001b[0mag__\u001b[0m\u001b[0;34m.\u001b[0m\u001b[0mconverted_call\u001b[0m\u001b[0;34m(\u001b[0m\u001b[0mag__\u001b[0m\u001b[0;34m.\u001b[0m\u001b[0mld\u001b[0m\u001b[0;34m(\u001b[0m\u001b[0mstep_function\u001b[0m\u001b[0;34m)\u001b[0m\u001b[0;34m,\u001b[0m \u001b[0;34m(\u001b[0m\u001b[0mag__\u001b[0m\u001b[0;34m.\u001b[0m\u001b[0mld\u001b[0m\u001b[0;34m(\u001b[0m\u001b[0mself\u001b[0m\u001b[0;34m)\u001b[0m\u001b[0;34m,\u001b[0m \u001b[0mag__\u001b[0m\u001b[0;34m.\u001b[0m\u001b[0mld\u001b[0m\u001b[0;34m(\u001b[0m\u001b[0miterator\u001b[0m\u001b[0;34m)\u001b[0m\u001b[0;34m)\u001b[0m\u001b[0;34m,\u001b[0m \u001b[0;32mNone\u001b[0m\u001b[0;34m,\u001b[0m \u001b[0mfscope\u001b[0m\u001b[0;34m)\u001b[0m\u001b[0;34m\u001b[0m\u001b[0;34m\u001b[0m\u001b[0m\n\u001b[0m\u001b[1;32m     17\u001b[0m                 \u001b[0;32mexcept\u001b[0m\u001b[0;34m:\u001b[0m\u001b[0;34m\u001b[0m\u001b[0;34m\u001b[0m\u001b[0m\n\u001b[1;32m     18\u001b[0m                     \u001b[0mdo_return\u001b[0m \u001b[0;34m=\u001b[0m \u001b[0;32mFalse\u001b[0m\u001b[0;34m\u001b[0m\u001b[0;34m\u001b[0m\u001b[0m\n",
      "\u001b[0;32m/Applications/anaconda3/envs/stats/lib/python3.7/site-packages/tensorflow/python/autograph/impl/api.py\u001b[0m in \u001b[0;36mconverted_call\u001b[0;34m(f, args, kwargs, caller_fn_scope, options)\u001b[0m\n\u001b[1;32m    455\u001b[0m   \u001b[0;32mif\u001b[0m \u001b[0mconversion\u001b[0m\u001b[0;34m.\u001b[0m\u001b[0mis_in_whitelist_cache\u001b[0m\u001b[0;34m(\u001b[0m\u001b[0mf\u001b[0m\u001b[0;34m,\u001b[0m \u001b[0moptions\u001b[0m\u001b[0;34m)\u001b[0m\u001b[0;34m:\u001b[0m\u001b[0;34m\u001b[0m\u001b[0;34m\u001b[0m\u001b[0m\n\u001b[1;32m    456\u001b[0m     \u001b[0mlogging\u001b[0m\u001b[0;34m.\u001b[0m\u001b[0mlog\u001b[0m\u001b[0;34m(\u001b[0m\u001b[0;36m2\u001b[0m\u001b[0;34m,\u001b[0m \u001b[0;34m'Whitelisted %s: from cache'\u001b[0m\u001b[0;34m,\u001b[0m \u001b[0mf\u001b[0m\u001b[0;34m)\u001b[0m\u001b[0;34m\u001b[0m\u001b[0;34m\u001b[0m\u001b[0m\n\u001b[0;32m--> 457\u001b[0;31m     \u001b[0;32mreturn\u001b[0m \u001b[0m_call_unconverted\u001b[0m\u001b[0;34m(\u001b[0m\u001b[0mf\u001b[0m\u001b[0;34m,\u001b[0m \u001b[0margs\u001b[0m\u001b[0;34m,\u001b[0m \u001b[0mkwargs\u001b[0m\u001b[0;34m,\u001b[0m \u001b[0moptions\u001b[0m\u001b[0;34m,\u001b[0m \u001b[0;32mFalse\u001b[0m\u001b[0;34m)\u001b[0m\u001b[0;34m\u001b[0m\u001b[0;34m\u001b[0m\u001b[0m\n\u001b[0m\u001b[1;32m    458\u001b[0m \u001b[0;34m\u001b[0m\u001b[0m\n\u001b[1;32m    459\u001b[0m   \u001b[0;32mif\u001b[0m \u001b[0mag_ctx\u001b[0m\u001b[0;34m.\u001b[0m\u001b[0mcontrol_status_ctx\u001b[0m\u001b[0;34m(\u001b[0m\u001b[0;34m)\u001b[0m\u001b[0;34m.\u001b[0m\u001b[0mstatus\u001b[0m \u001b[0;34m==\u001b[0m \u001b[0mag_ctx\u001b[0m\u001b[0;34m.\u001b[0m\u001b[0mStatus\u001b[0m\u001b[0;34m.\u001b[0m\u001b[0mDISABLED\u001b[0m\u001b[0;34m:\u001b[0m\u001b[0;34m\u001b[0m\u001b[0;34m\u001b[0m\u001b[0m\n",
      "\u001b[0;32m/Applications/anaconda3/envs/stats/lib/python3.7/site-packages/tensorflow/python/autograph/impl/api.py\u001b[0m in \u001b[0;36m_call_unconverted\u001b[0;34m(f, args, kwargs, options, update_cache)\u001b[0m\n\u001b[1;32m    338\u001b[0m   \u001b[0;32mif\u001b[0m \u001b[0mkwargs\u001b[0m \u001b[0;32mis\u001b[0m \u001b[0;32mnot\u001b[0m \u001b[0;32mNone\u001b[0m\u001b[0;34m:\u001b[0m\u001b[0;34m\u001b[0m\u001b[0;34m\u001b[0m\u001b[0m\n\u001b[1;32m    339\u001b[0m     \u001b[0;32mreturn\u001b[0m \u001b[0mf\u001b[0m\u001b[0;34m(\u001b[0m\u001b[0;34m*\u001b[0m\u001b[0margs\u001b[0m\u001b[0;34m,\u001b[0m \u001b[0;34m**\u001b[0m\u001b[0mkwargs\u001b[0m\u001b[0;34m)\u001b[0m\u001b[0;34m\u001b[0m\u001b[0;34m\u001b[0m\u001b[0m\n\u001b[0;32m--> 340\u001b[0;31m   \u001b[0;32mreturn\u001b[0m \u001b[0mf\u001b[0m\u001b[0;34m(\u001b[0m\u001b[0;34m*\u001b[0m\u001b[0margs\u001b[0m\u001b[0;34m)\u001b[0m\u001b[0;34m\u001b[0m\u001b[0;34m\u001b[0m\u001b[0m\n\u001b[0m\u001b[1;32m    341\u001b[0m \u001b[0;34m\u001b[0m\u001b[0m\n\u001b[1;32m    342\u001b[0m \u001b[0;34m\u001b[0m\u001b[0m\n",
      "\u001b[0;32m/Applications/anaconda3/envs/stats/lib/python3.7/site-packages/tensorflow/python/keras/engine/training.py\u001b[0m in \u001b[0;36mstep_function\u001b[0;34m(model, iterator)\u001b[0m\n\u001b[1;32m    794\u001b[0m \u001b[0;34m\u001b[0m\u001b[0m\n\u001b[1;32m    795\u001b[0m       \u001b[0mdata\u001b[0m \u001b[0;34m=\u001b[0m \u001b[0mnext\u001b[0m\u001b[0;34m(\u001b[0m\u001b[0miterator\u001b[0m\u001b[0;34m)\u001b[0m\u001b[0;34m\u001b[0m\u001b[0;34m\u001b[0m\u001b[0m\n\u001b[0;32m--> 796\u001b[0;31m       \u001b[0moutputs\u001b[0m \u001b[0;34m=\u001b[0m \u001b[0mmodel\u001b[0m\u001b[0;34m.\u001b[0m\u001b[0mdistribute_strategy\u001b[0m\u001b[0;34m.\u001b[0m\u001b[0mrun\u001b[0m\u001b[0;34m(\u001b[0m\u001b[0mrun_step\u001b[0m\u001b[0;34m,\u001b[0m \u001b[0margs\u001b[0m\u001b[0;34m=\u001b[0m\u001b[0;34m(\u001b[0m\u001b[0mdata\u001b[0m\u001b[0;34m,\u001b[0m\u001b[0;34m)\u001b[0m\u001b[0;34m)\u001b[0m\u001b[0;34m\u001b[0m\u001b[0;34m\u001b[0m\u001b[0m\n\u001b[0m\u001b[1;32m    797\u001b[0m       outputs = reduce_per_replica(\n\u001b[1;32m    798\u001b[0m           outputs, self.distribute_strategy, reduction='first')\n",
      "\u001b[0;32m/Applications/anaconda3/envs/stats/lib/python3.7/site-packages/tensorflow/python/distribute/distribute_lib.py\u001b[0m in \u001b[0;36mrun\u001b[0;34m(***failed resolving arguments***)\u001b[0m\n\u001b[1;32m   1209\u001b[0m       fn = autograph.tf_convert(\n\u001b[1;32m   1210\u001b[0m           fn, autograph_ctx.control_status_ctx(), convert_by_default=False)\n\u001b[0;32m-> 1211\u001b[0;31m       \u001b[0;32mreturn\u001b[0m \u001b[0mself\u001b[0m\u001b[0;34m.\u001b[0m\u001b[0m_extended\u001b[0m\u001b[0;34m.\u001b[0m\u001b[0mcall_for_each_replica\u001b[0m\u001b[0;34m(\u001b[0m\u001b[0mfn\u001b[0m\u001b[0;34m,\u001b[0m \u001b[0margs\u001b[0m\u001b[0;34m=\u001b[0m\u001b[0margs\u001b[0m\u001b[0;34m,\u001b[0m \u001b[0mkwargs\u001b[0m\u001b[0;34m=\u001b[0m\u001b[0mkwargs\u001b[0m\u001b[0;34m)\u001b[0m\u001b[0;34m\u001b[0m\u001b[0;34m\u001b[0m\u001b[0m\n\u001b[0m\u001b[1;32m   1212\u001b[0m \u001b[0;34m\u001b[0m\u001b[0m\n\u001b[1;32m   1213\u001b[0m   \u001b[0;31m# TODO(b/151224785): Remove deprecated alias.\u001b[0m\u001b[0;34m\u001b[0m\u001b[0;34m\u001b[0m\u001b[0;34m\u001b[0m\u001b[0m\n",
      "\u001b[0;32m/Applications/anaconda3/envs/stats/lib/python3.7/site-packages/tensorflow/python/distribute/distribute_lib.py\u001b[0m in \u001b[0;36mcall_for_each_replica\u001b[0;34m(self, fn, args, kwargs)\u001b[0m\n\u001b[1;32m   2583\u001b[0m       \u001b[0mkwargs\u001b[0m \u001b[0;34m=\u001b[0m \u001b[0;34m{\u001b[0m\u001b[0;34m}\u001b[0m\u001b[0;34m\u001b[0m\u001b[0;34m\u001b[0m\u001b[0m\n\u001b[1;32m   2584\u001b[0m     \u001b[0;32mwith\u001b[0m \u001b[0mself\u001b[0m\u001b[0;34m.\u001b[0m\u001b[0m_container_strategy\u001b[0m\u001b[0;34m(\u001b[0m\u001b[0;34m)\u001b[0m\u001b[0;34m.\u001b[0m\u001b[0mscope\u001b[0m\u001b[0;34m(\u001b[0m\u001b[0;34m)\u001b[0m\u001b[0;34m:\u001b[0m\u001b[0;34m\u001b[0m\u001b[0;34m\u001b[0m\u001b[0m\n\u001b[0;32m-> 2585\u001b[0;31m       \u001b[0;32mreturn\u001b[0m \u001b[0mself\u001b[0m\u001b[0;34m.\u001b[0m\u001b[0m_call_for_each_replica\u001b[0m\u001b[0;34m(\u001b[0m\u001b[0mfn\u001b[0m\u001b[0;34m,\u001b[0m \u001b[0margs\u001b[0m\u001b[0;34m,\u001b[0m \u001b[0mkwargs\u001b[0m\u001b[0;34m)\u001b[0m\u001b[0;34m\u001b[0m\u001b[0;34m\u001b[0m\u001b[0m\n\u001b[0m\u001b[1;32m   2586\u001b[0m \u001b[0;34m\u001b[0m\u001b[0m\n\u001b[1;32m   2587\u001b[0m   \u001b[0;32mdef\u001b[0m \u001b[0m_call_for_each_replica\u001b[0m\u001b[0;34m(\u001b[0m\u001b[0mself\u001b[0m\u001b[0;34m,\u001b[0m \u001b[0mfn\u001b[0m\u001b[0;34m,\u001b[0m \u001b[0margs\u001b[0m\u001b[0;34m,\u001b[0m \u001b[0mkwargs\u001b[0m\u001b[0;34m)\u001b[0m\u001b[0;34m:\u001b[0m\u001b[0;34m\u001b[0m\u001b[0;34m\u001b[0m\u001b[0m\n",
      "\u001b[0;32m/Applications/anaconda3/envs/stats/lib/python3.7/site-packages/tensorflow/python/distribute/distribute_lib.py\u001b[0m in \u001b[0;36m_call_for_each_replica\u001b[0;34m(self, fn, args, kwargs)\u001b[0m\n\u001b[1;32m   2943\u001b[0m         \u001b[0mself\u001b[0m\u001b[0;34m.\u001b[0m\u001b[0m_container_strategy\u001b[0m\u001b[0;34m(\u001b[0m\u001b[0;34m)\u001b[0m\u001b[0;34m,\u001b[0m\u001b[0;34m\u001b[0m\u001b[0;34m\u001b[0m\u001b[0m\n\u001b[1;32m   2944\u001b[0m         replica_id_in_sync_group=constant_op.constant(0, dtypes.int32)):\n\u001b[0;32m-> 2945\u001b[0;31m       \u001b[0;32mreturn\u001b[0m \u001b[0mfn\u001b[0m\u001b[0;34m(\u001b[0m\u001b[0;34m*\u001b[0m\u001b[0margs\u001b[0m\u001b[0;34m,\u001b[0m \u001b[0;34m**\u001b[0m\u001b[0mkwargs\u001b[0m\u001b[0;34m)\u001b[0m\u001b[0;34m\u001b[0m\u001b[0;34m\u001b[0m\u001b[0m\n\u001b[0m\u001b[1;32m   2946\u001b[0m \u001b[0;34m\u001b[0m\u001b[0m\n\u001b[1;32m   2947\u001b[0m   \u001b[0;32mdef\u001b[0m \u001b[0m_reduce_to\u001b[0m\u001b[0;34m(\u001b[0m\u001b[0mself\u001b[0m\u001b[0;34m,\u001b[0m \u001b[0mreduce_op\u001b[0m\u001b[0;34m,\u001b[0m \u001b[0mvalue\u001b[0m\u001b[0;34m,\u001b[0m \u001b[0mdestinations\u001b[0m\u001b[0;34m,\u001b[0m \u001b[0mexperimental_hints\u001b[0m\u001b[0;34m)\u001b[0m\u001b[0;34m:\u001b[0m\u001b[0;34m\u001b[0m\u001b[0;34m\u001b[0m\u001b[0m\n",
      "\u001b[0;32m/Applications/anaconda3/envs/stats/lib/python3.7/site-packages/tensorflow/python/autograph/impl/api.py\u001b[0m in \u001b[0;36mwrapper\u001b[0;34m(*args, **kwargs)\u001b[0m\n\u001b[1;32m    253\u001b[0m       \u001b[0;32mtry\u001b[0m\u001b[0;34m:\u001b[0m\u001b[0;34m\u001b[0m\u001b[0;34m\u001b[0m\u001b[0m\n\u001b[1;32m    254\u001b[0m         \u001b[0;32mwith\u001b[0m \u001b[0mconversion_ctx\u001b[0m\u001b[0;34m:\u001b[0m\u001b[0;34m\u001b[0m\u001b[0;34m\u001b[0m\u001b[0m\n\u001b[0;32m--> 255\u001b[0;31m           \u001b[0;32mreturn\u001b[0m \u001b[0mconverted_call\u001b[0m\u001b[0;34m(\u001b[0m\u001b[0mf\u001b[0m\u001b[0;34m,\u001b[0m \u001b[0margs\u001b[0m\u001b[0;34m,\u001b[0m \u001b[0mkwargs\u001b[0m\u001b[0;34m,\u001b[0m \u001b[0moptions\u001b[0m\u001b[0;34m=\u001b[0m\u001b[0moptions\u001b[0m\u001b[0;34m)\u001b[0m\u001b[0;34m\u001b[0m\u001b[0;34m\u001b[0m\u001b[0m\n\u001b[0m\u001b[1;32m    256\u001b[0m       \u001b[0;32mexcept\u001b[0m \u001b[0mException\u001b[0m \u001b[0;32mas\u001b[0m \u001b[0me\u001b[0m\u001b[0;34m:\u001b[0m  \u001b[0;31m# pylint:disable=broad-except\u001b[0m\u001b[0;34m\u001b[0m\u001b[0;34m\u001b[0m\u001b[0m\n\u001b[1;32m    257\u001b[0m         \u001b[0;32mif\u001b[0m \u001b[0mhasattr\u001b[0m\u001b[0;34m(\u001b[0m\u001b[0me\u001b[0m\u001b[0;34m,\u001b[0m \u001b[0;34m'ag_error_metadata'\u001b[0m\u001b[0;34m)\u001b[0m\u001b[0;34m:\u001b[0m\u001b[0;34m\u001b[0m\u001b[0;34m\u001b[0m\u001b[0m\n",
      "\u001b[0;32m/Applications/anaconda3/envs/stats/lib/python3.7/site-packages/tensorflow/python/autograph/impl/api.py\u001b[0m in \u001b[0;36mconverted_call\u001b[0;34m(f, args, kwargs, caller_fn_scope, options)\u001b[0m\n\u001b[1;32m    530\u001b[0m \u001b[0;34m\u001b[0m\u001b[0m\n\u001b[1;32m    531\u001b[0m   \u001b[0;32mif\u001b[0m \u001b[0;32mnot\u001b[0m \u001b[0moptions\u001b[0m\u001b[0;34m.\u001b[0m\u001b[0muser_requested\u001b[0m \u001b[0;32mand\u001b[0m \u001b[0mconversion\u001b[0m\u001b[0;34m.\u001b[0m\u001b[0mis_whitelisted\u001b[0m\u001b[0;34m(\u001b[0m\u001b[0mf\u001b[0m\u001b[0;34m)\u001b[0m\u001b[0;34m:\u001b[0m\u001b[0;34m\u001b[0m\u001b[0;34m\u001b[0m\u001b[0m\n\u001b[0;32m--> 532\u001b[0;31m     \u001b[0;32mreturn\u001b[0m \u001b[0m_call_unconverted\u001b[0m\u001b[0;34m(\u001b[0m\u001b[0mf\u001b[0m\u001b[0;34m,\u001b[0m \u001b[0margs\u001b[0m\u001b[0;34m,\u001b[0m \u001b[0mkwargs\u001b[0m\u001b[0;34m,\u001b[0m \u001b[0moptions\u001b[0m\u001b[0;34m)\u001b[0m\u001b[0;34m\u001b[0m\u001b[0;34m\u001b[0m\u001b[0m\n\u001b[0m\u001b[1;32m    533\u001b[0m \u001b[0;34m\u001b[0m\u001b[0m\n\u001b[1;32m    534\u001b[0m   \u001b[0;31m# internal_convert_user_code is for example turned off when issuing a dynamic\u001b[0m\u001b[0;34m\u001b[0m\u001b[0;34m\u001b[0m\u001b[0;34m\u001b[0m\u001b[0m\n",
      "\u001b[0;32m/Applications/anaconda3/envs/stats/lib/python3.7/site-packages/tensorflow/python/autograph/impl/api.py\u001b[0m in \u001b[0;36m_call_unconverted\u001b[0;34m(f, args, kwargs, options, update_cache)\u001b[0m\n\u001b[1;32m    337\u001b[0m \u001b[0;34m\u001b[0m\u001b[0m\n\u001b[1;32m    338\u001b[0m   \u001b[0;32mif\u001b[0m \u001b[0mkwargs\u001b[0m \u001b[0;32mis\u001b[0m \u001b[0;32mnot\u001b[0m \u001b[0;32mNone\u001b[0m\u001b[0;34m:\u001b[0m\u001b[0;34m\u001b[0m\u001b[0;34m\u001b[0m\u001b[0m\n\u001b[0;32m--> 339\u001b[0;31m     \u001b[0;32mreturn\u001b[0m \u001b[0mf\u001b[0m\u001b[0;34m(\u001b[0m\u001b[0;34m*\u001b[0m\u001b[0margs\u001b[0m\u001b[0;34m,\u001b[0m \u001b[0;34m**\u001b[0m\u001b[0mkwargs\u001b[0m\u001b[0;34m)\u001b[0m\u001b[0;34m\u001b[0m\u001b[0;34m\u001b[0m\u001b[0m\n\u001b[0m\u001b[1;32m    340\u001b[0m   \u001b[0;32mreturn\u001b[0m \u001b[0mf\u001b[0m\u001b[0;34m(\u001b[0m\u001b[0;34m*\u001b[0m\u001b[0margs\u001b[0m\u001b[0;34m)\u001b[0m\u001b[0;34m\u001b[0m\u001b[0;34m\u001b[0m\u001b[0m\n\u001b[1;32m    341\u001b[0m \u001b[0;34m\u001b[0m\u001b[0m\n",
      "\u001b[0;32m/Applications/anaconda3/envs/stats/lib/python3.7/site-packages/tensorflow/python/keras/engine/training.py\u001b[0m in \u001b[0;36mrun_step\u001b[0;34m(data)\u001b[0m\n\u001b[1;32m    787\u001b[0m \u001b[0;34m\u001b[0m\u001b[0m\n\u001b[1;32m    788\u001b[0m       \u001b[0;32mdef\u001b[0m \u001b[0mrun_step\u001b[0m\u001b[0;34m(\u001b[0m\u001b[0mdata\u001b[0m\u001b[0;34m)\u001b[0m\u001b[0;34m:\u001b[0m\u001b[0;34m\u001b[0m\u001b[0;34m\u001b[0m\u001b[0m\n\u001b[0;32m--> 789\u001b[0;31m         \u001b[0moutputs\u001b[0m \u001b[0;34m=\u001b[0m \u001b[0mmodel\u001b[0m\u001b[0;34m.\u001b[0m\u001b[0mtrain_step\u001b[0m\u001b[0;34m(\u001b[0m\u001b[0mdata\u001b[0m\u001b[0;34m)\u001b[0m\u001b[0;34m\u001b[0m\u001b[0;34m\u001b[0m\u001b[0m\n\u001b[0m\u001b[1;32m    790\u001b[0m         \u001b[0;31m# Ensure counter is updated only if `train_step` succeeds.\u001b[0m\u001b[0;34m\u001b[0m\u001b[0;34m\u001b[0m\u001b[0;34m\u001b[0m\u001b[0m\n\u001b[1;32m    791\u001b[0m         \u001b[0;32mwith\u001b[0m \u001b[0mops\u001b[0m\u001b[0;34m.\u001b[0m\u001b[0mcontrol_dependencies\u001b[0m\u001b[0;34m(\u001b[0m\u001b[0m_minimum_control_deps\u001b[0m\u001b[0;34m(\u001b[0m\u001b[0moutputs\u001b[0m\u001b[0;34m)\u001b[0m\u001b[0;34m)\u001b[0m\u001b[0;34m:\u001b[0m\u001b[0;34m\u001b[0m\u001b[0;34m\u001b[0m\u001b[0m\n",
      "\u001b[0;32m/Applications/anaconda3/envs/stats/lib/python3.7/site-packages/tensorflow/python/keras/engine/training.py\u001b[0m in \u001b[0;36mtrain_step\u001b[0;34m(self, data)\u001b[0m\n\u001b[1;32m    755\u001b[0m     \u001b[0;31m# such as loss scaling and gradient clipping.\u001b[0m\u001b[0;34m\u001b[0m\u001b[0;34m\u001b[0m\u001b[0;34m\u001b[0m\u001b[0m\n\u001b[1;32m    756\u001b[0m     _minimize(self.distribute_strategy, tape, self.optimizer, loss,\n\u001b[0;32m--> 757\u001b[0;31m               self.trainable_variables)\n\u001b[0m\u001b[1;32m    758\u001b[0m \u001b[0;34m\u001b[0m\u001b[0m\n\u001b[1;32m    759\u001b[0m     \u001b[0mself\u001b[0m\u001b[0;34m.\u001b[0m\u001b[0mcompiled_metrics\u001b[0m\u001b[0;34m.\u001b[0m\u001b[0mupdate_state\u001b[0m\u001b[0;34m(\u001b[0m\u001b[0my\u001b[0m\u001b[0;34m,\u001b[0m \u001b[0my_pred\u001b[0m\u001b[0;34m,\u001b[0m \u001b[0msample_weight\u001b[0m\u001b[0;34m)\u001b[0m\u001b[0;34m\u001b[0m\u001b[0;34m\u001b[0m\u001b[0m\n",
      "\u001b[0;32m/Applications/anaconda3/envs/stats/lib/python3.7/site-packages/tensorflow/python/keras/engine/training.py\u001b[0m in \u001b[0;36m_minimize\u001b[0;34m(strategy, tape, optimizer, loss, trainable_variables)\u001b[0m\n\u001b[1;32m   2720\u001b[0m       \u001b[0mloss\u001b[0m \u001b[0;34m=\u001b[0m \u001b[0moptimizer\u001b[0m\u001b[0;34m.\u001b[0m\u001b[0mget_scaled_loss\u001b[0m\u001b[0;34m(\u001b[0m\u001b[0mloss\u001b[0m\u001b[0;34m)\u001b[0m\u001b[0;34m\u001b[0m\u001b[0;34m\u001b[0m\u001b[0m\n\u001b[1;32m   2721\u001b[0m \u001b[0;34m\u001b[0m\u001b[0m\n\u001b[0;32m-> 2722\u001b[0;31m   \u001b[0mgradients\u001b[0m \u001b[0;34m=\u001b[0m \u001b[0mtape\u001b[0m\u001b[0;34m.\u001b[0m\u001b[0mgradient\u001b[0m\u001b[0;34m(\u001b[0m\u001b[0mloss\u001b[0m\u001b[0;34m,\u001b[0m \u001b[0mtrainable_variables\u001b[0m\u001b[0;34m)\u001b[0m\u001b[0;34m\u001b[0m\u001b[0;34m\u001b[0m\u001b[0m\n\u001b[0m\u001b[1;32m   2723\u001b[0m \u001b[0;34m\u001b[0m\u001b[0m\n\u001b[1;32m   2724\u001b[0m   \u001b[0;31m# Whether to aggregate gradients outside of optimizer. This requires support\u001b[0m\u001b[0;34m\u001b[0m\u001b[0;34m\u001b[0m\u001b[0;34m\u001b[0m\u001b[0m\n",
      "\u001b[0;32m/Applications/anaconda3/envs/stats/lib/python3.7/site-packages/tensorflow/python/eager/backprop.py\u001b[0m in \u001b[0;36mgradient\u001b[0;34m(self, target, sources, output_gradients, unconnected_gradients)\u001b[0m\n\u001b[1;32m   1071\u001b[0m         \u001b[0moutput_gradients\u001b[0m\u001b[0;34m=\u001b[0m\u001b[0moutput_gradients\u001b[0m\u001b[0;34m,\u001b[0m\u001b[0;34m\u001b[0m\u001b[0;34m\u001b[0m\u001b[0m\n\u001b[1;32m   1072\u001b[0m         \u001b[0msources_raw\u001b[0m\u001b[0;34m=\u001b[0m\u001b[0mflat_sources_raw\u001b[0m\u001b[0;34m,\u001b[0m\u001b[0;34m\u001b[0m\u001b[0;34m\u001b[0m\u001b[0m\n\u001b[0;32m-> 1073\u001b[0;31m         unconnected_gradients=unconnected_gradients)\n\u001b[0m\u001b[1;32m   1074\u001b[0m \u001b[0;34m\u001b[0m\u001b[0m\n\u001b[1;32m   1075\u001b[0m     \u001b[0;32mif\u001b[0m \u001b[0;32mnot\u001b[0m \u001b[0mself\u001b[0m\u001b[0;34m.\u001b[0m\u001b[0m_persistent\u001b[0m\u001b[0;34m:\u001b[0m\u001b[0;34m\u001b[0m\u001b[0;34m\u001b[0m\u001b[0m\n",
      "\u001b[0;32m/Applications/anaconda3/envs/stats/lib/python3.7/site-packages/tensorflow/python/eager/imperative_grad.py\u001b[0m in \u001b[0;36mimperative_grad\u001b[0;34m(tape, target, sources, output_gradients, sources_raw, unconnected_gradients)\u001b[0m\n\u001b[1;32m     75\u001b[0m       \u001b[0moutput_gradients\u001b[0m\u001b[0;34m,\u001b[0m\u001b[0;34m\u001b[0m\u001b[0;34m\u001b[0m\u001b[0m\n\u001b[1;32m     76\u001b[0m       \u001b[0msources_raw\u001b[0m\u001b[0;34m,\u001b[0m\u001b[0;34m\u001b[0m\u001b[0;34m\u001b[0m\u001b[0m\n\u001b[0;32m---> 77\u001b[0;31m       compat.as_str(unconnected_gradients.value))\n\u001b[0m",
      "\u001b[0;32m/Applications/anaconda3/envs/stats/lib/python3.7/site-packages/tensorflow/python/eager/backprop.py\u001b[0m in \u001b[0;36m_gradient_function\u001b[0;34m(op_name, attr_tuple, num_inputs, inputs, outputs, out_grads, skip_input_indices, forward_pass_name_scope)\u001b[0m\n\u001b[1;32m    160\u001b[0m       \u001b[0mgradient_name_scope\u001b[0m \u001b[0;34m+=\u001b[0m \u001b[0mforward_pass_name_scope\u001b[0m \u001b[0;34m+\u001b[0m \u001b[0;34m\"/\"\u001b[0m\u001b[0;34m\u001b[0m\u001b[0;34m\u001b[0m\u001b[0m\n\u001b[1;32m    161\u001b[0m     \u001b[0;32mwith\u001b[0m \u001b[0mops\u001b[0m\u001b[0;34m.\u001b[0m\u001b[0mname_scope\u001b[0m\u001b[0;34m(\u001b[0m\u001b[0mgradient_name_scope\u001b[0m\u001b[0;34m)\u001b[0m\u001b[0;34m:\u001b[0m\u001b[0;34m\u001b[0m\u001b[0;34m\u001b[0m\u001b[0m\n\u001b[0;32m--> 162\u001b[0;31m       \u001b[0;32mreturn\u001b[0m \u001b[0mgrad_fn\u001b[0m\u001b[0;34m(\u001b[0m\u001b[0mmock_op\u001b[0m\u001b[0;34m,\u001b[0m \u001b[0;34m*\u001b[0m\u001b[0mout_grads\u001b[0m\u001b[0;34m)\u001b[0m\u001b[0;34m\u001b[0m\u001b[0;34m\u001b[0m\u001b[0m\n\u001b[0m\u001b[1;32m    163\u001b[0m   \u001b[0;32melse\u001b[0m\u001b[0;34m:\u001b[0m\u001b[0;34m\u001b[0m\u001b[0;34m\u001b[0m\u001b[0m\n\u001b[1;32m    164\u001b[0m     \u001b[0;32mreturn\u001b[0m \u001b[0mgrad_fn\u001b[0m\u001b[0;34m(\u001b[0m\u001b[0mmock_op\u001b[0m\u001b[0;34m,\u001b[0m \u001b[0;34m*\u001b[0m\u001b[0mout_grads\u001b[0m\u001b[0;34m)\u001b[0m\u001b[0;34m\u001b[0m\u001b[0;34m\u001b[0m\u001b[0m\n",
      "\u001b[0;32m/Applications/anaconda3/envs/stats/lib/python3.7/site-packages/tensorflow/python/ops/math_grad.py\u001b[0m in \u001b[0;36m_MatMulGrad\u001b[0;34m(op, grad)\u001b[0m\n\u001b[1;32m   1689\u001b[0m   \u001b[0mb\u001b[0m \u001b[0;34m=\u001b[0m \u001b[0mmath_ops\u001b[0m\u001b[0;34m.\u001b[0m\u001b[0mconj\u001b[0m\u001b[0;34m(\u001b[0m\u001b[0mop\u001b[0m\u001b[0;34m.\u001b[0m\u001b[0minputs\u001b[0m\u001b[0;34m[\u001b[0m\u001b[0;36m1\u001b[0m\u001b[0;34m]\u001b[0m\u001b[0;34m)\u001b[0m\u001b[0;34m\u001b[0m\u001b[0;34m\u001b[0m\u001b[0m\n\u001b[1;32m   1690\u001b[0m   \u001b[0;32mif\u001b[0m \u001b[0;32mnot\u001b[0m \u001b[0mt_a\u001b[0m \u001b[0;32mand\u001b[0m \u001b[0;32mnot\u001b[0m \u001b[0mt_b\u001b[0m\u001b[0;34m:\u001b[0m\u001b[0;34m\u001b[0m\u001b[0;34m\u001b[0m\u001b[0m\n\u001b[0;32m-> 1691\u001b[0;31m     \u001b[0mgrad_a\u001b[0m \u001b[0;34m=\u001b[0m \u001b[0mgen_math_ops\u001b[0m\u001b[0;34m.\u001b[0m\u001b[0mmat_mul\u001b[0m\u001b[0;34m(\u001b[0m\u001b[0mgrad\u001b[0m\u001b[0;34m,\u001b[0m \u001b[0mb\u001b[0m\u001b[0;34m,\u001b[0m \u001b[0mtranspose_b\u001b[0m\u001b[0;34m=\u001b[0m\u001b[0;32mTrue\u001b[0m\u001b[0;34m)\u001b[0m\u001b[0;34m\u001b[0m\u001b[0;34m\u001b[0m\u001b[0m\n\u001b[0m\u001b[1;32m   1692\u001b[0m     \u001b[0mgrad_b\u001b[0m \u001b[0;34m=\u001b[0m \u001b[0mgen_math_ops\u001b[0m\u001b[0;34m.\u001b[0m\u001b[0mmat_mul\u001b[0m\u001b[0;34m(\u001b[0m\u001b[0ma\u001b[0m\u001b[0;34m,\u001b[0m \u001b[0mgrad\u001b[0m\u001b[0;34m,\u001b[0m \u001b[0mtranspose_a\u001b[0m\u001b[0;34m=\u001b[0m\u001b[0;32mTrue\u001b[0m\u001b[0;34m)\u001b[0m\u001b[0;34m\u001b[0m\u001b[0;34m\u001b[0m\u001b[0m\n\u001b[1;32m   1693\u001b[0m   \u001b[0;32melif\u001b[0m \u001b[0;32mnot\u001b[0m \u001b[0mt_a\u001b[0m \u001b[0;32mand\u001b[0m \u001b[0mt_b\u001b[0m\u001b[0;34m:\u001b[0m\u001b[0;34m\u001b[0m\u001b[0;34m\u001b[0m\u001b[0m\n",
      "\u001b[0;32m/Applications/anaconda3/envs/stats/lib/python3.7/site-packages/tensorflow/python/ops/gen_math_ops.py\u001b[0m in \u001b[0;36mmat_mul\u001b[0;34m(a, b, transpose_a, transpose_b, name)\u001b[0m\n\u001b[1;32m   5640\u001b[0m   _, _, _op, _outputs = _op_def_library._apply_op_helper(\n\u001b[1;32m   5641\u001b[0m         \u001b[0;34m\"MatMul\"\u001b[0m\u001b[0;34m,\u001b[0m \u001b[0ma\u001b[0m\u001b[0;34m=\u001b[0m\u001b[0ma\u001b[0m\u001b[0;34m,\u001b[0m \u001b[0mb\u001b[0m\u001b[0;34m=\u001b[0m\u001b[0mb\u001b[0m\u001b[0;34m,\u001b[0m \u001b[0mtranspose_a\u001b[0m\u001b[0;34m=\u001b[0m\u001b[0mtranspose_a\u001b[0m\u001b[0;34m,\u001b[0m \u001b[0mtranspose_b\u001b[0m\u001b[0;34m=\u001b[0m\u001b[0mtranspose_b\u001b[0m\u001b[0;34m,\u001b[0m\u001b[0;34m\u001b[0m\u001b[0;34m\u001b[0m\u001b[0m\n\u001b[0;32m-> 5642\u001b[0;31m                   name=name)\n\u001b[0m\u001b[1;32m   5643\u001b[0m   \u001b[0m_result\u001b[0m \u001b[0;34m=\u001b[0m \u001b[0m_outputs\u001b[0m\u001b[0;34m[\u001b[0m\u001b[0;34m:\u001b[0m\u001b[0;34m]\u001b[0m\u001b[0;34m\u001b[0m\u001b[0;34m\u001b[0m\u001b[0m\n\u001b[1;32m   5644\u001b[0m   \u001b[0;32mif\u001b[0m \u001b[0m_execute\u001b[0m\u001b[0;34m.\u001b[0m\u001b[0mmust_record_gradient\u001b[0m\u001b[0;34m(\u001b[0m\u001b[0;34m)\u001b[0m\u001b[0;34m:\u001b[0m\u001b[0;34m\u001b[0m\u001b[0;34m\u001b[0m\u001b[0m\n",
      "\u001b[0;32m/Applications/anaconda3/envs/stats/lib/python3.7/site-packages/tensorflow/python/framework/op_def_library.py\u001b[0m in \u001b[0;36m_apply_op_helper\u001b[0;34m(op_type_name, name, **keywords)\u001b[0m\n\u001b[1;32m    639\u001b[0m       \u001b[0mvalue\u001b[0m \u001b[0;34m=\u001b[0m \u001b[0mattrs\u001b[0m\u001b[0;34m[\u001b[0m\u001b[0mkey\u001b[0m\u001b[0;34m]\u001b[0m\u001b[0;34m\u001b[0m\u001b[0;34m\u001b[0m\u001b[0m\n\u001b[1;32m    640\u001b[0m       \u001b[0mattr_value\u001b[0m \u001b[0;34m=\u001b[0m \u001b[0mattr_value_pb2\u001b[0m\u001b[0;34m.\u001b[0m\u001b[0mAttrValue\u001b[0m\u001b[0;34m(\u001b[0m\u001b[0;34m)\u001b[0m\u001b[0;34m\u001b[0m\u001b[0;34m\u001b[0m\u001b[0m\n\u001b[0;32m--> 641\u001b[0;31m       \u001b[0;32mif\u001b[0m \u001b[0mattr_def\u001b[0m\u001b[0;34m.\u001b[0m\u001b[0mHasField\u001b[0m\u001b[0;34m(\u001b[0m\u001b[0;34m\"default_value\"\u001b[0m\u001b[0;34m)\u001b[0m \u001b[0;32mand\u001b[0m \u001b[0mvalue\u001b[0m \u001b[0;32mis\u001b[0m \u001b[0;32mNone\u001b[0m\u001b[0;34m:\u001b[0m\u001b[0;34m\u001b[0m\u001b[0;34m\u001b[0m\u001b[0m\n\u001b[0m\u001b[1;32m    642\u001b[0m         \u001b[0mattr_value\u001b[0m\u001b[0;34m.\u001b[0m\u001b[0mCopyFrom\u001b[0m\u001b[0;34m(\u001b[0m\u001b[0mattr_def\u001b[0m\u001b[0;34m.\u001b[0m\u001b[0mdefault_value\u001b[0m\u001b[0;34m)\u001b[0m\u001b[0;34m\u001b[0m\u001b[0;34m\u001b[0m\u001b[0m\n\u001b[1;32m    643\u001b[0m         \u001b[0mattr_protos\u001b[0m\u001b[0;34m[\u001b[0m\u001b[0mkey\u001b[0m\u001b[0;34m]\u001b[0m \u001b[0;34m=\u001b[0m \u001b[0mattr_value\u001b[0m\u001b[0;34m\u001b[0m\u001b[0;34m\u001b[0m\u001b[0m\n",
      "\u001b[0;31mKeyboardInterrupt\u001b[0m: "
     ]
    }
   ],
   "source": [
    "keras.backend.clear_session()\n",
    "tf.random.set_seed(42)\n",
    "np.random.seed(42)\n",
    "\n",
    "# define BN before activation model\n",
    "model = keras.Sequential()\n",
    "model.add(keras.layers.Flatten(input_shape = X_train.shape[1:]))\n",
    "model.add(keras.layers.BatchNormalization())\n",
    "for _ in range(20):\n",
    "    model.add(keras.layers.Dense(units=100, kernel_initializer='he_normal', use_bias=False))\n",
    "    model.add(keras.layers.BatchNormalization())\n",
    "    model.add(keras.layers.Activation('elu'))\n",
    "model.add(keras.layers.Dense(10, activation='softmax'))\n",
    "\n",
    "# pick a good learning rate with 20 epochs\n",
    "for lr in lr_dict['lr']:\n",
    "    print('\\n\\nProcessing learning rate = {}'.format(lr))\n",
    "    optimizer = keras.optimizers.Nadam(learning_rate=lr)\n",
    "    model.compile(loss='sparse_categorical_crossentropy',\n",
    "                 optimizer = optimizer,\n",
    "                 metrics = ['accuracy'])\n",
    "    model.fit(X_train, y_train, epochs = 20,\n",
    "                validation_data=(X_valid, y_valid))\n",
    "    lr_dict['bf_val_loss'].append(model.history.history['val_loss'][-1])"
   ]
  },
  {
   "cell_type": "code",
   "execution_count": 137,
   "metadata": {},
   "outputs": [
    {
     "data": {
      "text/plain": [
       "Text(0.5, 1.0, 'BN after activation')"
      ]
     },
     "execution_count": 137,
     "metadata": {},
     "output_type": "execute_result"
    },
    {
     "data": {
      "image/png": "[encoded data removed]",
      "text/plain": [
       "<Figure size 432x288 with 1 Axes>"
      ]
     },
     "metadata": {
      "needs_background": "light"
     },
     "output_type": "display_data"
    }
   ],
   "source": [
    "best_lr = lr_dict['lr'][np.argmin(lr_dict['af_val_loss'])]\n",
    "lowest_loss = np.min(lr_dict['af_val_loss'])\n",
    "\n",
    "# pd.DataFrame(lr_dict).set_index('lr').plot()\n",
    "plt.plot(lr_dict['lr'], lr_dict['af_val_loss'], label=f'best lr = {best_lr:.0e} with loss = {lowest_loss:.2f}')\n",
    "plt.grid(True)\n",
    "plt.legend()\n",
    "plt.xlabel('learning rate')\n",
    "plt.ylabel('training loss')\n",
    "plt.title('BN after activation')"
   ]
  },
  {
   "cell_type": "markdown",
   "metadata": {},
   "source": [
    "Rerun model for 100 epochs with best_lr found."
   ]
  },
  {
   "cell_type": "code",
   "execution_count": 138,
   "metadata": {
    "collapsed": true,
    "jupyter": {
     "outputs_hidden": true
    }
   },
   "outputs": [
    {
     "name": "stdout",
     "output_type": "stream",
     "text": [
      "Epoch 1/100\n",
      "   2/1407 [..............................] - ETA: 1:09:43 - loss: 3.3255 - accuracy: 0.0781WARNING:tensorflow:Callbacks method `on_train_batch_end` is slow compared to the batch time (batch time: 0.0120s vs `on_train_batch_end` time: 5.9429s). Check your callbacks.\n",
      "1407/1407 [==============================] - 20s 14ms/step - loss: 2.2277 - accuracy: 0.2154 - val_loss: 1.8954 - val_accuracy: 0.3078\n",
      "Epoch 2/100\n",
      "1407/1407 [==============================] - 15s 11ms/step - loss: 1.9041 - accuracy: 0.3150 - val_loss: 1.7629 - val_accuracy: 0.3598\n",
      "Epoch 3/100\n",
      "1407/1407 [==============================] - 16s 11ms/step - loss: 1.8093 - accuracy: 0.3517 - val_loss: 1.6824 - val_accuracy: 0.3976\n",
      "Epoch 4/100\n",
      "1407/1407 [==============================] - 16s 12ms/step - loss: 1.7389 - accuracy: 0.3776 - val_loss: 1.6357 - val_accuracy: 0.4178\n",
      "Epoch 5/100\n",
      "1407/1407 [==============================] - 16s 11ms/step - loss: 1.6905 - accuracy: 0.3956 - val_loss: 1.5892 - val_accuracy: 0.4344\n",
      "Epoch 6/100\n",
      "1407/1407 [==============================] - 16s 12ms/step - loss: 1.6502 - accuracy: 0.4112 - val_loss: 1.5540 - val_accuracy: 0.4428\n",
      "Epoch 7/100\n",
      "1407/1407 [==============================] - 18s 13ms/step - loss: 1.6127 - accuracy: 0.4261 - val_loss: 1.5371 - val_accuracy: 0.4498\n",
      "Epoch 8/100\n",
      "1407/1407 [==============================] - 19s 13ms/step - loss: 1.5825 - accuracy: 0.4376 - val_loss: 1.5159 - val_accuracy: 0.4570\n",
      "Epoch 9/100\n",
      "1407/1407 [==============================] - 18s 13ms/step - loss: 1.5623 - accuracy: 0.4458 - val_loss: 1.4991 - val_accuracy: 0.4650\n",
      "Epoch 10/100\n",
      "1407/1407 [==============================] - 18s 13ms/step - loss: 1.5374 - accuracy: 0.4535 - val_loss: 1.4877 - val_accuracy: 0.4692\n",
      "Epoch 11/100\n",
      "1407/1407 [==============================] - 17s 12ms/step - loss: 1.5187 - accuracy: 0.4619 - val_loss: 1.4727 - val_accuracy: 0.4650\n",
      "Epoch 12/100\n",
      "1407/1407 [==============================] - 16s 11ms/step - loss: 1.4945 - accuracy: 0.4684 - val_loss: 1.4569 - val_accuracy: 0.4786\n",
      "Epoch 13/100\n",
      "1407/1407 [==============================] - 16s 11ms/step - loss: 1.4745 - accuracy: 0.4738 - val_loss: 1.4534 - val_accuracy: 0.4788\n",
      "Epoch 14/100\n",
      "1407/1407 [==============================] - 16s 11ms/step - loss: 1.4588 - accuracy: 0.4840 - val_loss: 1.4403 - val_accuracy: 0.4858\n",
      "Epoch 15/100\n",
      "1407/1407 [==============================] - 16s 11ms/step - loss: 1.4394 - accuracy: 0.4876 - val_loss: 1.4456 - val_accuracy: 0.4914\n",
      "Epoch 16/100\n",
      "1407/1407 [==============================] - 16s 11ms/step - loss: 1.4317 - accuracy: 0.4898 - val_loss: 1.4163 - val_accuracy: 0.4992\n",
      "Epoch 17/100\n",
      "1407/1407 [==============================] - 17s 12ms/step - loss: 1.4109 - accuracy: 0.4996 - val_loss: 1.4086 - val_accuracy: 0.4996\n",
      "Epoch 18/100\n",
      "1407/1407 [==============================] - 17s 12ms/step - loss: 1.3987 - accuracy: 0.5044 - val_loss: 1.4100 - val_accuracy: 0.4966\n",
      "Epoch 19/100\n",
      "1407/1407 [==============================] - 17s 12ms/step - loss: 1.3786 - accuracy: 0.5104 - val_loss: 1.4065 - val_accuracy: 0.5040\n",
      "Epoch 20/100\n",
      "1407/1407 [==============================] - 17s 12ms/step - loss: 1.3676 - accuracy: 0.5195 - val_loss: 1.4019 - val_accuracy: 0.5010\n",
      "Epoch 21/100\n",
      "1407/1407 [==============================] - 17s 12ms/step - loss: 1.3551 - accuracy: 0.5179 - val_loss: 1.3845 - val_accuracy: 0.5064\n",
      "Epoch 22/100\n",
      "1407/1407 [==============================] - 17s 12ms/step - loss: 1.3400 - accuracy: 0.5251 - val_loss: 1.3952 - val_accuracy: 0.5052\n",
      "Epoch 23/100\n",
      "1407/1407 [==============================] - 17s 12ms/step - loss: 1.3311 - accuracy: 0.5272 - val_loss: 1.3905 - val_accuracy: 0.5068\n",
      "Epoch 24/100\n",
      "1407/1407 [==============================] - 17s 12ms/step - loss: 1.3170 - accuracy: 0.5330 - val_loss: 1.3769 - val_accuracy: 0.5080\n",
      "Epoch 25/100\n",
      "1407/1407 [==============================] - 17s 12ms/step - loss: 1.3108 - accuracy: 0.5338 - val_loss: 1.3835 - val_accuracy: 0.5124\n",
      "Epoch 26/100\n",
      "1407/1407 [==============================] - 16s 12ms/step - loss: 1.3026 - accuracy: 0.5370 - val_loss: 1.3767 - val_accuracy: 0.5048\n",
      "Epoch 27/100\n",
      "1407/1407 [==============================] - 17s 12ms/step - loss: 1.2897 - accuracy: 0.5401 - val_loss: 1.3752 - val_accuracy: 0.5104\n",
      "Epoch 28/100\n",
      "1407/1407 [==============================] - 16s 12ms/step - loss: 1.2848 - accuracy: 0.5464 - val_loss: 1.3857 - val_accuracy: 0.5036\n",
      "Epoch 29/100\n",
      "1407/1407 [==============================] - 17s 12ms/step - loss: 1.2702 - accuracy: 0.5504 - val_loss: 1.3757 - val_accuracy: 0.5126\n",
      "Epoch 30/100\n",
      "1407/1407 [==============================] - 17s 12ms/step - loss: 1.2622 - accuracy: 0.5490 - val_loss: 1.3691 - val_accuracy: 0.5128\n",
      "Epoch 31/100\n",
      "1407/1407 [==============================] - 17s 12ms/step - loss: 1.2505 - accuracy: 0.5576 - val_loss: 1.3643 - val_accuracy: 0.5202\n",
      "Epoch 32/100\n",
      "1407/1407 [==============================] - 17s 12ms/step - loss: 1.2457 - accuracy: 0.5584 - val_loss: 1.3696 - val_accuracy: 0.5152\n",
      "Epoch 33/100\n",
      "1407/1407 [==============================] - 17s 12ms/step - loss: 1.2339 - accuracy: 0.5644 - val_loss: 1.3698 - val_accuracy: 0.5162\n",
      "Epoch 34/100\n",
      "1407/1407 [==============================] - 17s 12ms/step - loss: 1.2271 - accuracy: 0.5644 - val_loss: 1.3592 - val_accuracy: 0.5214\n",
      "Epoch 35/100\n",
      "1407/1407 [==============================] - 17s 12ms/step - loss: 1.2198 - accuracy: 0.5646 - val_loss: 1.3654 - val_accuracy: 0.5240\n",
      "Epoch 36/100\n",
      "1407/1407 [==============================] - 17s 12ms/step - loss: 1.2160 - accuracy: 0.5663 - val_loss: 1.3700 - val_accuracy: 0.5248\n",
      "Epoch 37/100\n",
      "1407/1407 [==============================] - 17s 12ms/step - loss: 1.2008 - accuracy: 0.5747 - val_loss: 1.3772 - val_accuracy: 0.5172\n",
      "Epoch 38/100\n",
      "1407/1407 [==============================] - 17s 12ms/step - loss: 1.1962 - accuracy: 0.5746 - val_loss: 1.3720 - val_accuracy: 0.5148\n",
      "Epoch 39/100\n",
      "1407/1407 [==============================] - 17s 12ms/step - loss: 1.1887 - accuracy: 0.5762 - val_loss: 1.3708 - val_accuracy: 0.5172\n",
      "Epoch 40/100\n",
      "1407/1407 [==============================] - 17s 12ms/step - loss: 1.1854 - accuracy: 0.5802 - val_loss: 1.3722 - val_accuracy: 0.5174\n",
      "Epoch 41/100\n",
      "1407/1407 [==============================] - 17s 12ms/step - loss: 1.1770 - accuracy: 0.5810 - val_loss: 1.3651 - val_accuracy: 0.5218\n",
      "Epoch 42/100\n",
      "1407/1407 [==============================] - 17s 12ms/step - loss: 1.1707 - accuracy: 0.5836 - val_loss: 1.3797 - val_accuracy: 0.5182\n",
      "Epoch 43/100\n",
      "1407/1407 [==============================] - 17s 12ms/step - loss: 1.1607 - accuracy: 0.5893 - val_loss: 1.3834 - val_accuracy: 0.5136\n",
      "Epoch 44/100\n",
      "1407/1407 [==============================] - 17s 12ms/step - loss: 1.1575 - accuracy: 0.5898 - val_loss: 1.3800 - val_accuracy: 0.5218\n",
      "157/157 [==============================] - 0s 2ms/step - loss: 1.3592 - accuracy: 0.5214\n"
     ]
    },
    {
     "data": {
      "text/plain": [
       "[1.3592209815979004, 0.521399974822998]"
      ]
     },
     "execution_count": 138,
     "metadata": {},
     "output_type": "execute_result"
    }
   ],
   "source": [
    "keras.backend.clear_session()\n",
    "tf.random.set_seed(42)\n",
    "np.random.seed(42)\n",
    "\n",
    "# define BN after activation model\n",
    "model = keras.Sequential()\n",
    "model.add(keras.layers.Flatten(input_shape = X_train.shape[1:]))\n",
    "model.add(keras.layers.BatchNormalization())\n",
    "for _ in range(20):\n",
    "    model.add(keras.layers.Dense(units=100, activation='elu', kernel_initializer='he_normal'))\n",
    "    model.add(keras.layers.BatchNormalization())\n",
    "model.add(keras.layers.Dense(10, activation='softmax'))\n",
    "\n",
    "# let optimizer use best lr found\n",
    "best_lr = lr_dict['lr'][np.argmin(lr_dict['af_val_loss'])]\n",
    "optimizer = keras.optimizers.Nadam(learning_rate=best_lr)\n",
    "\n",
    "# define callbacks\n",
    "run_index = 3\n",
    "run_logdir = os.path.join(os.curdir, 'my_cifar10_logs', 'run_{:03d}'.format(run_index))\n",
    "tensorboard_cb = keras.callbacks.TensorBoard(run_logdir)\n",
    "earlystop_cb = keras.callbacks.EarlyStopping(patience=10, restore_best_weights=True)\n",
    "# checkpoint_cb = keras.callbacks.ModelCheckpoint('my_models/cifar10.h5', save_best_only=True)\n",
    "\n",
    "model.compile(loss='sparse_categorical_crossentropy',\n",
    "             optimizer = optimizer,\n",
    "             metrics = ['accuracy'])\n",
    "model.fit(X_train, y_train, epochs = 100,\n",
    "         validation_data=(X_valid, y_valid), \n",
    "         callbacks=[earlystop_cb, tensorboard_cb])"
   ]
  },
  {
   "cell_type": "code",
   "execution_count": 139,
   "metadata": {},
   "outputs": [
    {
     "name": "stdout",
     "output_type": "stream",
     "text": [
      "157/157 [==============================] - 0s 2ms/step - loss: 1.3592 - accuracy: 0.5214\n"
     ]
    },
    {
     "data": {
      "text/plain": [
       "[1.3592209815979004, 0.521399974822998]"
      ]
     },
     "execution_count": 139,
     "metadata": {},
     "output_type": "execute_result"
    }
   ],
   "source": [
    "model.evaluate(X_valid, y_valid)"
   ]
  },
  {
   "cell_type": "markdown",
   "metadata": {},
   "source": [
    "### d. SELU\n",
    "*Exercise: Try replacing Batch Normalization with SELU, and make the necessary adjustements to ensure the network self-normalizes (i.e., standardize the input features, use LeCun normal initialization, make sure the DNN contains only a sequence of dense layers, etc.).*"
   ]
  },
  {
   "cell_type": "code",
   "execution_count": 143,
   "metadata": {},
   "outputs": [
    {
     "name": "stdout",
     "output_type": "stream",
     "text": [
      "Epoch 1/100\n",
      "   2/1407 [..............................] - ETA: 2:51 - loss: 3.0071 - accuracy: 0.1250WARNING:tensorflow:Callbacks method `on_train_batch_end` is slow compared to the batch time (batch time: 0.0070s vs `on_train_batch_end` time: 0.2371s). Check your callbacks.\n",
      "1407/1407 [==============================] - 9s 7ms/step - loss: 1.9002 - accuracy: 0.3223 - val_loss: 1.8407 - val_accuracy: 0.3538\n",
      "Epoch 2/100\n",
      "1407/1407 [==============================] - 9s 7ms/step - loss: 1.6886 - accuracy: 0.4015 - val_loss: 1.7004 - val_accuracy: 0.3894\n",
      "Epoch 3/100\n",
      "1407/1407 [==============================] - 10s 7ms/step - loss: 1.5869 - accuracy: 0.4402 - val_loss: 1.6567 - val_accuracy: 0.4100\n",
      "Epoch 4/100\n",
      "1407/1407 [==============================] - 10s 7ms/step - loss: 1.5144 - accuracy: 0.4642 - val_loss: 1.6198 - val_accuracy: 0.4412\n",
      "Epoch 5/100\n",
      "1407/1407 [==============================] - 11s 8ms/step - loss: 1.4567 - accuracy: 0.4884 - val_loss: 1.5307 - val_accuracy: 0.4576\n",
      "Epoch 6/100\n",
      "1407/1407 [==============================] - 11s 8ms/step - loss: 1.4099 - accuracy: 0.5030 - val_loss: 1.5200 - val_accuracy: 0.4714\n",
      "Epoch 7/100\n",
      "1407/1407 [==============================] - 11s 8ms/step - loss: 1.3615 - accuracy: 0.5257 - val_loss: 1.5628 - val_accuracy: 0.4542\n",
      "Epoch 8/100\n",
      "1407/1407 [==============================] - 10s 7ms/step - loss: 1.3226 - accuracy: 0.5409 - val_loss: 1.4870 - val_accuracy: 0.4824\n",
      "Epoch 9/100\n",
      "1407/1407 [==============================] - 10s 7ms/step - loss: 1.2830 - accuracy: 0.5546 - val_loss: 1.5002 - val_accuracy: 0.4822\n",
      "Epoch 10/100\n",
      "1407/1407 [==============================] - 11s 8ms/step - loss: 1.2485 - accuracy: 0.5663 - val_loss: 1.5006 - val_accuracy: 0.4896\n",
      "Epoch 11/100\n",
      "1407/1407 [==============================] - 12s 9ms/step - loss: 1.2129 - accuracy: 0.5799 - val_loss: 1.5473 - val_accuracy: 0.4910\n",
      "Epoch 12/100\n",
      "1407/1407 [==============================] - 12s 8ms/step - loss: 1.1803 - accuracy: 0.5937 - val_loss: 1.4789 - val_accuracy: 0.5030\n",
      "Epoch 13/100\n",
      "1407/1407 [==============================] - 12s 8ms/step - loss: 1.1533 - accuracy: 0.6036 - val_loss: 1.4999 - val_accuracy: 0.5010\n",
      "Epoch 14/100\n",
      "1407/1407 [==============================] - 12s 8ms/step - loss: 1.1295 - accuracy: 0.6122 - val_loss: 1.4597 - val_accuracy: 0.5042\n",
      "Epoch 15/100\n",
      "1407/1407 [==============================] - 12s 8ms/step - loss: 1.0959 - accuracy: 0.6237 - val_loss: 1.4826 - val_accuracy: 0.5094\n",
      "Epoch 16/100\n",
      "1407/1407 [==============================] - 12s 8ms/step - loss: 1.0777 - accuracy: 0.6326 - val_loss: 1.5401 - val_accuracy: 0.5074\n",
      "Epoch 17/100\n",
      "1407/1407 [==============================] - 11s 8ms/step - loss: 1.0501 - accuracy: 0.6411 - val_loss: 1.5395 - val_accuracy: 0.4958\n",
      "Epoch 18/100\n",
      "1407/1407 [==============================] - 11s 8ms/step - loss: 1.0297 - accuracy: 0.6508 - val_loss: 1.4981 - val_accuracy: 0.5088\n",
      "Epoch 19/100\n",
      "1407/1407 [==============================] - 11s 8ms/step - loss: 1.0119 - accuracy: 0.6558 - val_loss: 1.5693 - val_accuracy: 0.5020\n",
      "Epoch 20/100\n",
      "1407/1407 [==============================] - 11s 8ms/step - loss: 0.9886 - accuracy: 0.6633 - val_loss: 1.5627 - val_accuracy: 0.5034\n",
      "Epoch 21/100\n",
      "1407/1407 [==============================] - 11s 8ms/step - loss: 0.9654 - accuracy: 0.6698 - val_loss: 1.5864 - val_accuracy: 0.5050\n",
      "Epoch 22/100\n",
      "1407/1407 [==============================] - 10s 7ms/step - loss: 0.9484 - accuracy: 0.6788 - val_loss: 1.5475 - val_accuracy: 0.5030\n",
      "Epoch 23/100\n",
      "1407/1407 [==============================] - 11s 8ms/step - loss: 0.9267 - accuracy: 0.6837 - val_loss: 1.6071 - val_accuracy: 0.5044\n",
      "Epoch 24/100\n",
      "1407/1407 [==============================] - 11s 8ms/step - loss: 0.9070 - accuracy: 0.6920 - val_loss: 1.6398 - val_accuracy: 0.5006\n"
     ]
    },
    {
     "data": {
      "text/plain": [
       "<tensorflow.python.keras.callbacks.History at 0x19030f250>"
      ]
     },
     "execution_count": 143,
     "metadata": {},
     "output_type": "execute_result"
    }
   ],
   "source": [
    "keras.backend.clear_session()\n",
    "tf.random.set_seed(42)\n",
    "np.random.seed(42)\n",
    "\n",
    "# standardize the input\n",
    "X_mean = X_train.mean(axis=0)\n",
    "X_std = X_train.std(axis=0)\n",
    "X_train_scaled = (X_train - X_mean) / X_std\n",
    "X_valid_scaled = (X_valid - X_mean) / X_std\n",
    "X_test_scaled = (X_test - X_mean) / X_std\n",
    "\n",
    "# define dense model with selu as activation\n",
    "model = keras.Sequential()\n",
    "model.add(keras.layers.Flatten(input_shape = X_train_scaled.shape[1:]))\n",
    "for _ in range(20):\n",
    "    model.add(keras.layers.Dense(units=100, activation='selu', kernel_initializer='lecun_normal'))\n",
    "model.add(keras.layers.Dense(10, activation='softmax'))\n",
    "\n",
    "# model has been changed, so the previous best lr may not be applicable here any more.\n",
    "optimizer = keras.optimizers.Nadam(learning_rate=5e-4)\n",
    "\n",
    "# define callbacks\n",
    "run_index = 4\n",
    "run_logdir = os.path.join(os.curdir, 'my_cifar10_logs', 'run_{:03d}'.format(run_index))\n",
    "tensorboard_cb = keras.callbacks.TensorBoard(run_logdir)\n",
    "earlystop_cb = keras.callbacks.EarlyStopping(patience=10, restore_best_weights=True)\n",
    "# checkpoint_cb = keras.callbacks.ModelCheckpoint('my_models/cifar10.h5', save_best_only=True)\n",
    "\n",
    "model.compile(loss='sparse_categorical_crossentropy',\n",
    "             optimizer = optimizer,\n",
    "             metrics = ['accuracy'])\n",
    "model.fit(X_train_scaled, y_train, epochs = 100,\n",
    "         validation_data=(X_valid_scaled, y_valid), \n",
    "         callbacks=[earlystop_cb, tensorboard_cb])"
   ]
  },
  {
   "cell_type": "code",
   "execution_count": 144,
   "metadata": {},
   "outputs": [
    {
     "name": "stdout",
     "output_type": "stream",
     "text": [
      "157/157 [==============================] - 0s 2ms/step - loss: 1.4597 - accuracy: 0.5042\n"
     ]
    },
    {
     "data": {
      "text/plain": [
       "[1.4596701860427856, 0.5041999816894531]"
      ]
     },
     "execution_count": 144,
     "metadata": {},
     "output_type": "execute_result"
    }
   ],
   "source": [
    "model.evaluate(X_valid_scaled, y_valid)"
   ]
  },
  {
   "cell_type": "markdown",
   "metadata": {},
   "source": [
    "### e. SELU with MC alpha dropout\n",
    "*Exercise: Try regularizing the model with alpha dropout. Then, without retraining your model, see if you can achieve better accuracy using MC Dropout.*"
   ]
  },
  {
   "cell_type": "code",
   "execution_count": 147,
   "metadata": {},
   "outputs": [
    {
     "name": "stdout",
     "output_type": "stream",
     "text": [
      "Epoch 1/100\n",
      "   2/1407 [..............................] - ETA: 2:44 - loss: 2.9857 - accuracy: 0.0938WARNING:tensorflow:Callbacks method `on_train_batch_end` is slow compared to the batch time (batch time: 0.0071s vs `on_train_batch_end` time: 0.2268s). Check your callbacks.\n",
      "1407/1407 [==============================] - 9s 6ms/step - loss: 1.8973 - accuracy: 0.3245 - val_loss: 1.7629 - val_accuracy: 0.3738\n",
      "Epoch 2/100\n",
      "1407/1407 [==============================] - 9s 6ms/step - loss: 1.6699 - accuracy: 0.4083 - val_loss: 1.6686 - val_accuracy: 0.4106\n",
      "Epoch 3/100\n",
      "1407/1407 [==============================] - 9s 7ms/step - loss: 1.5760 - accuracy: 0.4470 - val_loss: 1.6626 - val_accuracy: 0.4274\n",
      "Epoch 4/100\n",
      "1407/1407 [==============================] - 10s 7ms/step - loss: 1.5062 - accuracy: 0.4709 - val_loss: 1.5549 - val_accuracy: 0.4532\n",
      "Epoch 5/100\n",
      "1407/1407 [==============================] - 10s 7ms/step - loss: 1.4490 - accuracy: 0.4949 - val_loss: 1.7011 - val_accuracy: 0.4476\n",
      "Epoch 6/100\n",
      "1407/1407 [==============================] - 10s 7ms/step - loss: 1.4065 - accuracy: 0.5115 - val_loss: 1.5401 - val_accuracy: 0.4778\n",
      "Epoch 7/100\n",
      "1407/1407 [==============================] - 10s 7ms/step - loss: 1.3609 - accuracy: 0.5255 - val_loss: 1.6347 - val_accuracy: 0.4606\n",
      "Epoch 8/100\n",
      "1407/1407 [==============================] - 10s 7ms/step - loss: 1.3199 - accuracy: 0.5407 - val_loss: 1.5209 - val_accuracy: 0.4836\n",
      "Epoch 9/100\n",
      "1407/1407 [==============================] - 10s 7ms/step - loss: 1.2842 - accuracy: 0.5556 - val_loss: 1.5209 - val_accuracy: 0.4812\n",
      "Epoch 10/100\n",
      "1407/1407 [==============================] - 10s 7ms/step - loss: 1.2472 - accuracy: 0.5696 - val_loss: 1.5358 - val_accuracy: 0.4894\n",
      "Epoch 11/100\n",
      "1407/1407 [==============================] - 10s 7ms/step - loss: 1.2194 - accuracy: 0.5807 - val_loss: 1.6186 - val_accuracy: 0.4856\n",
      "Epoch 12/100\n",
      "1407/1407 [==============================] - 10s 7ms/step - loss: 1.1906 - accuracy: 0.5898 - val_loss: 1.5054 - val_accuracy: 0.4968\n",
      "Epoch 13/100\n",
      "1407/1407 [==============================] - 10s 7ms/step - loss: 1.1611 - accuracy: 0.5992 - val_loss: 1.5723 - val_accuracy: 0.5040\n",
      "Epoch 14/100\n",
      "1407/1407 [==============================] - 10s 7ms/step - loss: 1.1359 - accuracy: 0.6087 - val_loss: 1.5577 - val_accuracy: 0.5128\n",
      "Epoch 15/100\n",
      "1407/1407 [==============================] - 11s 8ms/step - loss: 1.1091 - accuracy: 0.6194 - val_loss: 1.5443 - val_accuracy: 0.5036\n",
      "Epoch 16/100\n",
      "1407/1407 [==============================] - 11s 8ms/step - loss: 1.0860 - accuracy: 0.6303 - val_loss: 1.6342 - val_accuracy: 0.5082\n",
      "Epoch 17/100\n",
      "1407/1407 [==============================] - 11s 8ms/step - loss: 1.0586 - accuracy: 0.6377 - val_loss: 1.6089 - val_accuracy: 0.5074\n",
      "Epoch 18/100\n",
      "1407/1407 [==============================] - 11s 8ms/step - loss: 1.0364 - accuracy: 0.6451 - val_loss: 1.6877 - val_accuracy: 0.5022\n",
      "Epoch 19/100\n",
      "1407/1407 [==============================] - 11s 8ms/step - loss: 1.0829 - accuracy: 0.6335 - val_loss: 1.6090 - val_accuracy: 0.5196\n",
      "Epoch 20/100\n",
      "1407/1407 [==============================] - 11s 8ms/step - loss: 0.9865 - accuracy: 0.6633 - val_loss: 1.6794 - val_accuracy: 0.5142\n",
      "Epoch 21/100\n",
      "1407/1407 [==============================] - 11s 8ms/step - loss: 0.9630 - accuracy: 0.6731 - val_loss: 1.6936 - val_accuracy: 0.5142\n",
      "Epoch 22/100\n",
      "1407/1407 [==============================] - 11s 7ms/step - loss: 0.9511 - accuracy: 0.6751 - val_loss: 1.7241 - val_accuracy: 0.5104\n"
     ]
    },
    {
     "data": {
      "text/plain": [
       "<tensorflow.python.keras.callbacks.History at 0x199013110>"
      ]
     },
     "execution_count": 147,
     "metadata": {},
     "output_type": "execute_result"
    }
   ],
   "source": [
    "keras.backend.clear_session()\n",
    "tf.random.set_seed(42)\n",
    "np.random.seed(42)\n",
    "\n",
    "# standardize the input\n",
    "X_mean = X_train.mean(axis=0)\n",
    "X_std = X_train.std(axis=0)\n",
    "X_train_scaled = (X_train - X_mean) / X_std\n",
    "X_valid_scaled = (X_valid - X_mean) / X_std\n",
    "X_test_scaled = (X_test - X_mean) / X_std\n",
    "\n",
    "# define dense model with selu as activation\n",
    "model = keras.Sequential()\n",
    "model.add(keras.layers.Flatten(input_shape = X_train_scaled.shape[1:]))\n",
    "for _ in range(20):\n",
    "    model.add(keras.layers.Dense(units=100, activation='selu', kernel_initializer='lecun_normal'))\n",
    "model.add(keras.layers.AlphaDropout(rate=0.1))\n",
    "model.add(keras.layers.Dense(10, activation='softmax'))\n",
    "\n",
    "# model has been changed, so the previous best lr may not be applicable here any more.\n",
    "optimizer = keras.optimizers.Nadam(learning_rate=5e-4)\n",
    "\n",
    "# define callbacks\n",
    "run_index = 5\n",
    "run_logdir = os.path.join(os.curdir, 'my_cifar10_logs', 'run_{:03d}'.format(run_index))\n",
    "tensorboard_cb = keras.callbacks.TensorBoard(run_logdir)\n",
    "earlystop_cb = keras.callbacks.EarlyStopping(patience=10, restore_best_weights=True)\n",
    "# checkpoint_cb = keras.callbacks.ModelCheckpoint('my_models/cifar10.h5', save_best_only=True)\n",
    "\n",
    "model.compile(loss='sparse_categorical_crossentropy',\n",
    "             optimizer = optimizer,\n",
    "             metrics = ['accuracy'])\n",
    "model.fit(X_train_scaled, y_train, epochs = 100,\n",
    "         validation_data=(X_valid_scaled, y_valid), \n",
    "         callbacks=[earlystop_cb, tensorboard_cb])"
   ]
  },
  {
   "cell_type": "code",
   "execution_count": 148,
   "metadata": {},
   "outputs": [
    {
     "name": "stdout",
     "output_type": "stream",
     "text": [
      "157/157 [==============================] - 0s 2ms/step - loss: 1.5054 - accuracy: 0.4968\n"
     ]
    },
    {
     "data": {
      "text/plain": [
       "[1.505418062210083, 0.4968000054359436]"
      ]
     },
     "execution_count": 148,
     "metadata": {},
     "output_type": "execute_result"
    }
   ],
   "source": [
    "model.evaluate(X_valid_scaled, y_valid)"
   ]
  },
  {
   "cell_type": "markdown",
   "metadata": {},
   "source": [
    "#### Implement MCDropout"
   ]
  },
  {
   "cell_type": "code",
   "execution_count": 160,
   "metadata": {},
   "outputs": [],
   "source": [
    "# subclass alphadropout\n",
    "class MCAlphaDropout(keras.layers.AlphaDropout):\n",
    "    def call(self, inputs):\n",
    "        return super().call(inputs, training=True)\n",
    "\n",
    "# create a new model replacing alphadropout with MCalphadropout\n",
    "mc_model = keras.models.Sequential([\n",
    "    MCAlphaDropout(layer.rate) if isinstance(layer, keras.layers.AlphaDropout) else layer\n",
    "    for layer in model.layers\n",
    "])"
   ]
  },
  {
   "cell_type": "code",
   "execution_count": 161,
   "metadata": {},
   "outputs": [],
   "source": [
    "# create some utils functions\n",
    "def predict_mc_probas(mc_model, inputs, runs=10):\n",
    "    probas = [mc_model.predict(inputs) for _ in range(runs)]\n",
    "    mean_probas = np.mean(probas, axis=0)\n",
    "    return mean_probas\n",
    "\n",
    "def predict_mc_class(mc_model, inputs, runs=10):\n",
    "    mean_probas = predict_mc_probas(mc_model, inputs, runs)\n",
    "    return np.argmax(mean_probas, axis=1)"
   ]
  },
  {
   "cell_type": "code",
   "execution_count": 168,
   "metadata": {},
   "outputs": [
    {
     "data": {
      "text/plain": [
       "0.4966"
      ]
     },
     "execution_count": 168,
     "metadata": {},
     "output_type": "execute_result"
    }
   ],
   "source": [
    "keras.backend.clear_session()\n",
    "tf.random.set_seed(42)\n",
    "np.random.seed(42)\n",
    "\n",
    "y_valid_pred = predict_mc_class(mc_model, X_valid_scaled)\n",
    "accuracy = np.mean(y_valid.ravel() == y_valid_pred)\n",
    "accuracy"
   ]
  },
  {
   "cell_type": "markdown",
   "metadata": {},
   "source": [
    "### f. 1cycle\n",
    "*Exercise: Retrain your model using 1cycle scheduling and see if it improves training speed and model accuracy.*"
   ]
  },
  {
   "cell_type": "code",
   "execution_count": 169,
   "metadata": {},
   "outputs": [],
   "source": [
    "class OneCycleScheduler(keras.callbacks.Callback):\n",
    "    def __init__(self, iterations, max_rate, start_rate=None,\n",
    "                 last_iterations=None, last_rate=None):\n",
    "        self.iterations = iterations\n",
    "        self.max_rate = max_rate\n",
    "        self.start_rate = start_rate or max_rate / 10\n",
    "        self.last_iterations = last_iterations or iterations // 10 + 1\n",
    "        self.half_iteration = (iterations - self.last_iterations) // 2\n",
    "        self.last_rate = last_rate or self.start_rate / 1000\n",
    "        self.iteration = 0\n",
    "    def _interpolate(self, iter1, iter2, rate1, rate2):\n",
    "        return ((rate2 - rate1) * (self.iteration - iter1)\n",
    "                / (iter2 - iter1) + rate1)\n",
    "    def on_batch_begin(self, batch, logs):\n",
    "        if self.iteration < self.half_iteration:\n",
    "            rate = self._interpolate(0, self.half_iteration, self.start_rate, self.max_rate)\n",
    "        elif self.iteration < 2 * self.half_iteration:\n",
    "            rate = self._interpolate(self.half_iteration, 2 * self.half_iteration,\n",
    "                                     self.max_rate, self.start_rate)\n",
    "        else:\n",
    "            rate = self._interpolate(2 * self.half_iteration, self.iterations,\n",
    "                                     self.start_rate, self.last_rate)\n",
    "            rate = max(rate, self.last_rate)\n",
    "        self.iteration += 1\n",
    "        K.set_value(self.model.optimizer.lr, rate)"
   ]
  },
  {
   "cell_type": "code",
   "execution_count": 189,
   "metadata": {},
   "outputs": [],
   "source": [
    "keras.backend.clear_session()\n",
    "tf.random.set_seed(42)\n",
    "np.random.seed(42)\n",
    "\n",
    "# define dense model with selu as activation\n",
    "model = keras.Sequential()\n",
    "model.add(keras.layers.Flatten(input_shape = X_train_scaled.shape[1:]))\n",
    "for _ in range(20):\n",
    "    model.add(keras.layers.Dense(units=100, activation='selu', kernel_initializer='lecun_normal'))\n",
    "model.add(keras.layers.AlphaDropout(rate=0.1))\n",
    "model.add(keras.layers.Dense(10, activation='softmax'))\n",
    "\n",
    "optimizer = keras.optimizers.SGD(learning_rate=5e-4)\n",
    "model.compile(loss=\"sparse_categorical_crossentropy\",\n",
    "              optimizer=optimizer,\n",
    "              metrics=[\"accuracy\"])"
   ]
  },
  {
   "cell_type": "code",
   "execution_count": 190,
   "metadata": {},
   "outputs": [
    {
     "name": "stdout",
     "output_type": "stream",
     "text": [
      "1407/1407 [==============================] - 4s 3ms/step - loss: nan - accuracy: 0.1542\n"
     ]
    },
    {
     "data": {
      "image/png": "[encoded data removed]",
      "text/plain": [
       "<Figure size 432x288 with 1 Axes>"
      ]
     },
     "metadata": {
      "needs_background": "light"
     },
     "output_type": "display_data"
    }
   ],
   "source": [
    "batch_size = 32\n",
    "rates, losses = find_learning_rate(model, X_train_scaled, y_train, epochs=1, batch_size=batch_size)\n",
    "plot_lr_vs_loss(rates, losses)\n",
    "plt.axis([min(rates), max(rates), min(losses), (losses[0] + min(losses)) / 1.4])\n",
    "pass"
   ]
  },
  {
   "cell_type": "code",
   "execution_count": 191,
   "metadata": {},
   "outputs": [
    {
     "data": {
      "text/plain": [
       "0.19829562"
      ]
     },
     "execution_count": 191,
     "metadata": {},
     "output_type": "execute_result"
    }
   ],
   "source": [
    "rates[np.argmin(losses)]"
   ]
  },
  {
   "cell_type": "code",
   "execution_count": 193,
   "metadata": {},
   "outputs": [],
   "source": [
    "lr0 = 0.015\n",
    "max_lr = 0.15"
   ]
  },
  {
   "cell_type": "code",
   "execution_count": 194,
   "metadata": {},
   "outputs": [],
   "source": [
    "keras.backend.clear_session()\n",
    "tf.random.set_seed(42)\n",
    "np.random.seed(42)\n",
    "\n",
    "# define dense model with selu as activation\n",
    "model = keras.Sequential()\n",
    "model.add(keras.layers.Flatten(input_shape = X_train_scaled.shape[1:]))\n",
    "for _ in range(20):\n",
    "    model.add(keras.layers.Dense(units=100, activation='selu', kernel_initializer='lecun_normal'))\n",
    "model.add(keras.layers.AlphaDropout(rate=0.1))\n",
    "model.add(keras.layers.Dense(10, activation='softmax'))\n",
    "\n",
    "optimizer = keras.optimizers.SGD(learning_rate=lr0)\n",
    "model.compile(loss=\"sparse_categorical_crossentropy\",\n",
    "              optimizer=optimizer,\n",
    "              metrics=[\"accuracy\"])"
   ]
  },
  {
   "cell_type": "code",
   "execution_count": 195,
   "metadata": {},
   "outputs": [
    {
     "name": "stdout",
     "output_type": "stream",
     "text": [
      "Epoch 1/25\n",
      "1407/1407 [==============================] - 4s 3ms/step - loss: 1.9011 - accuracy: 0.3226 - val_loss: 1.8523 - val_accuracy: 0.3310\n",
      "Epoch 2/25\n",
      "1407/1407 [==============================] - 4s 3ms/step - loss: 1.6931 - accuracy: 0.3969 - val_loss: 2.1477 - val_accuracy: 0.3182\n",
      "Epoch 3/25\n",
      "1407/1407 [==============================] - 4s 3ms/step - loss: 1.6369 - accuracy: 0.4211 - val_loss: 2.0074 - val_accuracy: 0.3690\n",
      "Epoch 4/25\n",
      "1407/1407 [==============================] - 4s 3ms/step - loss: 1.6001 - accuracy: 0.4354 - val_loss: 2.0351 - val_accuracy: 0.3612\n",
      "Epoch 5/25\n",
      "1407/1407 [==============================] - 4s 3ms/step - loss: 1.5805 - accuracy: 0.4489 - val_loss: 1.9343 - val_accuracy: 0.3644\n",
      "Epoch 6/25\n",
      "1407/1407 [==============================] - 4s 3ms/step - loss: 1.5753 - accuracy: 0.4547 - val_loss: 1.6658 - val_accuracy: 0.4134\n",
      "Epoch 7/25\n",
      "1407/1407 [==============================] - 4s 3ms/step - loss: 1.5672 - accuracy: 0.4552 - val_loss: 1.8454 - val_accuracy: 0.3796\n",
      "Epoch 8/25\n",
      "1407/1407 [==============================] - 4s 3ms/step - loss: 1.5651 - accuracy: 0.4605 - val_loss: 1.8423 - val_accuracy: 0.3846\n",
      "Epoch 9/25\n",
      "1407/1407 [==============================] - 4s 3ms/step - loss: 1.5754 - accuracy: 0.4561 - val_loss: 1.8649 - val_accuracy: 0.4168\n",
      "Epoch 10/25\n",
      "1407/1407 [==============================] - 4s 3ms/step - loss: 1.5791 - accuracy: 0.4614 - val_loss: 2.0468 - val_accuracy: 0.3614\n",
      "Epoch 11/25\n",
      "1407/1407 [==============================] - 4s 3ms/step - loss: 1.5990 - accuracy: 0.4549 - val_loss: 2.2703 - val_accuracy: 0.3750\n",
      "Epoch 12/25\n",
      "1407/1407 [==============================] - 4s 3ms/step - loss: 1.6014 - accuracy: 0.4520 - val_loss: 1.9387 - val_accuracy: 0.4028\n",
      "Epoch 13/25\n",
      "1407/1407 [==============================] - 4s 3ms/step - loss: 1.5402 - accuracy: 0.4747 - val_loss: 1.9134 - val_accuracy: 0.4060\n",
      "Epoch 14/25\n",
      "1407/1407 [==============================] - 4s 3ms/step - loss: 1.4737 - accuracy: 0.4973 - val_loss: 1.8012 - val_accuracy: 0.4038\n",
      "Epoch 15/25\n",
      "1407/1407 [==============================] - 4s 3ms/step - loss: 1.4183 - accuracy: 0.5201 - val_loss: 1.7453 - val_accuracy: 0.4118\n",
      "Epoch 16/25\n",
      "1407/1407 [==============================] - 4s 3ms/step - loss: 1.3526 - accuracy: 0.5404 - val_loss: 1.6570 - val_accuracy: 0.4872\n",
      "Epoch 17/25\n",
      "1407/1407 [==============================] - 4s 3ms/step - loss: 1.2904 - accuracy: 0.5624 - val_loss: 1.6655 - val_accuracy: 0.4820\n",
      "Epoch 18/25\n",
      "1407/1407 [==============================] - 4s 3ms/step - loss: 1.2370 - accuracy: 0.5794 - val_loss: 1.5134 - val_accuracy: 0.5028\n",
      "Epoch 19/25\n",
      "1407/1407 [==============================] - 4s 3ms/step - loss: 1.1737 - accuracy: 0.6015 - val_loss: 1.6474 - val_accuracy: 0.5072\n",
      "Epoch 20/25\n",
      "1407/1407 [==============================] - 4s 3ms/step - loss: 1.1153 - accuracy: 0.6218 - val_loss: 1.5128 - val_accuracy: 0.5226\n",
      "Epoch 21/25\n",
      "1407/1407 [==============================] - 5s 3ms/step - loss: 1.0563 - accuracy: 0.6413 - val_loss: 1.5509 - val_accuracy: 0.5200\n",
      "Epoch 22/25\n",
      "1407/1407 [==============================] - 4s 3ms/step - loss: 0.9991 - accuracy: 0.6608 - val_loss: 1.5551 - val_accuracy: 0.5240\n",
      "Epoch 23/25\n",
      "1407/1407 [==============================] - 4s 3ms/step - loss: 0.9397 - accuracy: 0.6809 - val_loss: 1.5846 - val_accuracy: 0.5226\n",
      "Epoch 24/25\n",
      "1407/1407 [==============================] - 5s 3ms/step - loss: 0.8993 - accuracy: 0.6972 - val_loss: 1.6068 - val_accuracy: 0.5262\n",
      "Epoch 25/25\n",
      "1407/1407 [==============================] - 4s 3ms/step - loss: 0.8672 - accuracy: 0.7090 - val_loss: 1.6311 - val_accuracy: 0.5278\n"
     ]
    },
    {
     "data": {
      "text/plain": [
       "<tensorflow.python.keras.callbacks.History at 0x196757cd0>"
      ]
     },
     "execution_count": 195,
     "metadata": {},
     "output_type": "execute_result"
    }
   ],
   "source": [
    "n_epochs = 25\n",
    "onecycle = OneCycleScheduler(len(X_train_scaled) // batch_size * n_epochs, max_rate=max_lr)\n",
    "\n",
    "model.fit(X_train_scaled, y_train, epochs = n_epochs, batch_size=batch_size,\n",
    "         validation_data=(X_valid_scaled, y_valid), \n",
    "         callbacks=[onecycle])"
   ]
  }
 ],
 "metadata": {
  "kernelspec": {
   "display_name": "Python 3",
   "language": "python",
   "name": "python3"
  },
  "language_info": {
   "codemirror_mode": {
    "name": "ipython",
    "version": 3
   },
   "file_extension": ".py",
   "mimetype": "text/x-python",
   "name": "python",
   "nbconvert_exporter": "python",
   "pygments_lexer": "ipython3",
   "version": "3.7.8"
  }
 },
 "nbformat": 4,
 "nbformat_minor": 4
}
