{
 "cells": [
  {
   "cell_type": "code",
   "execution_count": 4,
   "metadata": {},
   "outputs": [],
   "source": [
    "# Python ≥3.5 is required\n",
    "import sys\n",
    "assert sys.version_info >= (3, 5)\n",
    "\n",
    "# Scikit-Learn ≥0.20 is required\n",
    "import sklearn\n",
    "assert sklearn.__version__ >= \"0.20\"\n",
    "\n",
    "try:\n",
    "    # %tensorflow_version only exists in Colab.\n",
    "    %tensorflow_version 2.x\n",
    "except Exception:\n",
    "    pass\n",
    "\n",
    "# TensorFlow ≥2.0 is required\n",
    "import tensorflow as tf\n",
    "from tensorflow import keras\n",
    "assert tf.__version__ >= \"2.0\"\n",
    "\n",
    "# Common imports\n",
    "import numpy as np\n",
    "import pandas as pd\n",
    "import os\n",
    "\n",
    "# to make this notebook's output stable across runs\n",
    "np.random.seed(42)\n",
    "\n",
    "# To plot pretty figures\n",
    "%matplotlib inline\n",
    "import matplotlib as mpl\n",
    "import matplotlib.pyplot as plt\n",
    "mpl.rc('axes', labelsize=14)\n",
    "mpl.rc('xtick', labelsize=12)\n",
    "mpl.rc('ytick', labelsize=12)\n",
    "\n",
    "# Where to save the figures\n",
    "PROJECT_ROOT_DIR = \".\"\n",
    "CHAPTER_ID = \"ann\"\n",
    "IMAGES_PATH = os.path.join(PROJECT_ROOT_DIR, \"images\", CHAPTER_ID)\n",
    "os.makedirs(IMAGES_PATH, exist_ok=True)\n",
    "\n",
    "def save_fig(fig_id, tight_layout=True, fig_extension=\"png\", resolution=300):\n",
    "    path = os.path.join(IMAGES_PATH, fig_id + \".\" + fig_extension)\n",
    "    print(\"Saving figure\", fig_id)\n",
    "    if tight_layout:\n",
    "        plt.tight_layout()\n",
    "    plt.savefig(path, format=fig_extension, dpi=resolution)\n",
    "\n",
    "# Ignore useless warnings (see SciPy issue #5998)\n",
    "import warnings\n",
    "warnings.filterwarnings(action=\"ignore\", message=\"^internal gelsd\")"
   ]
  },
  {
   "cell_type": "markdown",
   "metadata": {},
   "source": [
    "#### Load data"
   ]
  },
  {
   "cell_type": "code",
   "execution_count": 24,
   "metadata": {},
   "outputs": [],
   "source": [
    "from sklearn.metrics import precision_score\n",
    "from sklearn.model_selection import train_test_split"
   ]
  },
  {
   "cell_type": "code",
   "execution_count": 8,
   "metadata": {},
   "outputs": [],
   "source": [
    "(x_train, y_train), (x_test, y_test) = keras.datasets.mnist.load_data()"
   ]
  },
  {
   "cell_type": "code",
   "execution_count": 30,
   "metadata": {},
   "outputs": [
    {
     "data": {
      "image/png": "[encoded data removed]",
      "text/plain": [
       "<Figure size 864x345.6 with 40 Axes>"
      ]
     },
     "metadata": {
      "needs_background": "light"
     },
     "output_type": "display_data"
    }
   ],
   "source": [
    "n_rows, n_cols = 4, 10\n",
    "plt.figure(figsize=(n_cols * 1.2, n_rows * 1.2))\n",
    "for row in range(n_rows):\n",
    "    for col in range(n_cols):\n",
    "        index = n_cols * row + col\n",
    "        plt.subplot(n_rows, n_cols, index + 1)\n",
    "        plt.imshow(x_train[index], cmap=\"binary\", interpolation=\"nearest\")\n",
    "        plt.axis('off')\n",
    "plt.subplots_adjust(wspace=0.2, hspace=0.2)\n",
    "plt.show()"
   ]
  },
  {
   "cell_type": "code",
   "execution_count": 23,
   "metadata": {},
   "outputs": [
    {
     "data": {
      "text/plain": [
       "array([  0,   1,   2,   3,   9,  11,  14,  16,  18,  23,  24,  25,  26,\n",
       "        27,  30,  35,  36,  39,  43,  45,  46,  49,  55,  56,  64,  66,\n",
       "        70,  78,  80,  81,  82,  90,  93,  94, 107, 108, 114, 119, 126,\n",
       "       127, 130, 132, 133, 135, 136, 139, 148, 150, 154, 156, 160, 166,\n",
       "       170, 171, 172, 175, 182, 183, 186, 187, 190, 195, 198, 201, 205,\n",
       "       207, 212, 213, 219, 221, 225, 226, 229, 238, 240, 241, 242, 244,\n",
       "       247, 249, 250, 251, 252, 253, 255], dtype=uint8)"
      ]
     },
     "execution_count": 23,
     "metadata": {},
     "output_type": "execute_result"
    }
   ],
   "source": [
    "# pd.Series(x_train[0].ravel()).value_counts()\n",
    "np.unique(x_train[0])"
   ]
  },
  {
   "cell_type": "code",
   "execution_count": 25,
   "metadata": {},
   "outputs": [],
   "source": [
    "x_train, x_test = x_train / 255.0, x_test / 255.0"
   ]
  },
  {
   "cell_type": "code",
   "execution_count": 26,
   "metadata": {},
   "outputs": [],
   "source": [
    "x_train, x_valid, y_train, y_valid = train_test_split(x_train, y_train, test_size=0.2, random_state=42)"
   ]
  },
  {
   "cell_type": "markdown",
   "metadata": {},
   "source": [
    "#### Build basic model"
   ]
  },
  {
   "cell_type": "code",
   "execution_count": 55,
   "metadata": {},
   "outputs": [],
   "source": [
    "model = keras.Sequential()\n",
    "model.add(keras.layers.Flatten(input_shape=x_train.shape[1:], name='input'))\n",
    "for idx in range(3):\n",
    "    model.add(keras.layers.Dense(100, activation='elu', name=f'dense_{idx+1}'))\n",
    "model.add(keras.layers.Dense(10, activation='softmax', name='output'))\n",
    "\n",
    "model.compile(loss=keras.losses.sparse_categorical_crossentropy,\n",
    "             optimizer=keras.optimizers.Adam(),\n",
    "             metrics=['accuracy'])"
   ]
  },
  {
   "cell_type": "code",
   "execution_count": 56,
   "metadata": {},
   "outputs": [
    {
     "name": "stdout",
     "output_type": "stream",
     "text": [
      "Epoch 1/30\n",
      "1500/1500 [==============================] - 2s 1ms/step - loss: 0.2737 - accuracy: 0.9190 - val_loss: 0.1544 - val_accuracy: 0.9533\n",
      "Epoch 2/30\n",
      "1500/1500 [==============================] - 2s 1ms/step - loss: 0.1280 - accuracy: 0.9609 - val_loss: 0.1224 - val_accuracy: 0.9625\n",
      "Epoch 3/30\n",
      "1500/1500 [==============================] - 2s 1ms/step - loss: 0.0944 - accuracy: 0.9706 - val_loss: 0.0975 - val_accuracy: 0.9715\n",
      "Epoch 4/30\n",
      "1500/1500 [==============================] - 2s 1ms/step - loss: 0.0702 - accuracy: 0.9771 - val_loss: 0.1000 - val_accuracy: 0.9722\n",
      "Epoch 5/30\n",
      "1500/1500 [==============================] - 2s 1ms/step - loss: 0.0566 - accuracy: 0.9816 - val_loss: 0.1076 - val_accuracy: 0.9703\n",
      "Epoch 6/30\n",
      "1500/1500 [==============================] - 2s 1ms/step - loss: 0.0465 - accuracy: 0.9846 - val_loss: 0.0992 - val_accuracy: 0.9723\n",
      "Epoch 7/30\n",
      "1500/1500 [==============================] - 2s 1ms/step - loss: 0.0400 - accuracy: 0.9865 - val_loss: 0.1071 - val_accuracy: 0.9721\n",
      "Epoch 8/30\n",
      "1500/1500 [==============================] - 2s 1ms/step - loss: 0.0343 - accuracy: 0.9886 - val_loss: 0.0995 - val_accuracy: 0.9747\n",
      "Epoch 9/30\n",
      "1500/1500 [==============================] - 2s 1ms/step - loss: 0.0288 - accuracy: 0.9906 - val_loss: 0.1051 - val_accuracy: 0.9772\n",
      "Epoch 10/30\n",
      "1500/1500 [==============================] - 2s 1ms/step - loss: 0.0278 - accuracy: 0.9908 - val_loss: 0.1130 - val_accuracy: 0.9750\n",
      "Epoch 11/30\n",
      "1500/1500 [==============================] - 2s 1ms/step - loss: 0.0256 - accuracy: 0.9913 - val_loss: 0.1086 - val_accuracy: 0.9774\n",
      "Epoch 12/30\n",
      "1500/1500 [==============================] - 2s 1ms/step - loss: 0.0210 - accuracy: 0.9930 - val_loss: 0.1197 - val_accuracy: 0.9746\n",
      "Epoch 13/30\n",
      "1500/1500 [==============================] - 2s 1ms/step - loss: 0.0238 - accuracy: 0.9920 - val_loss: 0.1091 - val_accuracy: 0.9773\n",
      "Epoch 14/30\n",
      "1500/1500 [==============================] - 2s 1ms/step - loss: 0.0176 - accuracy: 0.9939 - val_loss: 0.1144 - val_accuracy: 0.9787\n",
      "Epoch 15/30\n",
      "1500/1500 [==============================] - 2s 1ms/step - loss: 0.0189 - accuracy: 0.9938 - val_loss: 0.1380 - val_accuracy: 0.9742\n",
      "Epoch 16/30\n",
      "1500/1500 [==============================] - 2s 1ms/step - loss: 0.0155 - accuracy: 0.9949 - val_loss: 0.1175 - val_accuracy: 0.9799\n",
      "Epoch 17/30\n",
      "1500/1500 [==============================] - 2s 1ms/step - loss: 0.0160 - accuracy: 0.9950 - val_loss: 0.1527 - val_accuracy: 0.9750\n",
      "Epoch 18/30\n",
      "1500/1500 [==============================] - 2s 1ms/step - loss: 0.0157 - accuracy: 0.9950 - val_loss: 0.1334 - val_accuracy: 0.9762\n",
      "Epoch 19/30\n",
      "1500/1500 [==============================] - 2s 1ms/step - loss: 0.0149 - accuracy: 0.9952 - val_loss: 0.1346 - val_accuracy: 0.9778\n",
      "Epoch 20/30\n",
      "1500/1500 [==============================] - 2s 1ms/step - loss: 0.0145 - accuracy: 0.9957 - val_loss: 0.1439 - val_accuracy: 0.9793\n",
      "Epoch 21/30\n",
      "1500/1500 [==============================] - 2s 1ms/step - loss: 0.0155 - accuracy: 0.9954 - val_loss: 0.1419 - val_accuracy: 0.9769\n",
      "Epoch 22/30\n",
      "1500/1500 [==============================] - 2s 1ms/step - loss: 0.0172 - accuracy: 0.9945 - val_loss: 0.1313 - val_accuracy: 0.9796\n",
      "Epoch 23/30\n",
      "1500/1500 [==============================] - 2s 1ms/step - loss: 0.0102 - accuracy: 0.9968 - val_loss: 0.1501 - val_accuracy: 0.9776\n",
      "Epoch 24/30\n",
      "1500/1500 [==============================] - 2s 1ms/step - loss: 0.0153 - accuracy: 0.9957 - val_loss: 0.1455 - val_accuracy: 0.9798\n",
      "Epoch 25/30\n",
      "1500/1500 [==============================] - 2s 1ms/step - loss: 0.0137 - accuracy: 0.9961 - val_loss: 0.1405 - val_accuracy: 0.9786\n",
      "Epoch 26/30\n",
      "1500/1500 [==============================] - 2s 1ms/step - loss: 0.0119 - accuracy: 0.9966 - val_loss: 0.1349 - val_accuracy: 0.9799\n",
      "Epoch 27/30\n",
      "1500/1500 [==============================] - 2s 1ms/step - loss: 0.0105 - accuracy: 0.9972 - val_loss: 0.1770 - val_accuracy: 0.9747\n",
      "Epoch 28/30\n",
      "1500/1500 [==============================] - 2s 1ms/step - loss: 0.0162 - accuracy: 0.9956 - val_loss: 0.1669 - val_accuracy: 0.9760\n",
      "Epoch 29/30\n",
      "1500/1500 [==============================] - 2s 1ms/step - loss: 0.0092 - accuracy: 0.9974 - val_loss: 0.1531 - val_accuracy: 0.9789\n",
      "Epoch 30/30\n",
      "1500/1500 [==============================] - 2s 1ms/step - loss: 0.0114 - accuracy: 0.9965 - val_loss: 0.1477 - val_accuracy: 0.9796\n"
     ]
    }
   ],
   "source": [
    "history = model.fit(x_train, y_train, epochs=30,\n",
    "                   validation_data=(x_valid, y_valid))"
   ]
  },
  {
   "cell_type": "code",
   "execution_count": 57,
   "metadata": {},
   "outputs": [
    {
     "data": {
      "image/png": "[encoded data removed]",
      "text/plain": [
       "<Figure size 432x288 with 1 Axes>"
      ]
     },
     "metadata": {
      "needs_background": "light"
     },
     "output_type": "display_data"
    }
   ],
   "source": [
    "pd.DataFrame(history.history).plot()\n",
    "plt.grid(True)\n",
    "plt.ylim(0,1)\n",
    "plt.show()"
   ]
  },
  {
   "cell_type": "markdown",
   "metadata": {},
   "source": [
    "The model either overfits, or can't converge due to large learning rate or not enough epochs."
   ]
  },
  {
   "cell_type": "code",
   "execution_count": 58,
   "metadata": {},
   "outputs": [
    {
     "name": "stdout",
     "output_type": "stream",
     "text": [
      "313/313 [==============================] - 0s 1ms/step - loss: 0.1456 - accuracy: 0.9787\n"
     ]
    },
    {
     "data": {
      "text/plain": [
       "[0.14564688503742218, 0.9786999821662903]"
      ]
     },
     "execution_count": 58,
     "metadata": {},
     "output_type": "execute_result"
    }
   ],
   "source": [
    "model.evaluate(x_test, y_test)"
   ]
  },
  {
   "cell_type": "markdown",
   "metadata": {},
   "source": [
    "#### Improve model"
   ]
  },
  {
   "cell_type": "markdown",
   "metadata": {},
   "source": [
    "Things to add\n",
    "- add earlystop & tensorboard callbacks\n",
    "- explore learning rate\n",
    "    1. group lr exponentially\n",
    "    2. plot the loss\n",
    "    3. find the point where loss shoots up"
   ]
  },
  {
   "cell_type": "code",
   "execution_count": 244,
   "metadata": {},
   "outputs": [],
   "source": [
    "keras.backend.clear_session()\n",
    "np.random.seed(42)\n",
    "tf.random.set_seed(42)"
   ]
  },
  {
   "cell_type": "code",
   "execution_count": 223,
   "metadata": {},
   "outputs": [],
   "source": [
    "from functools import partial\n",
    "\n",
    "EluDense = partial(keras.layers.Dense,\n",
    "                   activation='elu', \n",
    "                   kernel_initializer = 'he_normal')"
   ]
  },
  {
   "cell_type": "code",
   "execution_count": 245,
   "metadata": {},
   "outputs": [],
   "source": [
    "# model = keras.Sequential()\n",
    "# model.add(keras.layers.Flatten(input_shape=x_train.shape[1:], name='input'))\n",
    "# model.add(EluDense(units=300))\n",
    "# model.add(EluDense(units=100))\n",
    "# model.add(keras.layers.Dense(10, activation='softmax', name='output'))\n",
    "model = keras.Sequential()\n",
    "model.add(keras.layers.Flatten(input_shape=x_train.shape[1:], name='input'))\n",
    "for idx in range(3):\n",
    "    model.add(keras.layers.Dense(100, activation='elu', name=f'dense_{idx+1}'))\n",
    "model.add(keras.layers.Dense(10, activation='softmax', name='output'))"
   ]
  },
  {
   "cell_type": "code",
   "execution_count": 246,
   "metadata": {},
   "outputs": [],
   "source": [
    "initial_lr = 1e-3\n",
    "model.compile(loss=keras.losses.sparse_categorical_crossentropy,\n",
    "             optimizer=keras.optimizers.Adam(lr=initial_lr),\n",
    "             metrics=['accuracy'])"
   ]
  },
  {
   "cell_type": "markdown",
   "metadata": {},
   "source": [
    "#### Define custom callback to change lr per batch"
   ]
  },
  {
   "cell_type": "code",
   "execution_count": 228,
   "metadata": {},
   "outputs": [
    {
     "data": {
      "text/plain": [
       "1.0471285480508996"
      ]
     },
     "execution_count": 228,
     "metadata": {},
     "output_type": "execute_result"
    }
   ],
   "source": [
    "np.exp(np.log(1e6)/300)"
   ]
  },
  {
   "cell_type": "code",
   "execution_count": 247,
   "metadata": {},
   "outputs": [],
   "source": [
    "K = keras.backend\n",
    "\n",
    "class UpdateLearningRateCallback(keras.callbacks.Callback):\n",
    "    def __init__(self, factor):\n",
    "        self.factor = factor\n",
    "        self.rates = []\n",
    "        self.losses = []\n",
    "    def on_batch_end(self, batch, logs):\n",
    "        self.rates.append(K.get_value(self.model.optimizer.lr))\n",
    "        self.losses.append(logs['loss'])   # why training loss not validation loss?\n",
    "        K.set_value(self.model.optimizer.lr, self.model.optimizer.lr * self.factor)\n",
    "        \n",
    "growth_factor = 1.005\n",
    "expon_lr_cb = UpdateLearningRateCallback(factor=growth_factor)"
   ]
  },
  {
   "cell_type": "markdown",
   "metadata": {},
   "source": [
    "#### Run for one epoch and find a better lr"
   ]
  },
  {
   "cell_type": "markdown",
   "metadata": {},
   "source": [
    "Fit the model for one epoch and check the loss per batch to find a good learning rate"
   ]
  },
  {
   "cell_type": "code",
   "execution_count": 248,
   "metadata": {},
   "outputs": [
    {
     "name": "stdout",
     "output_type": "stream",
     "text": [
      "1500/1500 [==============================] - 2s 2ms/step - loss: 110.7575 - accuracy: 0.4416 - val_loss: 99.3013 - val_accuracy: 0.0978\n"
     ]
    }
   ],
   "source": [
    "history = model.fit(x_train, y_train, epochs=1,\n",
    "                   validation_data=(x_valid, y_valid),\n",
    "                   callbacks=[expon_lr_cb])"
   ]
  },
  {
   "cell_type": "code",
   "execution_count": 249,
   "metadata": {},
   "outputs": [
    {
     "data": {
      "text/plain": [
       "Text(0, 0.5, 'learning_rate')"
      ]
     },
     "execution_count": 249,
     "metadata": {},
     "output_type": "execute_result"
    },
    {
     "data": {
      "image/png": "[encoded data removed]",
      "text/plain": [
       "<Figure size 432x288 with 1 Axes>"
      ]
     },
     "metadata": {
      "needs_background": "light"
     },
     "output_type": "display_data"
    }
   ],
   "source": [
    "x_seq = np.arange(0, len(x_train) / 32 + 1, 10)\n",
    "lr_seq = initial_lr * np.power(growth_factor, x_seq)\n",
    "plt.plot(x_seq, lr_seq)\n",
    "plt.title('learning rate growth')\n",
    "plt.xlabel('after x batches')\n",
    "plt.ylabel('learning_rate')"
   ]
  },
  {
   "cell_type": "markdown",
   "metadata": {},
   "source": [
    "We can plot the loss as a function of learning rate."
   ]
  },
  {
   "cell_type": "code",
   "execution_count": 250,
   "metadata": {},
   "outputs": [],
   "source": [
    "lowest_loss_obtained_at = np.argmin(expon_lr_cb.losses)"
   ]
  },
  {
   "cell_type": "code",
   "execution_count": 251,
   "metadata": {},
   "outputs": [
    {
     "data": {
      "image/png": "[encoded data removed]",
      "text/plain": [
       "<Figure size 432x288 with 1 Axes>"
      ]
     },
     "metadata": {
      "needs_background": "light"
     },
     "output_type": "display_data"
    }
   ],
   "source": [
    "plt.plot(expon_lr_cb.rates, expon_lr_cb.losses)\n",
    "plt.gca().set_xscale('log')\n",
    "plt.hlines(min(expon_lr_cb.losses), expon_lr_cb.rates[0], expon_lr_cb.rates[-1], color='g', ls='--',\n",
    "          label = f'best lr = {expon_lr_cb.rates[lowest_loss_obtained_at]:.3f}\\nlowest loss = {min(expon_lr_cb.losses):.3f}')\n",
    "plt.legend(loc='upper left')\n",
    "plt.xlabel('learning rate log scaled')\n",
    "plt.ylabel('loss')\n",
    "plt.show()"
   ]
  },
  {
   "cell_type": "markdown",
   "metadata": {},
   "source": [
    "The loss shoots up around 0.1. So lets try using 0.01 as our learning rate. (a value somewhat smaller than the shotback lr, usually 10 times smaller)"
   ]
  },
  {
   "cell_type": "markdown",
   "metadata": {},
   "source": [
    "#### Fit again with new lr and extra callbacks"
   ]
  },
  {
   "cell_type": "code",
   "execution_count": 252,
   "metadata": {},
   "outputs": [],
   "source": [
    "keras.backend.clear_session()\n",
    "np.random.seed(27)\n",
    "tf.random.set_seed(27)"
   ]
  },
  {
   "cell_type": "code",
   "execution_count": 253,
   "metadata": {},
   "outputs": [],
   "source": [
    "model = keras.Sequential()\n",
    "model.add(keras.layers.Flatten(input_shape=x_train.shape[1:], name='input'))\n",
    "for idx in range(3):\n",
    "    model.add(keras.layers.Dense(100, activation='elu', name=f'dense_{idx+1}'))\n",
    "model.add(keras.layers.Dense(10, activation='softmax', name='output'))"
   ]
  },
  {
   "cell_type": "code",
   "execution_count": 254,
   "metadata": {},
   "outputs": [],
   "source": [
    "better_lr = 0.01\n",
    "model.compile(loss=keras.losses.sparse_categorical_crossentropy,\n",
    "             optimizer=keras.optimizers.Adam(learning_rate=better_lr),\n",
    "             metrics=['accuracy'])"
   ]
  },
  {
   "cell_type": "code",
   "execution_count": 258,
   "metadata": {},
   "outputs": [],
   "source": [
    "run_idx = 1\n",
    "log_dir = os.path.join(os.curdir, 'my_logs', 'run_{:03d}'.format(run_idx))\n",
    "\n",
    "tensorboard_cb = keras.callbacks.TensorBoard(log_dir)\n",
    "early_stopping_cb = keras.callbacks.EarlyStopping(patience=20)\n",
    "checkpoint_cb = keras.callbacks.ModelCheckpoint(\"my_mnist_model.h5\", save_best_only=True)"
   ]
  },
  {
   "cell_type": "code",
   "execution_count": 259,
   "metadata": {},
   "outputs": [
    {
     "name": "stdout",
     "output_type": "stream",
     "text": [
      "Epoch 1/100\n",
      "   1/1500 [..............................] - ETA: 0s - loss: 0.1026 - accuracy: 0.9688WARNING:tensorflow:Callbacks method `on_train_batch_end` is slow compared to the batch time (batch time: 0.0014s vs `on_train_batch_end` time: 0.0044s). Check your callbacks.\n",
      "1500/1500 [==============================] - 2s 1ms/step - loss: 0.1546 - accuracy: 0.9690 - val_loss: 0.2641 - val_accuracy: 0.9499\n",
      "Epoch 2/100\n",
      "1500/1500 [==============================] - 2s 1ms/step - loss: 0.1365 - accuracy: 0.9727 - val_loss: 1.2570 - val_accuracy: 0.9488\n",
      "Epoch 3/100\n",
      "1500/1500 [==============================] - 2s 1ms/step - loss: 0.3136 - accuracy: 0.9601 - val_loss: 0.2198 - val_accuracy: 0.9608\n",
      "Epoch 4/100\n",
      "1500/1500 [==============================] - 2s 1ms/step - loss: 0.2099 - accuracy: 0.9706 - val_loss: 0.4109 - val_accuracy: 0.9535\n",
      "Epoch 5/100\n",
      "1500/1500 [==============================] - 2s 1ms/step - loss: 0.1516 - accuracy: 0.9712 - val_loss: 0.2872 - val_accuracy: 0.9506\n",
      "Epoch 6/100\n",
      "1500/1500 [==============================] - 2s 1ms/step - loss: 0.7057 - accuracy: 0.9645 - val_loss: 0.3100 - val_accuracy: 0.9462\n",
      "Epoch 7/100\n",
      "1500/1500 [==============================] - 2s 1ms/step - loss: 0.1518 - accuracy: 0.9720 - val_loss: 0.2764 - val_accuracy: 0.9617\n",
      "Epoch 8/100\n",
      "1500/1500 [==============================] - 2s 1ms/step - loss: 0.1402 - accuracy: 0.9729 - val_loss: 0.3073 - val_accuracy: 0.9653\n",
      "Epoch 9/100\n",
      "1500/1500 [==============================] - 2s 1ms/step - loss: 0.2232 - accuracy: 0.9666 - val_loss: 0.3729 - val_accuracy: 0.9461\n",
      "Epoch 10/100\n",
      "1500/1500 [==============================] - 2s 1ms/step - loss: 0.1395 - accuracy: 0.9730 - val_loss: 0.2698 - val_accuracy: 0.9617\n",
      "Epoch 11/100\n",
      "1500/1500 [==============================] - 2s 1ms/step - loss: 0.5190 - accuracy: 0.9633 - val_loss: 1.3003 - val_accuracy: 0.9638\n",
      "Epoch 12/100\n",
      "1500/1500 [==============================] - 2s 1ms/step - loss: 0.2878 - accuracy: 0.9709 - val_loss: 0.5149 - val_accuracy: 0.9549\n",
      "Epoch 13/100\n",
      "1500/1500 [==============================] - 2s 1ms/step - loss: 0.2785 - accuracy: 0.9673 - val_loss: 0.4370 - val_accuracy: 0.9567\n",
      "Epoch 14/100\n",
      "1500/1500 [==============================] - 2s 1ms/step - loss: 0.1676 - accuracy: 0.9711 - val_loss: 0.4430 - val_accuracy: 0.9563\n",
      "Epoch 15/100\n",
      "1500/1500 [==============================] - 2s 1ms/step - loss: 0.2471 - accuracy: 0.9688 - val_loss: 0.7346 - val_accuracy: 0.9049\n",
      "Epoch 16/100\n",
      "1500/1500 [==============================] - 2s 1ms/step - loss: 0.1989 - accuracy: 0.9609 - val_loss: 0.5241 - val_accuracy: 0.9528\n",
      "Epoch 17/100\n",
      "1500/1500 [==============================] - 2s 1ms/step - loss: 0.2107 - accuracy: 0.9616 - val_loss: 0.5015 - val_accuracy: 0.9363\n",
      "Epoch 18/100\n",
      "1500/1500 [==============================] - 2s 1ms/step - loss: 0.3431 - accuracy: 0.9582 - val_loss: 0.7952 - val_accuracy: 0.9077\n",
      "Epoch 19/100\n",
      "1500/1500 [==============================] - 2s 1ms/step - loss: 0.3088 - accuracy: 0.9409 - val_loss: 0.5291 - val_accuracy: 0.9365\n",
      "Epoch 20/100\n",
      "1500/1500 [==============================] - 2s 1ms/step - loss: 0.1886 - accuracy: 0.9640 - val_loss: 0.6158 - val_accuracy: 0.9384\n",
      "Epoch 21/100\n",
      "1500/1500 [==============================] - 2s 1ms/step - loss: 0.2749 - accuracy: 0.9602 - val_loss: 0.6111 - val_accuracy: 0.9482\n",
      "Epoch 22/100\n",
      "1500/1500 [==============================] - 2s 1ms/step - loss: 0.1748 - accuracy: 0.9633 - val_loss: 0.8266 - val_accuracy: 0.9515\n",
      "Epoch 23/100\n",
      "1500/1500 [==============================] - 2s 1ms/step - loss: 0.2366 - accuracy: 0.9581 - val_loss: 1.6410 - val_accuracy: 0.9350\n"
     ]
    }
   ],
   "source": [
    "history = model.fit(x_train, y_train, epochs=100,\n",
    "                   validation_data=(x_valid, y_valid),\n",
    "                   callbacks=[tensorboard_cb, early_stopping_cb, checkpoint_cb])"
   ]
  },
  {
   "cell_type": "markdown",
   "metadata": {},
   "source": [
    "**I am quite lost. How can validate accuracy be so much better than test accuracy?**"
   ]
  },
  {
   "cell_type": "code",
   "execution_count": 261,
   "metadata": {},
   "outputs": [
    {
     "name": "stdout",
     "output_type": "stream",
     "text": [
      "313/313 [==============================] - 0s 728us/step - loss: 0.2382 - accuracy: 0.0947\n"
     ]
    },
    {
     "data": {
      "text/plain": [
       "[0.23824624717235565, 0.09470000118017197]"
      ]
     },
     "execution_count": 261,
     "metadata": {},
     "output_type": "execute_result"
    }
   ],
   "source": [
    "model = keras.models.load_model(\"my_mnist_model.h5\") # rollback to best model\n",
    "model.evaluate(x_test, y_test)"
   ]
  },
  {
   "cell_type": "code",
   "execution_count": null,
   "metadata": {},
   "outputs": [],
   "source": []
  }
 ],
 "metadata": {
  "kernelspec": {
   "display_name": "Python 3",
   "language": "python",
   "name": "python3"
  },
  "language_info": {
   "codemirror_mode": {
    "name": "ipython",
    "version": 3
   },
   "file_extension": ".py",
   "mimetype": "text/x-python",
   "name": "python",
   "nbconvert_exporter": "python",
   "pygments_lexer": "ipython3",
   "version": "3.7.8"
  }
 },
 "nbformat": 4,
 "nbformat_minor": 4
}
